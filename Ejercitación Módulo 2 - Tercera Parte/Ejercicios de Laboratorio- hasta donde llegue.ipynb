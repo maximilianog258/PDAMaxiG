{
 "cells": [
  {
   "cell_type": "markdown",
   "id": "6c5bce21",
   "metadata": {},
   "source": [
    "# <center> <span style='color:#3A40A2 '>Ejercitación Módulo 2 - 3ra parte</span></center>\n",
    "<hr style=\"border:1px solid gray\"> </hr>\n",
    "\n",
    "La siguiente notebook contiene ejercitación del Módulo 2 de la Unidad Curricular ***\"Programación Digital Avanzada\"*** de la carrera de *Ingeniería Biomédica* de la UTEC.\n",
    "\n",
    "La *primera parte* y la *segunda parte* de esta notebook serán utilizadas para ejercitación. Por otro lado, la *tercera parte* será utilizada para el laboratorio del módulo y **se debe entregar** resuelta en una Jupyter Notebbok (puede ser esta misma). Además debe subirse la resolución a su repositorio de PDA en github.\n",
    "\n",
    "Profesor Adjunto: *Mag. Bioing. Baldezzari Lucas*\n",
    "\n",
    "<p style='text-align: right;'> V2022 </p>"
   ]
  },
  {
   "cell_type": "markdown",
   "id": "17315869",
   "metadata": {},
   "source": [
    "<hr style=\"border:1px solid gray\"> </hr>\n",
    "\n",
    "## <span style='color:#3A40A2 '> Tercera parte </span>\n",
    "\n",
    "Esta parte corresponde a ejercicios obligatorios que deben ser entregados.\n",
    "\n",
    "Se trabajará sobre estos problemas en la clase de Laboratorio."
   ]
  },
  {
   "cell_type": "markdown",
   "id": "0de98cfc",
   "metadata": {},
   "source": [
    "##### Ejercicio 3.1\n",
    "\n",
    "Implemente una función que reciba como parámetro una muestra de números (enteros o flotantes) y retorne una lista con los valores *outliers* o *atípicos*. En caso de que no existan valores atípicos, la función debe retornar None.\n",
    "\n",
    "Los outliers se calculan de la siguiente manera.\n",
    "\n",
    "$$ outlier < Q_1 - 1.5RIC \\vee outlier > Q_3 + 1.5RIC $$\n",
    "\n",
    "Donde $RIC$ representa el *Rango Intercuartil* y esta dado por $RIC = Q_3 - Q_1$."
   ]
  },
  {
   "cell_type": "code",
   "execution_count": 1,
   "id": "1c4821ce",
   "metadata": {},
   "outputs": [
    {
     "name": "stdout",
     "output_type": "stream",
     "text": [
      "('Los valores outliers son: ', [-500, 500, 1500, 480, -60, 10000])\n"
     ]
    }
   ],
   "source": [
    "### Resolución ejercicio 3.1\n",
    "##TO DO\n",
    "def atipicos(numeros):\n",
    "    listaout=[]\n",
    "    orden=(sorted(numeros))\n",
    "    cant=len(orden)\n",
    "    indexq1=int(1*(cant+1)/4)\n",
    "    indexq3=int(3*(cant+1)/4)\n",
    "    Q1=orden[indexq1-1]\n",
    "    Q3=orden[indexq3-1]\n",
    "    ric=indexq3-indexq1\n",
    "    for i in numeros:\n",
    "        if i < Q1 - 1.5*ric or i>Q3+1.5*ric:\n",
    "            listaout.append(i)\n",
    "    return \"Los valores outliers son: \",listaout\n",
    "\n",
    "numeros=[1,2,4,3,5,6,7,9,10,11,12,4,9,10,-500,500,1500,480,-60,10000]\n",
    "print(atipicos(numeros))"
   ]
  },
  {
   "cell_type": "markdown",
   "id": "37c8b395",
   "metadata": {},
   "source": [
    "##### Ejercicio 3.2\n",
    "\n",
    "La función *[sum()](https://docs.python.org/3/library/functions.html#sum)* de Python permite sumar una secuencia de números.\n",
    "\n",
    "Su implementación es,\n",
    "\n",
    "```Python\n",
    "sum(iterable, start)\n",
    "```\n",
    "\n",
    "Como se ve, solo recibe dos parámetros. Si hacemos, \n",
    "\n",
    "```Python\n",
    "sum([1,2,3]) #obtenemos 6 de resultado.\n",
    "```\n",
    "\n",
    "Pero si quisieramos hacer *sum(1,2,3,4)* obtendríamos un error.\n",
    "\n",
    "Se pide que implemente una función suma de tal manera que pueda recibir cualquier cantidad de parámetros (1,2,...,n) y retorne la suma de los mismos. Los parámetros solo pueden ser números enteros o flotantes separados por coma."
   ]
  },
  {
   "cell_type": "code",
   "execution_count": 3,
   "id": "9c7d2e78",
   "metadata": {},
   "outputs": [
    {
     "data": {
      "text/plain": [
       "36"
      ]
     },
     "execution_count": 3,
     "metadata": {},
     "output_type": "execute_result"
    }
   ],
   "source": [
    "### Resolución ejercicio 3.2\n",
    "### TO do\n",
    "# inicio del programa\n",
    "\n",
    "# num= int(input(\"Ingrese los numeros que desea sumar:\" ))#Crear una variable que ingrese los valores que el usuario desea sumar\n",
    "# def funsum(num):\n",
    "#     ini=0\n",
    "#     fin=0\n",
    "#     while num != 0: #Un bucle que inicia si el numero ingresado es diferente de 0\n",
    "#         fin= num % 10 #se obtiene el valor del ultimo digito\n",
    "#         num= num//10 # en este caso elimino el ultimo digito del numero ingresado y se guarda en la variable\n",
    "#         ini+=fin #Se agrega y se suma el valor del ultimo digito\n",
    "#     return \"La suma de los digitos es: \", ini #Se imprime el valor total\n",
    "# print(funsum(num))\n",
    "\n",
    "\n",
    "def suma(*args):\n",
    "    return sum(args)\n",
    "suma(1,2,3,4,5,6,7,8)"
   ]
  },
  {
   "cell_type": "code",
   "execution_count": 2,
   "id": "0d01e2ce",
   "metadata": {},
   "outputs": [
    {
     "data": {
      "text/plain": [
       "36"
      ]
     },
     "execution_count": 2,
     "metadata": {},
     "output_type": "execute_result"
    }
   ],
   "source": [
    "def suma(*args):\n",
    "    return sum(args)\n",
    "suma(1,2,3,4,5,6,7,8)"
   ]
  },
  {
   "cell_type": "markdown",
   "id": "b6b9f121",
   "metadata": {},
   "source": [
    "##### Ejercicio 3.3\n",
    "\n",
    "Implemente una función que devuelva el índice de masa corporal. La función recibe como parámetros una lista con las alturas en $cm$ y una lista con los pesos en $kg$ de una cierta cantidad de personas.\n",
    "\n",
    "Implemente la solución utilizando comprensión de listas e/o intente dar una solución usando funciones lambdas con la función map() de Python."
   ]
  },
  {
   "cell_type": "code",
   "execution_count": 4,
   "id": "5d6702f8",
   "metadata": {},
   "outputs": [
    {
     "name": "stdout",
     "output_type": "stream",
     "text": [
      "Los valores del calculo de imc son: [29.59, 28.89, 27.34, 25.95, 16.67, 18.61] \n"
     ]
    }
   ],
   "source": [
    "### Resolución Ejercicio 3.3\n",
    "\n",
    "peso=[50,65,70,75,54,63,52] #Lista de pesos en kg\n",
    "altu=[130,150,160,170,180,184,190] #Lista de alturas en cm \n",
    "def calcuIMC(peso,altu):\n",
    "    \"\"\" \n",
    "    Esta funcion calcula el indice de masa corporal con la siguiente \n",
    "    funcion (IMC = peso [kg]/ estatura [m2])\n",
    "    Se utilizan los parametros peso, altu\n",
    "    \"\"\"\n",
    "    calculo=[] #Se crea una lista vacia para los valores del calculo\n",
    "    for i in range(len(peso)-1):  \n",
    "        imc=(peso[i]/(((altu[i])/100)**2)) \n",
    "        calculo.append(round(imc,2)) #Se le agrega el valor imc a la lista calculo \n",
    "    \n",
    "    return f\"Los valores del calculo de imc son: {calculo} \"\n",
    "\n",
    "print(calcuIMC(peso,altu))"
   ]
  },
  {
   "cell_type": "markdown",
   "id": "5862b855",
   "metadata": {},
   "source": [
    "##### Ejercicio 3.4\n",
    "\n",
    "Implemente una función llamada *mathOperations* que reciba como parámetros,\n",
    "- Un string con la operación a realizar, \"sumar\" para sumar, \"restar\" para restar, \"dividir\" para dividir y \"multiplicar\" para multiplicar.\n",
    "- Y dos variables numéricas que se usarán para realizar la operación matemática seleccionada.\n",
    "\n",
    "La función debe devolver un resultado dependiendo de la operación seleccionada.\n",
    "\n",
    "La implementación de la función debe contener anotaciones y documentación apropiada."
   ]
  },
  {
   "cell_type": "code",
   "execution_count": 5,
   "id": "6d787c0d",
   "metadata": {},
   "outputs": [
    {
     "name": "stdout",
     "output_type": "stream",
     "text": [
      "Ingrese la operacion que desea realizar(en minusculas):suma\n",
      "Ingrese el primer valor,3\n",
      "Ingrese el segundo valor,4\n",
      "La operacion fue una suma, el resultado es: 7\n",
      "Gracias por utilizar esta calculadora\n"
     ]
    }
   ],
   "source": [
    "### Resolución ejercicio 3.4\n",
    "\"\"\"\n",
    "1° Intentare realizar una funcion que dentro contenga las diferentes operaciones a realizar\n",
    "\"\"\"\n",
    "operacion= input(\"Ingrese la operacion que desea realizar(en minusculas):\")\n",
    "a= int(input(\"Ingrese el primer valor,\"))\n",
    "b= int(input(\"Ingrese el segundo valor,\"))\n",
    "\"\"\"\n",
    "2° A partir de estos valores ingresados por el usuario, relizare la funcion calculadora\n",
    "\"\"\"\n",
    "def mathOperations(operacion,a,b):\n",
    "    s=str(\"suma\")\n",
    "    r=str(\"resta\")\n",
    "    d=str(\"dividir\")\n",
    "    \"\"\"\n",
    "    3° Defino las cadenas que se deden respetar\n",
    "    \"\"\"\n",
    "    if operacion==s: #Pregunto que tipo de operacion fue ingresada\n",
    "        resultados=a+b  #Realizo la accion\n",
    "        print(\"La operacion fue una suma, el resultado es:\", resultados) #Imprimo el resultado\n",
    "    elif operacion==r:\n",
    "        resultador=a-b\n",
    "        print(\"La operacion fue una resta, el resultado es:\", resultador)\n",
    "    elif operacion==d:\n",
    "        resultadod=a/b\n",
    "        print(\"La operacion fue una dividir, el resultado es:\", resultadod)\n",
    "    else:\n",
    "        resultadom=a*b\n",
    "        print(\"La operacion fue una multiplicacion, el resultado es:\", resultadom)\n",
    "\n",
    "    return(\"Gracias por utilizar esta calculadora\")\n",
    "print(mathOperations(operacion,a,b))"
   ]
  },
  {
   "cell_type": "markdown",
   "id": "b9f3d129",
   "metadata": {},
   "source": [
    "##### Ejercicio 3.5\n",
    "\n",
    "El número $\\pi$ puede aproximarse con la siguiente fórmula de aproximación,\n",
    "\n",
    "\\begin{equation*}\n",
    "\\pi = 3+ 4 \\sum _ { n = 2,4,6...; k=0,1,2.. } ^ { N,K } (-1)^k \\left[ \\frac {1}{n (n+1) (n+2)} \\right]\n",
    "\\end{equation*}\n",
    "\n",
    "Implemente una función que reciba como argumento la cantidad de aproximaciones *$N$* a realizar y retorne el valor de la aproximación.\n",
    "\n",
    "La implementación de la función debe contener anotaciones y documentación apropiada.\n",
    "\n",
    "NOTA: El valor de $k$ sirve para alternar el signo del término $(-1)^k$."
   ]
  },
  {
   "cell_type": "code",
   "execution_count": 6,
   "id": "8b80fb8c",
   "metadata": {},
   "outputs": [
    {
     "data": {
      "text/plain": [
       "('El valor de pi es', 3.141576685435031)"
      ]
     },
     "execution_count": 6,
     "metadata": {},
     "output_type": "execute_result"
    }
   ],
   "source": [
    "## Resolución Ejercicio 3.5\n",
    "\"\"\"\n",
    "Se realiza el calculo de pi con la ecuacion planteada\n",
    "\"\"\"\n",
    "N=list(range(2,50,2)) #Defino la lista N\n",
    "k=list(range(0,len(N))) #Defino la lista k\n",
    "def calculodepi(N,k): \n",
    "    compli=0\n",
    "    for i in k: #Un ciclo for para el calculo de la sumatoria\n",
    "        compli=compli+((-1)**k[i])*((1)/((N[i]*(N[i]+1))*(N[i]+2)))\n",
    "    pi=3+4*compli #Valor total de pi\n",
    "    return \"El valor de pi es\", pi\n",
    "\n",
    "calculodepi(N,k)\n",
    "\n",
    "    "
   ]
  },
  {
   "cell_type": "markdown",
   "id": "99326d18",
   "metadata": {},
   "source": [
    "##### Ejercicio 3.6\n",
    "\n",
    "En criptografía, el cifrado César, también conocido como cifrado por desplazamiento, código de César o desplazamiento de César, es una de las técnicas de cifrado más simples conocidas. Es un tipo de cifrado por sustitución en el que una letra en el texto original es reemplazada por otra letra que se encuentra un número fijo de posiciones más adelante en el alfabeto. Por ejemplo, con un desplazamiento de 3, la A sería sustituida por la D (situada 3 lugares a la derecha de la A), la B sería reemplazada por la E, etc. Este método debe su nombre a Julio César, que lo usaba para comunicarse con sus generales. Fuente [Wikipedia](https://es.wikipedia.org/wiki/Cifrado_C%C3%A9sar).\n",
    "\n",
    "Debe implementar,\n",
    "- Una función que se llame *codificar()* que reciba un mensaje y la cantidad de desplazamientos a realizar (la función debe tener este parametro con un valor por defecto para el caso de que el usuario no otorge un valor). La función debe retornar un mensaje encriptado.\n",
    "- Una función que se llame *decodificar* que reciba como argumento la cantidad de desplazamientos a realizar (la función debe tener este parametro con un valor por defecto para el caso de que el usuario no otorge un valor). La función debe retornar un mensaje desencriptado.\n",
    "\n",
    "La implementación de la función debe contener anotaciones y documentación apropiada."
   ]
  },
  {
   "cell_type": "code",
   "execution_count": 10,
   "id": "b81b07f0",
   "metadata": {},
   "outputs": [
    {
     "name": "stdout",
     "output_type": "stream",
     "text": [
      "ingrese el texto que desea cifrar: daniel\n",
      "Valor de desplazamiento: 2\n",
      "texto cifrado:  fcokgnl\n",
      "Ingrese el texto que desea decodificar: fcokgnl\n",
      "Valor de desplazamiento: 2\n",
      "texto cifrado:  danielj\n"
     ]
    }
   ],
   "source": [
    "## Resolución Ejercicio 3.6\n",
    "##TO DO\n",
    "\"\"\"\n",
    "Creare una funcion que realice el cifrado de mensajes y luego decifrado de los mismos\n",
    "\n",
    "\"\"\"\n",
    "text=input(\"ingrese el texto que desea cifrar: \")\n",
    "k=int (input (\"Valor de desplazamiento: \"))\n",
    "\n",
    "def cifrado(text,k):\n",
    "    if text==text.upper () : #PARA MAYUSCULAS\n",
    "        abc=\"ABCDEFGHIJKLMNÑOPQRSTUVWXYZ\"\n",
    "    else:\n",
    "        abc=\"abcdefghijklmnñopqrstuvwxyz\"\n",
    "    cifrad=\"\"\n",
    "    for c in text:\n",
    "        if c in abc:\n",
    "            cifrad += abc[(abc.index(c)+k%(len(abc)))]\n",
    "    else:\n",
    "        cifrad+=c\n",
    "    print(\"texto cifrado: \",cifrad) \n",
    "    \n",
    "cifrado(text,k)\n",
    "\n",
    "textdec=input(\"Ingrese el texto que desea decodificar: \")\n",
    "n=int(input (\"Valor de desplazamiento: \"))\n",
    "\n",
    "def decifrado(textdec,n):\n",
    "    if text==textdec.upper () : #PARA MAYUSCULAS\n",
    "        abc=\"ABCDEFGHIJKLMNÑOPQRSTUVWXYZ\"\n",
    "    else:\n",
    "        abc=\"abcdefghijklmnñopqrstuvwxyz\"\n",
    "        decifrad=\"\"\n",
    "    for c in textdec:\n",
    "        if c in abc:\n",
    "            decifrad += abc[(abc.index(c)-k%(len(abc)))]\n",
    "        else:\n",
    "            decifrad+=c\n",
    "    print(\"texto cifrado: \",decifrad)\n",
    "decifrado(textdec,n)\n",
    "    "
   ]
  },
  {
   "cell_type": "markdown",
   "id": "a2b06185",
   "metadata": {},
   "source": [
    "##### Ejercicio 3.7\n",
    "\n",
    "Una ruleta posee una rueda con 38 espacios. De estos espacios, 18 son negros, 18 son rojos y dos son verdes. Los espacios verdes están numerados cómo 0 y 00 (por simplicidad tomar sólo 0 como posible apuesta).\n",
    "\n",
    "Los espacios rojos en la ruleta están numerados 1, 3, 5, 7, 9, 12, 14, 16, 18, 19, 21, 23, 25, 27, 30 32, 34 y 36. El resto de los números son de color negro.\n",
    "\n",
    "Es posible realizar muchas apuestas en un juego de ruleta convencional, no obstante, para este ejercicio considere las siguientes:\n",
    "\n",
    "- Números simples (1 a 36, y 0)\n",
    "- Negras vs Rojas\n",
    "- Pares vs Impares (el 0 no debe considerarse dentro de esta apuesta)\n",
    "- 1 a 18 vs 19 a 36.\n",
    "\n",
    "Implemente una función que reciba como argumento una apuesta (número entero) entre 0 y 36. La función debe generar un número entero aleatorio (use las funciones de la librería *random*) y devolver un mensaje donde se informe que apuestas deben pagarse al jugador, por ejemplo,\n",
    "\n",
    "```Python\n",
    "print(juegoRuleta(apuesta = 14))\n",
    "```\n",
    "\n",
    "Si el número aleatorio generado es el 14, el mensaje retornado debería ser similar a:\n",
    "\n",
    "- Pagar al 14\n",
    "- Pagar rojas\n",
    "- Pagar pares\n",
    "- Pagar 1 a 18\n",
    "\n",
    "Si el número aleatorio generado es el 23, el mensaje retornado debería ser similar a:\n",
    "\n",
    "- Pagar rojas\n",
    "\n",
    "\n",
    "La implementación de la función debe contener anotaciones y documentación apropiada."
   ]
  },
  {
   "cell_type": "code",
   "execution_count": 8,
   "id": "31709ffa",
   "metadata": {},
   "outputs": [
    {
     "name": "stdout",
     "output_type": "stream",
     "text": [
      "A que numero desea apostar? 12\n",
      "El numero es: 16\n",
      "Pagar a Rojas\n",
      "Pagar al 16 , el valor esta de 1 a 18\n",
      "Pagar a pares\n"
     ]
    },
    {
     "data": {
      "text/plain": [
       "'Gracias por apostar!]'"
      ]
     },
     "execution_count": 8,
     "metadata": {},
     "output_type": "execute_result"
    }
   ],
   "source": [
    "\"\"\"\n",
    "Para la resolucion de este ejercicio hare la definiciones de los diferentes \n",
    "casilleros de la ruleta respresentado por un numero, donde Los espacios verdes \n",
    "están numerados cómo: 0 y 00 (por simplicidad tomar sólo 0 como posible apuesta).\n",
    "Los espacios rojos en la ruleta están numerados: \n",
    "1, 3, 5, 7, 9, 12, 14, 16, 18, 19, 21, 23, 25, 27, 30 32, 34 y 36. \n",
    "El resto de los números son de color negro.\n",
    "\"\"\"\n",
    "import random\n",
    "apuesta= int(input(\"A que numero desea apostar? \"))\n",
    "rando = random.randint(0, 36)\n",
    "def JuegoRuleta(apuesta,rando):\n",
    "    verdes = [0]\n",
    "    rojas = [1, 3, 5, 7, 9, 12, 14, 16, 18, 19, 21, 23, 25, 27, 30, 32, 34, 36]\n",
    "    negras = [2, 4, 6, 8, 10, 11, 13, 15, 17, 20, 22, 24, 26, 28, 29, 31, 33, 35]\n",
    "    print(\"El numero es:\", rando)\n",
    "    if apuesta==rando:\n",
    "        print(\"Pagar al:\",apuesta)\n",
    "    if rando in rojas:\n",
    "        print(\"Pagar a Rojas\")\n",
    "    if rando in negras:\n",
    "        print(\"Pagar a Negras\")\n",
    "    if rando in verdes:\n",
    "        print(\"El color es verde\")\n",
    "    if rando<=18 and rando>1:\n",
    "        print(\"Pagar al\", rando,\", el valor esta de 1 a 18\")\n",
    "    if rando%2 == 0: \n",
    "        print(\"Pagar a pares\")\n",
    "    return \"Gracias por apostar!]\"\n",
    "\n",
    "JuegoRuleta(apuesta,rando)\n"
   ]
  },
  {
   "cell_type": "markdown",
   "id": "16681842",
   "metadata": {},
   "source": [
    "##### Ejercicio 3.8\n",
    "\n",
    "1. Implemente una función que reciba como parámetro una lista de palabras y devuelva una lista de las posibles combinaciones de a dos. La lista retornada debe contener las tuplas correspondientes a la combinación de dos palabras. Por ejemplo, si la lista es,\n",
    "\n",
    "```Python\n",
    "palabras = [\"ing\", \"bio\", \"bci\"]\n",
    "```\n",
    "\n",
    "La función debe retornar algo similar a:\n",
    "\n",
    "```Python\n",
    ">> [(\"ing\",\"bio\"), (\"ing\",\"bci\"), (\"bio\",\"bci\")]\n",
    "```\n",
    "\n",
    "Recuerde que en combinación **no** importa el orden.\n",
    "\n",
    "2. Luego intente implementar lo mismo utilizando *list comprehension* y utilizando la función *[combinations](https://docs.python.org/3/library/itertools.html#itertools.combinations)* de la librería *[itertools](https://docs.python.org/3/library/itertools.html)*. Para usar esta herramienta debe importar la librería o bien el método, haciendo,\n",
    "\n",
    "```Python\n",
    "from itertools import combinations\n",
    "```\n",
    "\n",
    "La implementación de la función debe contener anotaciones y documentación apropiada."
   ]
  },
  {
   "cell_type": "code",
   "execution_count": null,
   "id": "babffacb",
   "metadata": {},
   "outputs": [],
   "source": [
    "\"\"\"\n",
    "Se implementara una funcion que devuelva las posibles combinaciones de a dos\n",
    "de lo que se ingrese a la funcion\n",
    "\n",
    "\"\"\"\n",
    "def combinaciones(palabaras):\n",
    "    \"\"\"\n",
    "    Defino una lista vacia donde ire colocando las posibles combinaciones \n",
    "    \"\"\"\n",
    "    listavacia = []\n",
    "    \n"
   ]
  },
  {
   "cell_type": "code",
   "execution_count": 1,
   "id": "a3e03a70",
   "metadata": {},
   "outputs": [
    {
     "name": "stdout",
     "output_type": "stream",
     "text": [
      "('A', 'B', 'C', 'D')\n"
     ]
    }
   ],
   "source": [
    "\n",
    "## Resolución Ejercicio 3.8\n",
    "iterable= \"ABCD\"\n",
    "pool = tuple(iterable)\n",
    "print(pool)"
   ]
  },
  {
   "cell_type": "markdown",
   "id": "977d6306",
   "metadata": {},
   "source": [
    "##### Ejercicio 3.9\n",
    "\n",
    "Implemente una función que reciba una lista de elementos enteros, o flotantes, o strings (podría ser una lista con elementos del mismo tipo o bien una mezcla de estos) y retorne una lista con los elementos sin repetir.\n",
    "\n",
    "Como ejemplo, si la lista es *[1,2,3,4,5,5,6,7,7,1,2,8,9,9]* la función debe retornar *[1,2,3,4,5,6,7,8]*.\n",
    "\n",
    "La implementación de la función debe contener anotaciones y documentación apropiada."
   ]
  },
  {
   "cell_type": "code",
   "execution_count": 89,
   "id": "ea952473",
   "metadata": {},
   "outputs": [
    {
     "name": "stdout",
     "output_type": "stream",
     "text": [
      "[1, 2, 3, 4, 5, 6, 7, 8, 9]\n"
     ]
    },
    {
     "data": {
      "text/plain": [
       "'bien pibe bieeeen vamo nosotro'"
      ]
     },
     "execution_count": 89,
     "metadata": {},
     "output_type": "execute_result"
    }
   ],
   "source": [
    "\"\"\"Primero creare una lista con valores repetidos y luego hare una funcion que\n",
    "elimine los valores repetidos de la lista creando una nueva\"\"\"\n",
    "\n",
    "listarota=[1,2,3,4,5,5,6,7,7,1,2,8,9,9]\n",
    "\n",
    "def listabien(listarota):\n",
    "    listaok=[]\n",
    "    for i in listarota:\n",
    "        if i not in listaok:\n",
    "            listaok.append(i)\n",
    "    print(listaok)\n",
    "    return (\"bien pibe bieeeen vamo nosotro\")\n",
    "listabien(listarota)"
   ]
  },
  {
   "cell_type": "markdown",
   "id": "91030ed9",
   "metadata": {},
   "source": [
    "##### Ejercicio 3.10\n",
    "\n",
    "Implemente una función que retorne un diccionario con los datos de un equipo médico. La función debe tener como parámetros fijos un nombre genérico del equipo y el área donde se encuentra, además de ser necesario, se le pasarán a la función una mayor cantidad de datos referentes al equipo. A modo de ejemplo el pasaje de argumentos puede ser,\n",
    "\n",
    "```Python\n",
    "equipo1 = datosEquipo(equipo = \"Respirador\", area = \"Neonatología\")\n",
    "\n",
    "equipo2 = datosEquipo(equipo = \"Respirador\", area = \"UCI\",\n",
    "                      coment = \"Alarma de presión de O2 no se apaga\",\n",
    "                      responsable = \"deja el equipo Mengano\")\n",
    "\n",
    "equipo3 = datosEquipo(equipo = \"Bomba infusión\", area = \"uti\",\n",
    "                      comentario = \"Necesitamos el equipo urgente\",\n",
    "                      falla = \"equipo no enciende o se apaga luego de algunas horas de uso\",\n",
    "                      personaResponsable = \"Dra. Sierra\",\n",
    "                      infoAdicional = \"No había nadie en biomédica\")\n",
    "```\n",
    "\n",
    "La implementación de la función debe contener anotaciones y documentación apropiada."
   ]
  },
  {
   "cell_type": "code",
   "execution_count": 2,
   "id": "09b8ae56",
   "metadata": {},
   "outputs": [],
   "source": [
    "def datosEquipo(equipo= None , area= None, **datos):\n",
    "    datos['Equipo'] = equipo  #con la clave 'Equipo' se ingresará el nombre del equipo\n",
    "    datos['Área'] = area #con la clave 'Área' se ingreará el nombre del área donde estará el equipo\n",
    "    return datos\n"
   ]
  },
  {
   "cell_type": "code",
   "execution_count": 3,
   "id": "2b3d2d3a",
   "metadata": {},
   "outputs": [
    {
     "data": {
      "text/plain": [
       "{'coment': 'Esta roto GIL',\n",
       " 'personalresponsable': 'Juan Mecanico',\n",
       " 'infoadd': 'Cheto maal',\n",
       " 'Equipo': 'Respirador',\n",
       " 'Área': 'Neonatología'}"
      ]
     },
     "execution_count": 3,
     "metadata": {},
     "output_type": "execute_result"
    }
   ],
   "source": [
    "datosEquipo(equipo = \"Respirador\", area = \"Neonatología\", coment=\"Esta roto GIL\", personalresponsable=\"Juan Mecanico\", infoadd=\"Cheto maal\")\n",
    "\n"
   ]
  },
  {
   "cell_type": "markdown",
   "id": "36015ec2",
   "metadata": {},
   "source": [
    "##### Ejercicio 3.11\n",
    "\n",
    "Implemente una función que calcule la raíz cuadrada de un número entero utilizando el método de aproximaciones de Newton, el cual es,\n",
    "\n",
    "\\begin{equation*}\n",
    "\\sqrt a = \\frac{x + \\frac{a}{x}}{2}\n",
    "\\end{equation*}\n",
    "\n",
    "Donde, \n",
    "\n",
    "- *x* es una *estimación* o *aproximación* conocida de la raíz cuadrada. En general puede asumirse *x = 1* o *x = a*.\n",
    "\n",
    "La función a implementar debe recibir,\n",
    "\n",
    "- Un número entero *a* para estimar su raíz cuadrada.\n",
    "- Un número entero *n* que representa la cantidad de iteraciones a realizar para aproximar la raíz de *a*. Por defecto hacer n = 10.\n",
    "\n",
    "La función debe retornar\n",
    "\n",
    "- Una lista con cada uno de los cálculos realizados en cada iteración\n",
    "- El valor calculado de la última iteración.\n",
    "- El valor de la raiz cuadrada de *a* utilizando el método *sqrt* de la librería *math* (para comparación).\n",
    "\n",
    "La implementación de la función debe contener anotaciones y documentación apropiada."
   ]
  },
  {
   "cell_type": "code",
   "execution_count": 12,
   "id": "fc28012e",
   "metadata": {},
   "outputs": [
    {
     "name": "stdout",
     "output_type": "stream",
     "text": [
      "ingrese el valor del numero el cual quieres hallar la raiz cuadrada25\n",
      "13.0\n",
      "7.461538461538462\n",
      "5.406026962727994\n",
      "5.015247601944898\n",
      "5.000023178253949\n",
      "5.000000000053722\n",
      "5.0\n",
      "5.0\n",
      "5.0\n",
      "[13.0, 7.461538461538462, 5.406026962727994, 5.015247601944898, 5.000023178253949, 5.000000000053722, 5.0, 5.0, 5.0]\n",
      "5.0\n",
      "el valor de la raiz por libreria es 5.0\n"
     ]
    }
   ],
   "source": [
    "## Resolución Ejercicio 3.11\n",
    "##TO DO \n",
    "\"\"\"\n",
    "Realizare el calculo de la raiz cuadrada de un numero entero\n",
    "\"\"\"\n",
    "from math import sqrt\n",
    "\n",
    "a=int(input(\"ingrese el valor del numero el cual quieres hallar la raiz cuadrada\"))\n",
    "def raizcuadrada(a):\n",
    "    x=a\n",
    "    lista=[]\n",
    "    n=10\n",
    "    for i in range(1,10):\n",
    "        if i==n:\n",
    "            break\n",
    "        raizcuad=((x+((a)/x))/(2))\n",
    "        x=raizcuad\n",
    "        print(x)\n",
    "        lista.append(x)\n",
    "    print(lista)\n",
    "    print(x)\n",
    "    print(\"el valor de la raiz por libreria es\", sqrt(a))\n",
    "raizcuadrada(a)"
   ]
  },
  {
   "cell_type": "markdown",
   "id": "37d063be",
   "metadata": {},
   "source": [
    "##### Ejercicio 3.12\n",
    "\n",
    "Implemente una función que reciba como parámetros un número *n* de diccionarios. Asuma que los diccionarios pasados como parámetros poseen un *key* y elementos numéricos (enteros o flotantes).\n",
    "\n",
    "La función debe retornar un diccionario nuevo con la suma de los elementos correspondientes a los keys iguales.\n",
    "\n",
    "Por ejemplo,\n",
    "\n",
    "```Python\n",
    "dic1 = {'key1': 10, 'key2': 20, 'key3':30}\n",
    "dic2 = {'key1': 30, 'key3': 20, 'key4':40}\n",
    "\n",
    "dic3 = miFunc(d1,d2)\n",
    "print(dic3)\n",
    "# El dic3 debe ser de la forma {'key1': 40, 'key2': 20, 'key3': 50, 'key4': 40}\n",
    "```"
   ]
  },
  {
   "cell_type": "code",
   "execution_count": 6,
   "id": "267a611e",
   "metadata": {},
   "outputs": [],
   "source": [
    "\"\"\"\n",
    "Se realiza una funcion que determine la suma de los keys iguales de cada diccionario\n",
    "\"\"\"\n",
    "\n",
    "def sumadiccionario(*args):\n",
    "    diccontras = {}\n",
    "    \n",
    "    for diccionario in args:\n",
    "        for i in diccionario.keys():\n",
    "            if i in diccontras.keys():\n",
    "                diccontras[i]= diccontras[i]+diccionario[i] #Se suma la variable que tenga el mismo key\n",
    "        else:\n",
    "            diccontras[i]= diccionario[i] #Si no existe otra key igual no se suma\n",
    "    return diccontras #Retorna el set diccontras\n",
    "\n"
   ]
  },
  {
   "cell_type": "code",
   "execution_count": null,
   "id": "3473cb30",
   "metadata": {},
   "outputs": [],
   "source": [
    "dic1 = {'key1': 10, 'key2': 20, 'key3':30}\n",
    "dic2 = {'key1': 30, 'key3': 20, 'key4':40}\n",
    "dic3 = {'key1': 10, 'key2': 20, 'key3':30}\n",
    "dic4 = {'key1': 30, 'key3': 20, 'key4':40}\n",
    "d5 = {\"key1\": 10, \"key4\":100, \"key5\": 50}\n",
    "\n",
    "sumadiccionario(dic1, dic2, dic3, dic4, d5)"
   ]
  },
  {
   "cell_type": "markdown",
   "id": "c953298e",
   "metadata": {},
   "source": [
    "##### Ejercicio 3.13\n",
    "\n",
    "Implemente una función que reciba como parámetro el nombre de un archivo de texto *.txt* y retorne un diccionario en donde los *keys* estarán formados por cada palabra dentro del archivo y los *elementos* serán las veces que la palabra en cuestión se repite dentro del texto.\n",
    "\n",
    "Considere lo siguiente.\n",
    "\n",
    "- Descartar símbolos y caracteres. Asuma que el texto solo puede contener los siguientes caracteres y símbolos:\n",
    " - _ (guión bajo), - (guión medio).\n",
    " - , (coma) y . (punto).\n",
    " - ¿, ?, ¡, ! (signos de interrogación y exlamación).\n",
    "- Todas las palabras retornadas en el diccionario deben estar en minúsculas.\n",
    "\n",
    "Ejemplo\n",
    "\n",
    "```Python\n",
    "## supogamos que el archivo texto.txt contiene lo siguiente\n",
    "## \"Hola mundo. Hola mundo!!!\"\n",
    "\n",
    "diccionario = makeDict(\"texto.txt\")\n",
    "#El diccionario retornado debe ser similar a {\"hola\": 2, \"mundo\": 2}\n",
    "```\n",
    "\n",
    "NOTA: Utilice la función [*open()*](https://docs.python.org/3/library/functions.html#open) para cargar el archivo.\n",
    "\n",
    "La implementación de la función debe contener anotaciones y documentación apropiada."
   ]
  },
  {
   "cell_type": "code",
   "execution_count": 5,
   "id": "c87340e9",
   "metadata": {},
   "outputs": [
    {
     "data": {
      "text/plain": [
       "'Hola mundo Hola mundo'"
      ]
     },
     "execution_count": 5,
     "metadata": {},
     "output_type": "execute_result"
    }
   ],
   "source": [
    "## Resolución Ejercicio 3.13\n",
    "\n",
    "##TO D\n",
    "\n",
    "\n",
    "def makeDict(openarch):\n",
    "    dicc = []\n",
    "    r=open(openarch,\"r\")\n",
    "    lista=list((r.read()))\n",
    "    for i in lista:\n",
    "        if (i!=\"''\" and i!=\"_\" and i!=\"-\" and i!= \".\" and i!=\",\" and i!=\"!\" and i!=\"¡\" and i!=\"?\" and i!=\"¿\"):\n",
    "            dicc.append(i)\n",
    "    \n",
    "    return \"\".join(dicc)\n",
    "                        \n",
    "makeDict(\"Texto.txt\")\n",
    "        \n",
    "        \n",
    "               \n",
    "            \n",
    "               \n",
    "               \n",
    "               \n",
    "               "
   ]
  },
  {
   "cell_type": "code",
   "execution_count": 26,
   "id": "d0751955",
   "metadata": {},
   "outputs": [
    {
     "data": {
      "text/plain": [
       "('Hola mundo Hola mundo', ['Hola', 'mundo.', 'Hola', 'mundo!!!'])"
      ]
     },
     "execution_count": 26,
     "metadata": {},
     "output_type": "execute_result"
    }
   ],
   "source": [
    "def diccionarionew(arch):\n",
    "    dicc=[]\n",
    "    palabras=[]\n",
    "    read=open(arch,\"r\")\n",
    "    text=(read.read())\n",
    "    noquiero= \"¿¡!?,-.\"\n",
    "    for i in text:\n",
    "        if i not in noquiero:\n",
    "            dicc.append(i)\n",
    "    txt = text.split()# separa los valores con el espacio\n",
    "        \n",
    "                    \n",
    "    return \"\".join(dicc), txt\n",
    "\n",
    "\n",
    "    \n",
    "diccionarionew(\"Texto.txt\")"
   ]
  },
  {
   "cell_type": "markdown",
   "id": "c552bc2a",
   "metadata": {},
   "source": [
    "<hr style=\"border:1px solid gray\"> </hr>\n",
    "\n",
    "##  <span style='color:#3A40A2 '>FIN</span>"
   ]
  },
  {
   "cell_type": "markdown",
   "id": "6bb11192",
   "metadata": {},
   "source": [
    "Te paso comentarios de los ejercicios.\n",
    "\n",
    "- 3.1 - OK\n",
    "- <span style='color:orange'> 3.2 - Debería ser una función que reciba los valores a sumar separados por coma, por ejemplo, suma(1,2,3,4). </span>\n",
    "- <span style='color:red'>3.3 - No implementado</span>\n",
    "- 3.4 - OK\n",
    "- 3.5 - OK: Esta bien, pero no entiendo que es lo que quisiste hacer con los argumentos pasados como listas.\n",
    "- <span style='color:red'> 3.6 - Esta OK: Corregir la función decodificar que esta agregando una letra de más.</span>\n",
    "- 3.7 - OK\n",
    "- <span style='color:red'>3.8 - No implementado</span>\n",
    "- 3.9 - OK\n",
    "- <span style='color:red'>3.10 - No implementado</span>\n",
    "- 3.11 - OK\n",
    "- <span style='color:red'>3.11 - Esta mal. Dbería poder recibir un número indefinido de diccionarios</span>\n",
    "- <span style='color:red'>3.13 - No implementado</span>\n",
    "\n",
    "Tu calificación es **50**."
   ]
  }
 ],
 "metadata": {
  "interpreter": {
   "hash": "341b29a86feb41683388a2350ede9b29bff08e5e019b1f08826cb582c6a8c162"
  },
  "kernelspec": {
   "display_name": "Python 3 (ipykernel)",
   "language": "python",
   "name": "python3"
  },
  "language_info": {
   "codemirror_mode": {
    "name": "ipython",
    "version": 3
   },
   "file_extension": ".py",
   "mimetype": "text/x-python",
   "name": "python",
   "nbconvert_exporter": "python",
   "pygments_lexer": "ipython3",
   "version": "3.9.7"
  }
 },
 "nbformat": 4,
 "nbformat_minor": 5
}
