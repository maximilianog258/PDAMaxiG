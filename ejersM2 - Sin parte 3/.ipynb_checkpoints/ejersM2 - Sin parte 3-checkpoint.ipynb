{
 "cells": [
  {
   "cell_type": "markdown",
   "id": "6c5bce21",
   "metadata": {},
   "source": [
    "# <center> <span style='color:#3A40A2 '> Ejercitación Módulo 2 </span></center>\n",
    "<hr style=\"border:1px solid gray\"> </hr>\n",
    "\n",
    "La siguiente notebook contiene ejercitación del Módulo 2 de la Unidad Curricular ***\"Programación Digital Avanzada\"*** de la carrera de *Ingeniería Biomédica* de la UTEC.\n",
    "\n",
    "La *primera parte* y la *segunda parte* de esta notebook serán utilizadas para ejercitación. Por otro lado, la *tercera parte* será utilizada para el laboratorio del módulo y **se debe entregar** resuelta en una Jupyter Notebbok (puede ser esta misma). Además debe subirse la resolución a su repositorio de PDA en github.\n",
    "\n",
    "Profesor Adjunto: *Mag. Bioing. Baldezzari Lucas*\n",
    "\n",
    "<p style='text-align: right;'> V2022 </p>"
   ]
  },
  {
   "cell_type": "markdown",
   "id": "9f3524dd",
   "metadata": {},
   "source": [
    "<hr style=\"border:1px solid gray\"> </hr>\n",
    "\n",
    "## <span style='color:#3A40A2 '> Primera parte </span>\n",
    "\n",
    "Investigue y responda.\n",
    "\n",
    "1. ¿Qué sginifica que Python sea un lenguaje *no tipificado*.\n",
    "2. Mencione algunas diferencias entre los tipos de datos *int* y *reales* en Python\n",
    "3. Mencione algunas diferencias entre los tipos *tuplas*, *listas*, *string* y *diccionarios* en Python\n",
    "4. ¿Qué es un *elemento* de una lista? ¿Cómo se puede acceder a un determinado elemento?\n",
    "5. ¿Qué significa que un tipo de dato sea dinámico y mutable?\n",
    "6. ¿Qué se entiende por *colección* o *collection* en Python? ¿Qué tipos de datos pertenecen a esta categoría?\n",
    "7. ¿Qué significa *Aliasing* en el ámbito de Python?\n",
    "8. ¿Qué entiende por parámetro o argumento de una función?\n",
    "9. En las siguientes líneas de código, ¿cuál es la diferencia entre las variables s1 y s2?\n",
    "\n",
    "```Python\n",
    "def saludar():\n",
    "    print(\"Buenas!\")\n",
    "    \n",
    "s1 = saludar()\n",
    "s2 = saludar\n",
    "```\n",
    "\n",
    "10. ¿Qué significa que las funciones *lambdas* pueden ser *anónimas*?\n",
    "11. ¿Qué palabra reservada puede usarse para chequear si un elemento dentro se encuentra dentro de un set o una lista?\n",
    "12. Observe el siguiente código y responda si es posible realizar dicha asignación. ¿Si? ¿No? ¿Por qué?\n",
    "\n",
    "```Python\n",
    "miSet = {1,2,3, [1,2,3]}\n",
    "```"
   ]
  },
  {
   "cell_type": "markdown",
   "id": "8b819c20",
   "metadata": {},
   "source": [
    "<hr style=\"border:1px solid gray\"> </hr>\n",
    "\n",
    "## <span style='color:#3A40A2 '> Segunda parte </span>\n",
    "\n",
    "En esta parte deberá resolver los siguientes ejercicios.\n",
    "\n",
    "*NOTA:* Esta parte no debe entregarse."
   ]
  },
  {
   "cell_type": "markdown",
   "id": "6379e6ff",
   "metadata": {},
   "source": [
    "#### <span style='color:#f95441'>Funciones para lectura de entradas desde teclado</span>\n",
    "\n",
    "Python ofrece algunas funciones *[built-in](https://docs.python.org/3/library/functions.html)* para solicitar a un usuario que ingrese algo por el teclado y leer dicha entrada, alguna de estas funciones son *[raw_input](https://python-reference.readthedocs.io/en/latest/docs/functions/raw_input.html)* e *[input()](https://docs.python.org/3/library/functions.html#input)*.\n",
    "\n",
    "Por ejemplo, \n",
    "\n",
    "```Python\n",
    "nombre = input(\"¿Cuál es tu nombre?\")\n",
    "print(f\"Hola, {nombre}\")\n",
    "```"
   ]
  },
  {
   "cell_type": "markdown",
   "id": "03b63fc7",
   "metadata": {},
   "source": [
    "### <span style='color:#f95441'>Ejercicios</span>"
   ]
  },
  {
   "cell_type": "markdown",
   "id": "fb7eac21",
   "metadata": {},
   "source": [
    "##### Ejercicio 2.1\n",
    "\n",
    "Un polígono es regular si todos sus lados poseen la misma longitud y los ángulos internos de lados adyacentes son iguales. El área de un políguno regular puede ser calculado usando la siguiente fórmula, sonde $s$ es el largo de cada lado y $n$ es la cantidad de lados.\n",
    "\n",
    "$$   area = \\frac{n\\times s^2}{4\\times \\tan(\\frac{\\pi}{n})}  $$\n",
    "\n",
    "Escriba un programa que lea desde el teclado los valores de $s$ y $n$ y muestre el área del polígono."
   ]
  },
  {
   "cell_type": "code",
   "execution_count": 2,
   "id": "2afdd081",
   "metadata": {},
   "outputs": [
    {
     "name": "stdout",
     "output_type": "stream",
     "text": [
      "Ingrese el largo de cada lado del poligono40\n",
      "Ingrese la cantidad de lados del poligono4\n",
      "El area del poligono es 1600.0000000000002\n"
     ]
    }
   ],
   "source": [
    "from math import pi\n",
    "from math import tan\n",
    "S=input(\"Ingrese el largo de cada lado del poligono\" )# el largo sera s\n",
    "N= input(\"Ingrese la cantidad de lados del poligono\") # la cantidad de lados es n\n",
    "s=float(S)\n",
    "n=int(N)\n",
    "area=(n*(s**2))/(4*tan((pi/n)))\n",
    "print(\"El area del poligono es\", area)"
   ]
  },
  {
   "cell_type": "markdown",
   "id": "46449bdf",
   "metadata": {},
   "source": [
    "##### Ejercicio 2.2\n",
    "\n",
    "Escriba un programa que lea desde el teclado el valor de un entero de cuatro dígitos y muestre por pantalla la suma de los dígitos. Por ejemplo, si el usuario ingresa *1234* el programa debe mostrar *10*."
   ]
  },
  {
   "cell_type": "code",
   "execution_count": 15,
   "id": "23346945",
   "metadata": {},
   "outputs": [
    {
     "name": "stdout",
     "output_type": "stream",
     "text": [
      "Por Favor ingrese un numero entero de cuatro digitos1234\n",
      "La suma de los digitos es:  10\n"
     ]
    }
   ],
   "source": [
    "# inicio del programa\n",
    "ini=0\n",
    "fin=0\n",
    "num= int(input(\"Por Favor ingrese un numero entero de cuatro digitos\")) #El usuario ingresa el numero\n",
    "while num != 0: #Un bucle que inicia si el numero ingresado es diferente de 0\n",
    "    fin= num % 10 #se obtiene el valor del ultimo digito\n",
    "    num= num//10 # en este caso elimino el ultimo digito del numero ingresado y se guarda en la variable\n",
    "    ini+=fin #Se agrega y se suma el valor del ultimo digito\n",
    "print(\"La suma de los digitos es: \", ini) #Se imprime el valor total\n"
   ]
  },
  {
   "cell_type": "markdown",
   "id": "77727bcf",
   "metadata": {},
   "source": [
    "##### Ejercicio 2.3\n",
    "\n",
    "Escriba un programa que calcule las raices de una función cuadrática."
   ]
  },
  {
   "cell_type": "code",
   "execution_count": 16,
   "id": "6b6be4bd",
   "metadata": {},
   "outputs": [
    {
     "name": "stdout",
     "output_type": "stream",
     "text": [
      "Ingrese el coeficiente cuadratico: 4\n",
      "Ingrese el coeficiente lineal: 2\n",
      "Ingrese el termino independiente 1\n",
      "La solución de la ecuación es con numeros complejos\n"
     ]
    }
   ],
   "source": [
    "#Inicio del programa para hallar las raices de una funcion cuadratica\n",
    "from math import sqrt \n",
    "v2= int(input(\"Ingrese el coeficiente cuadratico: \"))\n",
    "v1= int(input(\"Ingrese el coeficiente lineal: \"))\n",
    "v= int(input(\"Ingrese el termino independiente \"))\n",
    "if ((v1**2)-4*v2*v) < 0:\n",
    "    print(\"La solución de la ecuación es con numeros complejos\")\n",
    "else:\n",
    "    x1 = (-v1+sqrt(v1**2-(4*v2*v)))/(2*v2)  # Fórmula de Bhaskara parte positiva\n",
    "    x2 = (-v1-sqrt(v1**2-(4*v2*v)))/(2*v2)  # Fórmula de Bhaskara parte negativa\n",
    "    print(\"Las soluciones de la ecuación son:\")\n",
    "    print(x1)\n",
    "    print(x2)"
   ]
  },
  {
   "cell_type": "markdown",
   "id": "cbd0f92b",
   "metadata": {},
   "source": [
    "##### Ejercicio 2.4\n",
    "\n",
    "Ruido |dB |\n",
    "-----|-----| \n",
    "Martillo neumático |130|\n",
    "Desmalezadora a nafta|106|\n",
    "Alarma reloj|70|\n",
    "Tranquilo|40|\n",
    "\n",
    "Escriba un programa que reciba un nivel de ruido en decibeles $dB$. Si el nivel de ruido coincide con uno de los ruidos de la tabla anterior, el programa debe informar a qué se debe. En el caso de que el nivel de ruido este entre alguno de los dos niveles, el programa debe informar entre que ruidos se encuentra el nivel ingresado. Además, el programa implementado debe dar mensajes adecuados si los sonidos estan por encima del valor máximo o por debajo del mínimo."
   ]
  },
  {
   "cell_type": "code",
   "execution_count": 31,
   "id": "a902e933",
   "metadata": {},
   "outputs": [
    {
     "name": "stdout",
     "output_type": "stream",
     "text": [
      "Ingrese el valor en DB de el ruido que escucha: 129\n",
      "el ruido se encuentra entre:  Martillo neumatico y Desmalezadora a nafta\n",
      "gracias Kpo por usar este excelente programa \n"
     ]
    }
   ],
   "source": [
    "ruido=[\"Martillo neumatico\",\"Desmalezadora a nafta\",\"Alarma reloj\", \"Tranquilo\"]\n",
    "Desb=[130,106,70,40]\n",
    "Zipeado=zip(ruido,Desb)\n",
    "ruidoex= int(input(\"Ingrese el valor en DB de el ruido que escucha: \"))\n",
    "\n",
    "if ruidoex > 130:\n",
    "    print(\"El ruido es mayor a lo registrado\")\n",
    "    \n",
    "elif ruidoex<= 130 and ruidoex>= 106:\n",
    "    if ruidoex==130:\n",
    "        print(\"El ruido es:\", ruido[0])\n",
    "    elif ruidoex==106:\n",
    "        print(\"El ruido es:\", ruido[1])\n",
    "    else:\n",
    "        print(\"el ruido se encuentra entre: \", ruido[0] ,\"y\", ruido[1])\n",
    "    \n",
    "elif ruidoex<= 105 and ruidoex>= 70:\n",
    "    if ruidoex==106:\n",
    "        print(\"El ruido es:\", ruido[1])\n",
    "    elif ruidoex==70:\n",
    "        print(\"El ruido es:\", ruido[2])\n",
    "    print(\"el ruido se encuentra entre: \", ruido[1] ,\"y\", ruido[2])\n",
    "elif ruidoex<= 69 and ruidoex>= 40:\n",
    "    if ruidoex==40:\n",
    "        print(\"El ruido es:\", ruido[3])\n",
    "    print(\"el ruido se encuentra entre: \", ruido[2] ,\"y\", ruido[3])\n",
    "    \n",
    "else:\n",
    "    if ruidoex < 40:\n",
    "        print(\"El ruido es menor a lo registrado\")\n",
    "    \n",
    "print(\"gracias Kpo por usar este excelente programa \")\n",
    "\n",
    "    \n",
    "\n",
    "    "
   ]
  },
  {
   "cell_type": "markdown",
   "id": "f30357e8",
   "metadata": {},
   "source": [
    "##### Ejercicio 2.5\n",
    "\n",
    "Utilizando *enumerate()* implemente un programa que imprima las letras pertenecientes a los índices divisibles por 3 del string *abcdefghijklmnopqrstuvwxyz*. Empezar a contar desde 1."
   ]
  },
  {
   "cell_type": "code",
   "execution_count": 33,
   "id": "a4b7d901",
   "metadata": {},
   "outputs": [
    {
     "name": "stdout",
     "output_type": "stream",
     "text": [
      "c\n",
      "f\n",
      "i\n",
      "l\n",
      "o\n",
      "r\n",
      "u\n",
      "x\n"
     ]
    }
   ],
   "source": [
    "### Resolución Ejercicio 2.5\n",
    "\n",
    "abc = \"abcdefghijklmnopqrstuvwxyz\"\n",
    "num = enumerate(abc,1)\n",
    "\n",
    "for i,v in num:\n",
    "    if i%3==0:\n",
    "        print(v)\n",
    "        \n",
    "        \n",
    "    \n",
    "    \n",
    "##TO DO"
   ]
  },
  {
   "cell_type": "markdown",
   "id": "3fe24424",
   "metadata": {},
   "source": [
    "##### Ejercicio 2.6\n",
    "\n",
    "Las posiciones en un tablero de ajedrez se identifican con letras y números. Las letras indican las columnas mientras que los números indican las filas, como la imágen debajo.\n",
    "\n",
    "<img src=\"chessboard.png\" width=250 height=250 />\n",
    "\n",
    "Escriba un programa que lea desde el teclado una coordenada del tablero (ej. 'a3') y devuelva si el casillero es de color blanco o negro. Asuma que todas las entradas son correctas, es decir, **no** es necesario realizar un chequeo de errores (veremos más adelante cómo hacer esto con *try* y *except*)."
   ]
  },
  {
   "cell_type": "code",
   "execution_count": 6,
   "id": "c6462948",
   "metadata": {},
   "outputs": [],
   "source": [
    "## Resolución ejercicio 2.6\n",
    "\n",
    "##TO DO"
   ]
  },
  {
   "cell_type": "markdown",
   "id": "24400e9b",
   "metadata": {},
   "source": [
    "##### Ejercicio 2.7\n",
    "\n",
    "Escriba un programa que convierta números binarios a números decimales. El programa debe leer desde el teclado un número binario en forma de string y computar el equivalente en decimal. El número calculado debe mostrarse en un mensaje."
   ]
  },
  {
   "cell_type": "code",
   "execution_count": 7,
   "id": "ca038f66",
   "metadata": {},
   "outputs": [],
   "source": [
    "## Resolución ejercicio 2.7\n",
    "\n",
    "##TO DO"
   ]
  },
  {
   "cell_type": "markdown",
   "id": "d1a113fe",
   "metadata": {},
   "source": [
    "##### Ejercicio 2.8\n",
    "\n",
    "Escriba un programa que determine si un número entero $n$ es *perfecto*. Un número es perfecto cuando la suma de sus propios divisores da el mismo número.\n",
    "\n",
    "Por ejemplo, el *6* es un número perfecto, ya que la suma de sus divisores es $1+2+3 = 6$."
   ]
  },
  {
   "cell_type": "code",
   "execution_count": 8,
   "id": "0ad62720",
   "metadata": {},
   "outputs": [],
   "source": [
    "## Resolución ejercicio 2.8\n",
    "\n",
    "##TO DO"
   ]
  },
  {
   "cell_type": "markdown",
   "id": "e3173db0",
   "metadata": {},
   "source": [
    "### <span style='color:#4BB58D '>Funciones</span>"
   ]
  },
  {
   "cell_type": "markdown",
   "id": "df54632d",
   "metadata": {},
   "source": [
    "##### Ejercicio 2.9\n",
    "\n",
    "Implemente una función que devuelva el factorial de un número entero n."
   ]
  },
  {
   "cell_type": "code",
   "execution_count": 9,
   "id": "3e0225ac",
   "metadata": {},
   "outputs": [],
   "source": [
    "## Resolución ejercicio 2.9\n",
    "\n",
    "##TO DO"
   ]
  },
  {
   "cell_type": "markdown",
   "id": "ef58e192",
   "metadata": {},
   "source": [
    "##### Ejercicio 2.10\n",
    "\n",
    "Implemente una función que reciba una lista de números enteros y devuelva una nueva lista pero sin los valores repetidos.\n",
    "\n",
    "NOTA: No usar funciones *built-in*."
   ]
  },
  {
   "cell_type": "code",
   "execution_count": 10,
   "id": "3b51ecb3",
   "metadata": {},
   "outputs": [],
   "source": [
    "## Resolución ejercicio 2.10\n",
    "\n",
    "##TO DO"
   ]
  },
  {
   "cell_type": "markdown",
   "id": "e4f19239",
   "metadata": {},
   "source": [
    "##### Ejercicio 2.11\n",
    "\n",
    "Implemente una función que reciba como argumento un año y retorne *True* si el año es bisiesto, caso contrario que retorne *False.\n",
    "\n",
    "Para saber si un año es bisiesto tenga en cuenta estos puntos:\n",
    "- Cualquier año divisible por 400 es bisiesto.\n",
    "- De los años restantes, cualquiera que sea divisible por 100 **no** es bisiesto.\n",
    "- De los años restantes, cualquiera que sea divisible por 4 es un año bisiesto."
   ]
  },
  {
   "cell_type": "code",
   "execution_count": 11,
   "id": "a89050a3",
   "metadata": {},
   "outputs": [],
   "source": [
    "## Resolución ejercicio 2.11\n",
    "\n",
    "##TO DO"
   ]
  },
  {
   "cell_type": "markdown",
   "id": "510e5cbd",
   "metadata": {},
   "source": [
    "##### Ejercicio 2.12\n",
    "\n",
    "Impmemente una función que retorne el máximo de una lista de números. No utilizar funciones *built-in*."
   ]
  },
  {
   "cell_type": "code",
   "execution_count": 12,
   "id": "a93c396b",
   "metadata": {},
   "outputs": [],
   "source": [
    "## Resolución ejercicio 2.12\n",
    "\n",
    "##TO DO"
   ]
  },
  {
   "cell_type": "markdown",
   "id": "d371fab2",
   "metadata": {},
   "source": [
    "##### Ejercicio 2.13\n",
    "\n",
    "Implemente una función que reciba como parámetro una lista de números (enteros o flotantes) y retorne la *mediana*."
   ]
  },
  {
   "cell_type": "code",
   "execution_count": 13,
   "id": "641b0e45",
   "metadata": {},
   "outputs": [],
   "source": [
    "## Resolución ejercicio 2.13\n",
    "\n",
    "##TO DO"
   ]
  },
  {
   "cell_type": "markdown",
   "id": "17315869",
   "metadata": {},
   "source": [
    "<hr style=\"border:1px solid gray\"> </hr>\n",
    "\n",
    "## <span style='color:#3A40A2 '> Tercera parte </span>\n",
    "\n",
    "**Se habilitará para el laboratorio.**"
   ]
  },
  {
   "cell_type": "markdown",
   "id": "c552bc2a",
   "metadata": {},
   "source": [
    "<hr style=\"border:1px solid gray\"> </hr>\n",
    "\n",
    "##  <span style='color:#3A40A2 '>FIN</span>"
   ]
  }
 ],
 "metadata": {
  "interpreter": {
   "hash": "341b29a86feb41683388a2350ede9b29bff08e5e019b1f08826cb582c6a8c162"
  },
  "kernelspec": {
   "display_name": "Python [conda env:.conda-PDAprueba] *",
   "language": "python",
   "name": "conda-env-.conda-PDAprueba-py"
  },
  "language_info": {
   "codemirror_mode": {
    "name": "ipython",
    "version": 3
   },
   "file_extension": ".py",
   "mimetype": "text/x-python",
   "name": "python",
   "nbconvert_exporter": "python",
   "pygments_lexer": "ipython3",
   "version": "3.9.7"
  }
 },
 "nbformat": 4,
 "nbformat_minor": 5
}
