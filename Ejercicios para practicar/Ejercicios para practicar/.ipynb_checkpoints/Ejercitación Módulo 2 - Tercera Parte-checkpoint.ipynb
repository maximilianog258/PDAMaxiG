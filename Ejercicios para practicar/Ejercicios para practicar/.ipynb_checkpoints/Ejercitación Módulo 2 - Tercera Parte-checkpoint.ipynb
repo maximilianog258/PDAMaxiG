{
 "cells": [
  {
   "cell_type": "markdown",
   "id": "6c5bce21",
   "metadata": {},
   "source": [
    "# <center> <span style='color:#3A40A2 '>Ejercitación Módulo 2 - 3ra parte</span></center>\n",
    "<hr style=\"border:1px solid gray\"> </hr>\n",
    "\n",
    "La siguiente notebook contiene ejercitación del Módulo 2 de la Unidad Curricular ***\"Programación Digital Avanzada\"*** de la carrera de *Ingeniería Biomédica* de la UTEC.\n",
    "\n",
    "La *primera parte* y la *segunda parte* de esta notebook serán utilizadas para ejercitación. Por otro lado, la *tercera parte* será utilizada para el laboratorio del módulo y **se debe entregar** resuelta en una Jupyter Notebbok (puede ser esta misma). Además debe subirse la resolución a su repositorio de PDA en github.\n",
    "\n",
    "Profesor Adjunto: *Mag. Bioing. Baldezzari Lucas*\n",
    "\n",
    "<p style='text-align: right;'> V2022 </p>"
   ]
  },
  {
   "cell_type": "markdown",
   "id": "17315869",
   "metadata": {},
   "source": [
    "<hr style=\"border:1px solid gray\"> </hr>\n",
    "\n",
    "## <span style='color:#3A40A2 '> Tercera parte </span>\n",
    "\n",
    "Esta parte corresponde a ejercicios obligatorios que deben ser entregados.\n",
    "\n",
    "Se trabajará sobre estos problemas en la clase de Laboratorio."
   ]
  },
  {
   "cell_type": "markdown",
   "id": "0de98cfc",
   "metadata": {},
   "source": [
    "##### Ejercicio 3.1\n",
    "\n",
    "Implemente una función que reciba como parámetro una muestra de números (enteros o flotantes) y retorne una lista con los valores *outliers* o *atípicos*. En caso de que no existan valores atípicos, la función debe retornar None.\n",
    "\n",
    "Los outliers se calculan de la siguiente manera.\n",
    "\n",
    "$$ outlier < Q_1 - 1.5RIC \\vee outlier > Q_3 + 1.5RIC $$\n",
    "\n",
    "Donde $RIC$ representa el *Rango Intercuartil* y esta dado por $RIC = Q_3 - Q_1$."
   ]
  },
  {
   "attachments": {
    "image.png": {
     "image/png": "[encoded data removed]"
    }
   },
   "cell_type": "markdown",
   "id": "fb585240",
   "metadata": {},
   "source": [
    "![image.png](attachment:image.png)"
   ]
  },
  {
   "cell_type": "code",
   "execution_count": 2,
   "id": "1c4821ce",
   "metadata": {},
   "outputs": [],
   "source": [
    "### Resolución ejercicio 3.1\n",
    "##TO DO\n",
    "\n",
    "def atipico(lista):\n",
    "    '''\n",
    "    Devuelve una lista de valores atípicos en una lista con números\n",
    "    \n",
    "    Argumentos:\n",
    "        -lista (list): lista con números\n",
    "    '''\n",
    "    \n",
    "    lista.sort() #ordena de menor a mayor los números que se encuentran en la lista ingresada\n",
    "    \n",
    "    indexQ1 = int(((len(lista)+1)/4)) #índice del valor del primer cuartil \n",
    "    indexQ3 = int(3*(len(lista)+1)/4) #índice del valor del tercer cuartil\n",
    "    \n",
    "    RIC = lista[indexQ3]-lista[indexQ1] #valor del espacio intercuartil\n",
    "    \n",
    "    outliers = [a for a in lista if (a<lista[indexQ1]-1.5*RIC or a>lista[indexQ3]+1.5*RIC)] #crea una lista con valores atípicos\n",
    "    \n",
    "    if len(outliers) == 0: #si no hay valores atípicos se devuelve None\n",
    "        return None\n",
    "    else: #si hay valores atípicos se devuelve una lista con ellos\n",
    "        return outliers"
   ]
  },
  {
   "cell_type": "code",
   "execution_count": 3,
   "id": "8544ee43",
   "metadata": {},
   "outputs": [
    {
     "name": "stdout",
     "output_type": "stream",
     "text": [
      "La lista de valores atípicos es [-200]\n"
     ]
    }
   ],
   "source": [
    "atipicos = atipico([-200,10,500,600,650,750,450,380,500])\n",
    "print(f'La lista de valores atípicos es {atipicos}')"
   ]
  },
  {
   "cell_type": "markdown",
   "id": "37c8b395",
   "metadata": {},
   "source": [
    "##### Ejercicio 3.2\n",
    "\n",
    "La función *[sum()](https://docs.python.org/3/library/functions.html#sum)* de Python permite sumar una secuencia de números.\n",
    "\n",
    "Su implementación es,\n",
    "\n",
    "```Python\n",
    "sum(iterable, start)\n",
    "```\n",
    "\n",
    "Como se ve, solo recibe dos parámetros. Si hacemos, \n",
    "\n",
    "```Python\n",
    "sum([1,2,3]) #obtenemos 6 de resultado.\n",
    "```\n",
    "\n",
    "Pero si quisieramos hacer *sum(1,2,3,4)* obtendríamos un error.\n",
    "\n",
    "Se pide que implemente una función suma de tal manera que pueda recibir cualquier cantidad de parámetros (1,2,...,n) y retorne la suma de los mismos. Los parámetros solo pueden ser números enteros o flotantes separados por coma."
   ]
  },
  {
   "cell_type": "code",
   "execution_count": 4,
   "id": "4b721a6d",
   "metadata": {},
   "outputs": [],
   "source": [
    "### Resolución ejercicio 3.2\n",
    "### TO DO\n",
    "\n",
    "def suma(*args):\n",
    "    '''\n",
    "    Devuelve la suma de los números ingresados.\n",
    "     Agurmentos:\n",
    "         -args (iterable de flotantes o enteros): números flotantes o enteros a ser sumados, se ingresan cada\n",
    "                                                  uno como un argumento por separado\n",
    "    '''\n",
    "    \n",
    "    return sum([a for a in args]) #retorna la suma de los valores ingresados"
   ]
  },
  {
   "cell_type": "code",
   "execution_count": 6,
   "id": "36859d32",
   "metadata": {},
   "outputs": [
    {
     "data": {
      "text/plain": [
       "22.5"
      ]
     },
     "execution_count": 6,
     "metadata": {},
     "output_type": "execute_result"
    }
   ],
   "source": [
    "suma(5.5,2,5,10)"
   ]
  },
  {
   "cell_type": "markdown",
   "id": "b6b9f121",
   "metadata": {},
   "source": [
    "##### Ejercicio 3.3\n",
    "\n",
    "Implemente una función que devuelva el índice de masa corporal. La función recibe como parámetros una lista con las alturas en $cm$ y una lista con los pesos en $kg$ de una cierta cantidad de personas.\n",
    "\n",
    "Implemente la solución utilizando comprensión de listas e/o intente dar una solución usando funciones lambdas con la función map() de Python."
   ]
  },
  {
   "cell_type": "code",
   "execution_count": 274,
   "id": "5d6702f8",
   "metadata": {},
   "outputs": [],
   "source": [
    "pesos = [60,70,80]\n",
    "alturas = [180,186,170]"
   ]
  },
  {
   "cell_type": "markdown",
   "id": "19a75497",
   "metadata": {},
   "source": [
    "1) Con comprensión de listas"
   ]
  },
  {
   "cell_type": "code",
   "execution_count": 47,
   "id": "6599eb25",
   "metadata": {},
   "outputs": [
    {
     "data": {
      "text/plain": [
       "[18.51851851851852, 20.23355301190889, 27.68166089965398]"
      ]
     },
     "execution_count": 47,
     "metadata": {},
     "output_type": "execute_result"
    }
   ],
   "source": [
    "[p/(t/100)**2 for p,t in zip(pesos,alturas)]"
   ]
  },
  {
   "cell_type": "markdown",
   "id": "94f3cd76",
   "metadata": {},
   "source": [
    "2) Con función map"
   ]
  },
  {
   "cell_type": "code",
   "execution_count": 48,
   "id": "9027068a",
   "metadata": {},
   "outputs": [
    {
     "data": {
      "text/plain": [
       "[18.51851851851852, 20.23355301190889, 27.68166089965398]"
      ]
     },
     "execution_count": 48,
     "metadata": {},
     "output_type": "execute_result"
    }
   ],
   "source": [
    "list(map(lambda p,t: p/(t/100)**2, pesos,alturas))"
   ]
  },
  {
   "cell_type": "markdown",
   "id": "5862b855",
   "metadata": {},
   "source": [
    "##### Ejercicio 3.4\n",
    "\n",
    "Implemente una función llamada *mathOperations* que reciba como parámetros,\n",
    "- Un string con la operación a realizar, \"sumar\" para sumar, \"restar\" para restar, \"dividir\" para dividir y \"multiplicar\" para multiplicar.\n",
    "- Y dos variables numéricas que se usarán para realizar la operación matemática seleccionada.\n",
    "\n",
    "La función debe devolver un resultado dependiendo de la operación seleccionada.\n",
    "\n",
    "La implementación de la función debe contener anotaciones y documentación apropiada."
   ]
  },
  {
   "cell_type": "code",
   "execution_count": 7,
   "id": "6d787c0d",
   "metadata": {},
   "outputs": [],
   "source": [
    "### Resolución ejercicio 3.4\n",
    "### TO DO\n",
    "\n",
    "def mathOperations(operacion, a, b):\n",
    "    '''\n",
    "    La función mathOperations devuelve el resultado (flotante) de una operación de suma, resta, multiplicación o división.\n",
    "    \n",
    "    Los parametros a ingresar son:\n",
    "        -operación (str): se debe ingresar una cadena de carácteres acerca de cual operación se desea realizar, \n",
    "                          las opciones disponibles son: 'sumar', 'restar, 'multiplicar' y 'dividir'.\n",
    "        -a, b (float): números con los que se va a realizar las operaciones, por ejemplo en una división tomaría la forma de a/b.\n",
    "    '''\n",
    "    if operacion == \"sumar\":\n",
    "        return a+b #retorna la suma de a + b\n",
    "    \n",
    "    if operacion == \"resta\":\n",
    "        return a-b #retorna la resta de a - b\n",
    "    \n",
    "    if operacion == \"multiplicar\":\n",
    "        return a*b #retorna la multiplicación de a por b\n",
    "    \n",
    "    if operacion == \"dividir\":\n",
    "        return a/b #retorna la division de a sobre b"
   ]
  },
  {
   "cell_type": "code",
   "execution_count": 9,
   "id": "64995055",
   "metadata": {},
   "outputs": [
    {
     "data": {
      "text/plain": [
       "30"
      ]
     },
     "execution_count": 9,
     "metadata": {},
     "output_type": "execute_result"
    }
   ],
   "source": [
    "mathOperations('sumar', 20, 10)"
   ]
  },
  {
   "cell_type": "markdown",
   "id": "b9f3d129",
   "metadata": {},
   "source": [
    "##### Ejercicio 3.5\n",
    "\n",
    "El número $\\pi$ puede aproximarse con la siguiente fórmula de aproximación,\n",
    "\n",
    "\\begin{equation*}\n",
    "\\pi = 3+ 4 \\sum _ { n = 2,4,6...; k=0,1,2.. } ^ { N,K } (-1)^k \\left[ \\frac {1}{n (n+1) (n+2)} \\right]\n",
    "\\end{equation*}\n",
    "\n",
    "Implemente una función que reciba como argumento la cantidad de aproximaciones *$N$* a realizar y retorne el valor de la aproximación.\n",
    "\n",
    "La implementación de la función debe contener anotaciones y documentación apropiada.\n",
    "\n",
    "NOTA: El valor de $k$ sirve para alternar el signo del término $(-1)^k$."
   ]
  },
  {
   "cell_type": "code",
   "execution_count": 67,
   "id": "479c61b0",
   "metadata": {},
   "outputs": [],
   "source": [
    "def pi(N = 10):\n",
    "    '''\n",
    "    Devuelve el valor de pi en base a N repeticiones.\n",
    "    Arguementos:\n",
    "        -N (int): numero de interaciones a realizar. Valor fijo 10.\n",
    "    '''\n",
    "    \n",
    "    sumatoria = 0 #inicio la sumatoria fuera del interable\n",
    "    aproximaciones = 0 #inicio un contador para verificar las aproximaciones que se van a realizar\n",
    "    \n",
    "    for k,n in enumerate(range(2,N*2+1,2)): #interable for para realizar la sumatoria, enumerate en rango de forma que se\n",
    "                                            #cumplan las N interaciones\n",
    "        sumatoria += ((-1)**k)*(1/(n*(n+1)*(n+2))) #por cada interación va sumando el valor correspondiente k y n\n",
    "        aproximaciones += 1 #aumenta en 1 el contador de iteraciones\n",
    "    \n",
    "    pi = 3+4*sumatoria #variable que almacena el valor de pi aproximado\n",
    "    \n",
    "    print(f\"Las aproximaciones seleccionadas fueron {aproximaciones}\")\n",
    "    \n",
    "    return pi #la funcion retorna el valor de pi aproximado"
   ]
  },
  {
   "cell_type": "code",
   "execution_count": 68,
   "id": "4f108e08",
   "metadata": {},
   "outputs": [
    {
     "name": "stdout",
     "output_type": "stream",
     "text": [
      "Las aproximaciones seleccionadas fueron 100\n"
     ]
    },
    {
     "data": {
      "text/plain": [
       "3.1415924109719806"
      ]
     },
     "execution_count": 68,
     "metadata": {},
     "output_type": "execute_result"
    }
   ],
   "source": [
    "pi(100)"
   ]
  },
  {
   "cell_type": "code",
   "execution_count": 10,
   "id": "ab081e8f",
   "metadata": {},
   "outputs": [
    {
     "data": {
      "text/plain": [
       "3.141592653589793"
      ]
     },
     "execution_count": 10,
     "metadata": {},
     "output_type": "execute_result"
    }
   ],
   "source": [
    "## Una alternativa a lo que hiciste:\n",
    "\n",
    "N = 100000\n",
    "f = lambda n,k: ((-1)**k)*(1/(n*(n+1)*(n+2)))\n",
    "pi = 3 + 4*sum([f(n,k) for n,k in zip((range(2,N,2)), range(0,N))])\n",
    "pi\n",
    "\n",
    "## Nota, podríamos haber hecho\n",
    "## pi = 3 + 4*sum([(lambda n,k: ((-1)**k)*(1/(n*(n+1)*(n+2))))(n,k) for n,k in zip((range(2,N,2)), range(0,N))])\n",
    "## pero poner la función lambda dentro de la listComps puede resultar confuso cuando es muy extensa"
   ]
  },
  {
   "cell_type": "markdown",
   "id": "99326d18",
   "metadata": {},
   "source": [
    "##### Ejercicio 3.6\n",
    "\n",
    "En criptografía, el cifrado César, también conocido como cifrado por desplazamiento, código de César o desplazamiento de César, es una de las técnicas de cifrado más simples conocidas. Es un tipo de cifrado por sustitución en el que una letra en el texto original es reemplazada por otra letra que se encuentra un número fijo de posiciones más adelante en el alfabeto. Por ejemplo, con un desplazamiento de 3, la A sería sustituida por la D (situada 3 lugares a la derecha de la A), la B sería reemplazada por la E, etc. Este método debe su nombre a Julio César, que lo usaba para comunicarse con sus generales. Fuente [Wikipedia](https://es.wikipedia.org/wiki/Cifrado_C%C3%A9sar).\n",
    "\n",
    "Debe implementar,\n",
    "- Una función que se llame *codificar()* que reciba un mensaje y la cantidad de desplazamientos a realizar (la función debe tener este parametro con un valor por defecto para el caso de que el usuario no otorge un valor). La función debe retornar un mensaje encriptado.\n",
    "- Una función que se llame *decodificar* que reciba como argumento la cantidad de desplazamientos a realizar (la función debe tener este parametro con un valor por defecto para el caso de que el usuario no otorge un valor). La función debe retornar un mensaje desencriptado.\n",
    "\n",
    "La implementación de la función debe contener anotaciones y documentación apropiada."
   ]
  },
  {
   "cell_type": "code",
   "execution_count": 32,
   "id": "b81b07f0",
   "metadata": {},
   "outputs": [],
   "source": [
    "## Resolución Ejercicio 3.6\n",
    "##TO DO\n",
    "\n",
    "def codificar(mensaje, desplazamientos = 3):\n",
    "    '''\n",
    "    Devuelve el mensaje encriptado según el cifrado de César.\n",
    "    \n",
    "    Argumentos:\n",
    "        -mensaje (str): cadena de caracteres a ser encriptada. Los caracteres deben ser en minúscula dentro \n",
    "                        de 'abcdefghijklmnopqrstuvwxyz' o puede ser un espacio.\n",
    "        -desplazamientos: numero de letras desplazadas para ser codificado el mensaje, se avanza en sentido a-z. \n",
    "                          Valor fijo 3.\n",
    "    '''\n",
    "    \n",
    "    abecedario = 'abcdefghijklmnopqrstuvwxyz' #valores admisibles en el mensaje\n",
    "    \n",
    "    codificado = [] #lista vacía donde se irán ingresando los carácteres codificados\n",
    "    \n",
    "    for i in mensaje: #for que recorre cada carácter del mensaje\n",
    "        if i == ' ': #si el carácter es un espacio \n",
    "            codificado.append(' ') #añadir un espacio al mensaje encriptado\n",
    "        else: #si no es un espacio\n",
    "            \n",
    "            #la codificación se basa en desplazar el index del caracter ingresado en base a la variable abecedario\n",
    "            try: \n",
    "                codificado.append(abecedario[abecedario.index(i) + desplazamientos]) #si al sumarle al index del carcácter\n",
    "                                                                                     #el desplazamiento no se pasa del largo de \n",
    "                                                                                     #la variable abecedario\n",
    "            except: #si se pasa del largo del index en la cardena de carcáteres 'abecedario' vuelve al inicio\n",
    "                codificado.append(abecedario[(abecedario.index(i) + desplazamientos)-len(abecedario)])\n",
    "        \n",
    "    return \"\".join(codificado) #une la lista en una cadena de carácteres y retorna el mensaje codificado\n",
    "\n",
    "def decodificar(mensaje, desplazamientos = 3):\n",
    "    \n",
    "    '''\n",
    "    Devuelve el mensaje desencriptado según el cifrado de César.\n",
    "    \n",
    "    Argumentos:\n",
    "        -mensaje (str): cadena de caracteres a ser desencriptada. Los caracteres deben ser en minúcula dentro \n",
    "                        de 'abcdefghijklmnopqrstuvwxyz' o puede ser un espacio.\n",
    "        -desplazamientos: numero de letras desplazadas para ser codificado el mensaje, se avanza en sentido z-a. \n",
    "                          Valor fijo 3.\n",
    "    '''\n",
    "    \n",
    "    abecedario = 'abcdefghijklmnopqrstuvwxyz' #valores admisibles en el mensaje\n",
    "    \n",
    "    decodificado = [] #lista vacía donde se irán ingresando los carácteres decodificados\n",
    "    \n",
    "    for i in mensaje: #for que recorre cada carácter del mensaje encriptado\n",
    "        if i == ' ': #si el carácter es un espacio \n",
    "            decodificado.append(' ') #añadir un espacio al mensaje desencriptado\n",
    "        else: #si no es un espacio\n",
    "            \n",
    "            #la codificación se basa en desplazar el index del caracter ingresado en base a la variable abecedario\n",
    "            try:\n",
    "                decodificado.append(abecedario[abecedario.index(i) - desplazamientos]) #si al sumarle al index del carcácter\n",
    "                                                                                       #el desplazamiento no se pasa del largo\n",
    "                                                                                       #de la variable abecedario\n",
    "                        \n",
    "            except: #si se pasa del largo del index en la cardena de carcáteres 'abecedario' vuelve al inicio\n",
    "                decodificado.append(abecedario[(abecedario.index(i) - desplazamientos)-len(abecedario)])\n",
    "        \n",
    "    return \"\".join(decodificado) #une la lista en una cadena de carácteres y retorna el mensaje decodificado"
   ]
  },
  {
   "cell_type": "code",
   "execution_count": 36,
   "id": "f138225f",
   "metadata": {},
   "outputs": [
    {
     "ename": "ValueError",
     "evalue": "substring not found",
     "output_type": "error",
     "traceback": [
      "\u001b[1;31m---------------------------------------------------------------------------\u001b[0m",
      "\u001b[1;31mValueError\u001b[0m                                Traceback (most recent call last)",
      "\u001b[1;32m~\\AppData\\Local\\Temp/ipykernel_8936/2294727213.py\u001b[0m in \u001b[0;36mcodificar\u001b[1;34m(mensaje, desplazamientos)\u001b[0m\n\u001b[0;32m     25\u001b[0m             \u001b[1;32mtry\u001b[0m\u001b[1;33m:\u001b[0m\u001b[1;33m\u001b[0m\u001b[1;33m\u001b[0m\u001b[0m\n\u001b[1;32m---> 26\u001b[1;33m                 \u001b[0mcodificado\u001b[0m\u001b[1;33m.\u001b[0m\u001b[0mappend\u001b[0m\u001b[1;33m(\u001b[0m\u001b[0mabecedario\u001b[0m\u001b[1;33m[\u001b[0m\u001b[0mabecedario\u001b[0m\u001b[1;33m.\u001b[0m\u001b[0mindex\u001b[0m\u001b[1;33m(\u001b[0m\u001b[0mi\u001b[0m\u001b[1;33m)\u001b[0m \u001b[1;33m+\u001b[0m \u001b[0mdesplazamientos\u001b[0m\u001b[1;33m]\u001b[0m\u001b[1;33m)\u001b[0m \u001b[1;31m#si al sumarle al index del carcácter\u001b[0m\u001b[1;33m\u001b[0m\u001b[1;33m\u001b[0m\u001b[0m\n\u001b[0m\u001b[0;32m     27\u001b[0m                                                                                      \u001b[1;31m#el desplazamiento no se pasa del largo de\u001b[0m\u001b[1;33m\u001b[0m\u001b[1;33m\u001b[0m\u001b[0m\n",
      "\u001b[1;31mValueError\u001b[0m: substring not found",
      "\nDuring handling of the above exception, another exception occurred:\n",
      "\u001b[1;31mValueError\u001b[0m                                Traceback (most recent call last)",
      "\u001b[1;32m~\\AppData\\Local\\Temp/ipykernel_8936/3387737427.py\u001b[0m in \u001b[0;36m<module>\u001b[1;34m\u001b[0m\n\u001b[1;32m----> 1\u001b[1;33m \u001b[0mcodificadoo\u001b[0m \u001b[1;33m=\u001b[0m \u001b[0mcodificar\u001b[0m\u001b[1;33m(\u001b[0m\u001b[1;34m'E'\u001b[0m\u001b[1;33m,\u001b[0m\u001b[1;36m1\u001b[0m\u001b[1;33m)\u001b[0m\u001b[1;33m\u001b[0m\u001b[1;33m\u001b[0m\u001b[0m\n\u001b[0m\u001b[0;32m      2\u001b[0m \u001b[0mcodificadoo\u001b[0m\u001b[1;33m\u001b[0m\u001b[1;33m\u001b[0m\u001b[0m\n",
      "\u001b[1;32m~\\AppData\\Local\\Temp/ipykernel_8936/2294727213.py\u001b[0m in \u001b[0;36mcodificar\u001b[1;34m(mensaje, desplazamientos)\u001b[0m\n\u001b[0;32m     28\u001b[0m                                                                                      \u001b[1;31m#la variable abecedario\u001b[0m\u001b[1;33m\u001b[0m\u001b[1;33m\u001b[0m\u001b[0m\n\u001b[0;32m     29\u001b[0m             \u001b[1;32mexcept\u001b[0m\u001b[1;33m:\u001b[0m \u001b[1;31m#si se pasa del largo del index en la cardena de carcáteres 'abecedario' vuelve al inicio\u001b[0m\u001b[1;33m\u001b[0m\u001b[1;33m\u001b[0m\u001b[0m\n\u001b[1;32m---> 30\u001b[1;33m                 \u001b[0mcodificado\u001b[0m\u001b[1;33m.\u001b[0m\u001b[0mappend\u001b[0m\u001b[1;33m(\u001b[0m\u001b[0mabecedario\u001b[0m\u001b[1;33m[\u001b[0m\u001b[1;33m(\u001b[0m\u001b[0mabecedario\u001b[0m\u001b[1;33m.\u001b[0m\u001b[0mindex\u001b[0m\u001b[1;33m(\u001b[0m\u001b[0mi\u001b[0m\u001b[1;33m)\u001b[0m \u001b[1;33m+\u001b[0m \u001b[0mdesplazamientos\u001b[0m\u001b[1;33m)\u001b[0m\u001b[1;33m-\u001b[0m\u001b[0mlen\u001b[0m\u001b[1;33m(\u001b[0m\u001b[0mabecedario\u001b[0m\u001b[1;33m)\u001b[0m\u001b[1;33m]\u001b[0m\u001b[1;33m)\u001b[0m\u001b[1;33m\u001b[0m\u001b[1;33m\u001b[0m\u001b[0m\n\u001b[0m\u001b[0;32m     31\u001b[0m \u001b[1;33m\u001b[0m\u001b[0m\n\u001b[0;32m     32\u001b[0m     \u001b[1;32mreturn\u001b[0m \u001b[1;34m\"\"\u001b[0m\u001b[1;33m.\u001b[0m\u001b[0mjoin\u001b[0m\u001b[1;33m(\u001b[0m\u001b[0mcodificado\u001b[0m\u001b[1;33m)\u001b[0m \u001b[1;31m#une la lista en una cadena de carácteres y retorna el mensaje codificado\u001b[0m\u001b[1;33m\u001b[0m\u001b[1;33m\u001b[0m\u001b[0m\n",
      "\u001b[1;31mValueError\u001b[0m: substring not found"
     ]
    }
   ],
   "source": [
    "codificadoo = codificar('E',1)\n",
    "codificadoo"
   ]
  },
  {
   "cell_type": "code",
   "execution_count": 20,
   "id": "f24069cb",
   "metadata": {},
   "outputs": [
    {
     "data": {
      "text/plain": [
       "'lucas como andas'"
      ]
     },
     "execution_count": 20,
     "metadata": {},
     "output_type": "execute_result"
    }
   ],
   "source": [
    "decodificar(codificadoo, 3)"
   ]
  },
  {
   "cell_type": "markdown",
   "id": "a2b06185",
   "metadata": {},
   "source": [
    "##### Ejercicio 3.7\n",
    "\n",
    "Una ruleta posee una rueda con 38 espacios. De estos espacios, 18 son negros, 18 son rojos y dos son verdes. Los espacios verdes están numerados cómo 0 y 00 (por simplicidad tomar sólo 0 como posible apuesta).\n",
    "\n",
    "Los espacios rojos en la ruleta están numerados 1, 3, 5, 7, 9, 12, 14, 16, 18, 19, 21, 23, 25, 27, 30 32, 34 y 36. El resto de los números son de color negro.\n",
    "\n",
    "Es posible realizar muchas apuestas en un juego de ruleta convencional, no obstante, para este ejercicio considere las siguientes:\n",
    "\n",
    "- Números simples (1 a 36, y 0)\n",
    "- Negras vs Rojas\n",
    "- Pares vs Impares (el 0 no debe considerarse dentro de esta apuesta)\n",
    "- 1 a 18 vs 19 a 36.\n",
    "\n",
    "Implemente una función que reciba como argumento una apuesta (número entero) entre 0 y 36. La función debe generar un número entero aleatorio (use las funciones de la librería *random*) y devolver un mensaje donde se informe que apuestas deben pagarse al jugador, por ejemplo,\n",
    "\n",
    "```Python\n",
    "print(juegoRuleta(apuesta = 14))\n",
    "```\n",
    "\n",
    "Si el número aleatorio generado es el 14, el mensaje retornado debería ser similar a:\n",
    "\n",
    "- Pagar al 14\n",
    "- Pagar rojas\n",
    "- Pagar pares\n",
    "- Pagar 1 a 18\n",
    "\n",
    "Si el número aleatorio generado es el 23, el mensaje retornado debería ser similar a:\n",
    "\n",
    "- Pagar rojas\n",
    "\n",
    "\n",
    "La implementación de la función debe contener anotaciones y documentación apropiada."
   ]
  },
  {
   "cell_type": "code",
   "execution_count": 38,
   "id": "31709ffa",
   "metadata": {},
   "outputs": [],
   "source": [
    "## Resolución Ejercicio 3.7\n",
    "##TO DO\n",
    "import random #importamos al libreria random\n",
    "\n",
    "rojas = [1, 3, 5, 7, 9, 12, 14, 16, 18, 19, 21, 23, 25, 27, 30, 32, 34, 36] #lista con lo valores de rojas\n",
    "negras = [n for n in range(1,36+1) if n not in rojas] #lista con los valores de negras\n",
    "\n",
    "def juegoRuleta(apuesta = 0):\n",
    "    '''\n",
    "    No devuelve nada. Imprime los resultados a pagar dependiendo de la apuesta ingresada.\n",
    "    Argumentos:\n",
    "        -apuesta (int): apuesta deseada para el siguiente juego\n",
    "    '''\n",
    "    seleccionado = random.randrange(0, 36) #el valor entero obtenido en el sorteo, va desde 0 a 36.\n",
    "    \n",
    "    print(f'El número que salió seleccionado es {seleccionado}')\n",
    "        \n",
    "    if apuesta == seleccionado: #si tu apuesta coincide con el sorteo\n",
    "        if apuesta in rojas: #si la apuesta fue roja\n",
    "            print(f'Pagar al {apuesta} :D')\n",
    "            print('Pagar rojas')\n",
    "            if apuesta%2 == 0:\n",
    "                print('Pagar pares')\n",
    "            if apuesta < 19:\n",
    "                print('Pagar 1 al 18')\n",
    "            else:\n",
    "                print('Pagar 19 al 36')\n",
    "        \n",
    "        elif apuesta in negras: #si tu apuesta fue negra\n",
    "            print(f'Pagar al {apuesta} :D')\n",
    "            print('Pagar negras')\n",
    "            if apuesta%2 == 0:\n",
    "                print('Pagar pares')\n",
    "            if apuesta < 19:\n",
    "                print('Pagar 1 al 18')\n",
    "            else:\n",
    "                print('Pagar 19 al 36')\n",
    "        \n",
    "        else:  #si tu apuesta fue 0 (verdes)\n",
    "            print('Pagar verdes')\n",
    "                \n",
    "    else: #si tu apuesta no coincide con el número sorteado\n",
    "        print('No has ganado nada :(')"
   ]
  },
  {
   "cell_type": "code",
   "execution_count": 40,
   "id": "7c6efc5f",
   "metadata": {},
   "outputs": [
    {
     "name": "stdout",
     "output_type": "stream",
     "text": [
      "El número que salió seleccionado es 8\n",
      "No has ganado nada :(\n"
     ]
    }
   ],
   "source": [
    "juegoRuleta(25)"
   ]
  },
  {
   "cell_type": "markdown",
   "id": "16681842",
   "metadata": {},
   "source": [
    "##### Ejercicio 3.8\n",
    "\n",
    "1. Implemente una función que reciba como parámetro una lista de palabras y devuelva una lista de las posibles combinaciones de a dos. La lista retornada debe contener las tuplas correspondientes a la combinación de dos palabras. Por ejemplo, si la lista es,\n",
    "\n",
    "```Python\n",
    "palabras = [\"ing\", \"bio\", \"bci\"]\n",
    "```\n",
    "\n",
    "La función debe retornar algo similar a:\n",
    "\n",
    "```Python\n",
    ">> [(\"ing\",\"bio\"), (\"ing\",\"bci\"), (\"bio\",\"bci\")]\n",
    "```\n",
    "\n",
    "Recuerde que en combinación **no** importa el orden.\n",
    "\n",
    "2. Luego intente implementar lo mismo utilizando *list comprehension* y utilizando la función *[combinations](https://docs.python.org/3/library/itertools.html#itertools.combinations)* de la librería *[itertools](https://docs.python.org/3/library/itertools.html)*. Para usar esta herramienta debe importar la librería o bien el método, haciendo,\n",
    "\n",
    "```Python\n",
    "from itertools import combinations\n",
    "```\n",
    "\n",
    "La implementación de la función debe contener anotaciones y documentación apropiada."
   ]
  },
  {
   "cell_type": "code",
   "execution_count": 41,
   "id": "a3e03a70",
   "metadata": {},
   "outputs": [],
   "source": [
    "## Resolución Ejercicio 3.8\n",
    "##TO DO\n",
    "\n",
    "def combinaciones(lista):\n",
    "    '''\n",
    "    Devuelve una lista de posibles combinaciones entre la lista de palabras ingresadas. Cada cominación es de dos palabras.\n",
    "    Argumentos:\n",
    "        -lista (list): lista de cadenas de carácteres para crear las combinaciones\n",
    "    '''\n",
    "    \n",
    "    posiblesCombinaciones = [] #lista vacía para ir guardando las combinaciones\n",
    "    \n",
    "    while len(lista) >= 2: #mientras el largo de la lista ingresada sea igual o mayor a 2\n",
    "        \n",
    "        for i in lista: #recorre los strings actuales dentro de la lista\n",
    "            \n",
    "            lista.remove(i) #quita de la lista ingresada el primer valor i encontrado según el index\n",
    "            \n",
    "            for a in lista: #recorre nuevamente la lista pero sin el valor i\n",
    "                posiblesCombinaciones.append((i,a)) #crea las combinaciones como una tupla de 2 y las añade a la lista combinaciones\n",
    "    \n",
    "    return posiblesCombinaciones #retorna la lista con las combinaciones posibles"
   ]
  },
  {
   "cell_type": "code",
   "execution_count": 42,
   "id": "6291a7cd",
   "metadata": {},
   "outputs": [
    {
     "data": {
      "text/plain": [
       "[('ing', 'bio'),\n",
       " ('ing', 'bci'),\n",
       " ('ing', 'mentalink'),\n",
       " ('ing', 'roberto'),\n",
       " ('bci', 'bio'),\n",
       " ('bci', 'mentalink'),\n",
       " ('bci', 'roberto'),\n",
       " ('roberto', 'bio'),\n",
       " ('roberto', 'mentalink'),\n",
       " ('bio', 'mentalink')]"
      ]
     },
     "execution_count": 42,
     "metadata": {},
     "output_type": "execute_result"
    }
   ],
   "source": [
    "combinaciones([\"ing\", \"bio\", \"bci\", \"mentalink\", \"roberto\"])"
   ]
  },
  {
   "cell_type": "code",
   "execution_count": 44,
   "id": "a2b9f3b7",
   "metadata": {},
   "outputs": [
    {
     "name": "stdout",
     "output_type": "stream",
     "text": [
      "Help on function combinaciones in module __main__:\n",
      "\n",
      "combinaciones(lista)\n",
      "    Devuelve una lista de posibles combinaciones entre la lista de palabras ingresadas. Cada cominación es de dos palabras.\n",
      "    Argumentos:\n",
      "        -lista (list): lista de cadenas de carácteres para crear las combinaciones\n",
      "\n"
     ]
    }
   ],
   "source": [
    "help(combinaciones) #Muy bien"
   ]
  },
  {
   "cell_type": "markdown",
   "id": "a80a6006",
   "metadata": {},
   "source": [
    "OPCIONAL: Con combinations"
   ]
  },
  {
   "cell_type": "code",
   "execution_count": 276,
   "id": "c1693da5",
   "metadata": {},
   "outputs": [
    {
     "data": {
      "text/plain": [
       "[('ing', 'bio'),\n",
       " ('ing', 'bci'),\n",
       " ('ing', 'mentalink'),\n",
       " ('ing', 'roberto'),\n",
       " ('bio', 'bci'),\n",
       " ('bio', 'mentalink'),\n",
       " ('bio', 'roberto'),\n",
       " ('bci', 'mentalink'),\n",
       " ('bci', 'roberto'),\n",
       " ('mentalink', 'roberto')]"
      ]
     },
     "execution_count": 276,
     "metadata": {},
     "output_type": "execute_result"
    }
   ],
   "source": [
    "from itertools import combinations #importamos de intertools la función combinations\n",
    "\n",
    "#mediante una compresión de lista creamos las posibles combinaciones de palabras en tuplas de a 2\n",
    "[a for a in combinations([\"ing\", \"bio\", \"bci\", \"mentalink\", \"roberto\"],2)] "
   ]
  },
  {
   "cell_type": "markdown",
   "id": "977d6306",
   "metadata": {},
   "source": [
    "##### Ejercicio 3.9\n",
    "\n",
    "Implemente una función que reciba una lista de elementos enteros, o flotantes, o strings (podría ser una lista con elementos del mismo tipo o bien una mezcla de estos) y retorne una lista con los elementos sin repetir.\n",
    "\n",
    "Como ejemplo, si la lista es *[1,2,3,4,5,5,6,7,7,1,2,8,9,9]* la función debe retornar *[1,2,3,4,5,6,7,8]*.\n",
    "\n",
    "La implementación de la función debe contener anotaciones y documentación apropiada."
   ]
  },
  {
   "cell_type": "code",
   "execution_count": 167,
   "id": "ea952473",
   "metadata": {},
   "outputs": [],
   "source": [
    "## Resolución Ejercicio 3.9\n",
    "##TO DO\n",
    "\n",
    "def sinRepetir(lista):\n",
    "    '''\n",
    "    Devuelve una lista sin los valores repetidos de la lista de entrada.\n",
    "    Argumentos:\n",
    "        -lista (list): lista a la que se le quiere 'eliminar' los valores repetidos\n",
    "    '''\n",
    "    \n",
    "    #mediante la creación de un conjunto a partir de una lista lo que se hace es solo quedarse con un mismo valor\n",
    "    \n",
    "    return list(set(lista)) #devuelve una lista creada a partir del conjunto sin valores repetidos"
   ]
  },
  {
   "cell_type": "code",
   "execution_count": 168,
   "id": "15d4d4ea",
   "metadata": {},
   "outputs": [
    {
     "data": {
      "text/plain": [
       "[1, 2, 3, 4, 5, 6, 7, 8, 9]"
      ]
     },
     "execution_count": 168,
     "metadata": {},
     "output_type": "execute_result"
    }
   ],
   "source": [
    "sinRepetir([1,2,3,4,5,5,6,7,7,1,2,8,9,9] )"
   ]
  },
  {
   "cell_type": "markdown",
   "id": "91030ed9",
   "metadata": {},
   "source": [
    "##### Ejercicio 3.10\n",
    "\n",
    "Implemente una función que retorne un diccionario con los datos de un equipo médico. La función debe tener como parámetros fijos un nombre genérico del equipo y el área donde se encuentra, además de ser necesario, se le pasarán a la función una mayor cantidad de datos referentes al equipo. A modo de ejemplo el pasaje de argumentos puede ser,\n",
    "\n",
    "```Python\n",
    "equipo1 = datosEquipo(equipo = \"Respirador\", area = \"Neonatología\")\n",
    "\n",
    "equipo2 = datosEquipo(equipo = \"Respirador\", area = \"UCI\",\n",
    "                      coment = \"Alarma de presión de O2 no se apaga\",\n",
    "                      responsable = \"deja el equipo Mengano\")\n",
    "\n",
    "equipo3 = datosEquipo(equipo = \"Bomba infusión\", area = \"uti\",\n",
    "                      comentario = \"Necesitamos el equipo urgente\",\n",
    "                      falla = \"equipo no enciende o se apaga luego de algunas horas de uso\",\n",
    "                      personaResponsable = \"Dra. Sierra\",\n",
    "                      infoAdicional = \"No había nadie en biomédica\")\n",
    "```\n",
    "\n",
    "La implementación de la función debe contener anotaciones y documentación apropiada."
   ]
  },
  {
   "cell_type": "code",
   "execution_count": 46,
   "id": "09b8ae56",
   "metadata": {},
   "outputs": [],
   "source": [
    "## Resolución Ejercicio 3.10\n",
    "##TO DO\n",
    "\n",
    "def datosEquipo(equipo, area, **datos):\n",
    "    '''\n",
    "    Devuelve un diccionario a partir de los valores de entrada.\n",
    "    Argumentos:\n",
    "        -equipo (str): nombre del equipo a ser ingresado en el diccionario\n",
    "        -area (str): nombre del área donde se va a encontrar el equipo\n",
    "        -datos: serán ingresados nuevos items para el diccionario de modo key = valor. El diccionario a asignar se llamará datos\n",
    "    '''\n",
    "    \n",
    "    datos['Equipo'] = equipo  #con la clave 'Equipo' se ingresará el nombre del equipo\n",
    "    \n",
    "    datos['Área'] = area #con la clave 'Área' se ingreará el nombre del área donde estará el equipo\n",
    "    \n",
    "    return datos #retorna el diccionario"
   ]
  },
  {
   "cell_type": "code",
   "execution_count": 47,
   "id": "beafd6af",
   "metadata": {},
   "outputs": [
    {
     "data": {
      "text/plain": [
       "{'Tipo': 'Canal principal',\n",
       " 'Antiguedad': 'dos meses',\n",
       " 'Método': 'Infrarrojo',\n",
       " 'Comprador': 'Tío Ernst',\n",
       " 'FechaCompra': 'Marzo 2022',\n",
       " 'Equipo': 'Capnómetro',\n",
       " 'Área': 'UCI'}"
      ]
     },
     "execution_count": 47,
     "metadata": {},
     "output_type": "execute_result"
    }
   ],
   "source": [
    "datosEquipo(equipo = 'Capnómetro', area = 'UCI', Tipo = 'Canal principal',\n",
    "            Antiguedad = 'dos meses', Método = 'Infrarrojo',\n",
    "           Comprador = \"Tío Ernst\", FechaCompra = \"Marzo 2022\")"
   ]
  },
  {
   "cell_type": "markdown",
   "id": "36015ec2",
   "metadata": {},
   "source": [
    "##### Ejercicio 3.11\n",
    "\n",
    "Implemente una función que calcule la raíz cuadrada de un número entero utilizando el método de aproximaciones de Newton, el cual es,\n",
    "\n",
    "\\begin{equation*}\n",
    "\\sqrt a = \\frac{x + \\frac{a}{x}}{2}\n",
    "\\end{equation*}\n",
    "\n",
    "Donde, \n",
    "\n",
    "- *x* es una *estimación* o *aproximación* conocida de la raíz cuadrada. En general puede asumirse *x = 1* o *x = a*.\n",
    "\n",
    "La función a implementar debe recibir,\n",
    "\n",
    "- Un número entero *a* para estimar su raíz cuadrada.\n",
    "- Un número entero *n* que representa la cantidad de iteraciones a realizar para aproximar la raíz de *a*. Por defecto hacer n = 10.\n",
    "\n",
    "La función debe retornar\n",
    "\n",
    "- Una lista con cada uno de los cálculos realizados en cada iteración\n",
    "- El valor calculado de la última iteración.\n",
    "- El valor de la raiz cuadrada de *a* utilizando el método *sqrt* de la librería *math* (para comparación).\n",
    "\n",
    "La implementación de la función debe contener anotaciones y documentación apropiada."
   ]
  },
  {
   "cell_type": "code",
   "execution_count": 308,
   "id": "ade6f782",
   "metadata": {},
   "outputs": [],
   "source": [
    "from math import sqrt\n",
    "\n",
    "def raizCuadrada(a, n):\n",
    "    '''\n",
    "    Retorna la mejor estimación de la raiz cuadrada de un número luego de un número dado de aproximaciones.\n",
    "    \n",
    "    Argumentos:\n",
    "        -a (int): número entero del cual se quiere obtener de manera aproximada su raíz cuadrada\n",
    "        -n (int): número de aproximaciones que se quieren realizar\n",
    "    '''\n",
    "    \n",
    "    estimaciones = []\n",
    "    \n",
    "    minimo = a+1 #iniciamos la mejor estimación de la raíz cuadrada con un número que es lo suficientemente grande como para\n",
    "                 #poder obtener una diferencia cada vez menor \n",
    "    \n",
    "    for i in range(a): #buscamos la mejor estimación conocida de la raíz cuadrada del número entero ingresado o directamente\n",
    "                       #su raíz cuadrada en caso de que sea un número entero\n",
    "            \n",
    "        diferencia = abs(a-i**2) #la diferencia entre el número entero ingresado y el cuadrado del índide actual \n",
    "        \n",
    "        if diferencia < abs(a-minimo**2): #buscamos minimizar la diferencia del cuadrado del índice actual con el entero\n",
    "                                          #ingresado. Esto nos irá dando una mejor mejor estimación conocida del valor de la\n",
    "                                          #raíz cuadrada\n",
    "                    \n",
    "            minimo = i\n",
    "            \n",
    "        if i**2 == a: #si el cuadrado del índice actual es el mismo que el valor al que le buscamos encontrar su raíz cuadrada\n",
    "                      #entonces el índice actual es la raíz cuadrada exacta.\n",
    "                \n",
    "            minimo = i\n",
    "            return minimo\n",
    "    \n",
    "    for e in range(n): #buscamos obtener la mejor aproximación posible a partir de la aproximación conocida (entero)\n",
    "        \n",
    "        estimaciones.append(minimo)\n",
    "        A = a/minimo #dividimos el valor entero que buscamos obtener su raíz cuadrada por la mejor estimación con la que contamos\n",
    "        A2 = (minimo+A)/2 #obtenemos una nueva mejor estimación a partir del promedio entre la promediación anterior y el entero\n",
    "                          #divido por la mejor estimación anterior\n",
    "        minimo = A2\n",
    "    \n",
    "    realSqrt = sqrt(a)\n",
    "    \n",
    "    return minimo, estimaciones, realSqrt #retornamos la mejor estimación posible debido a las iteraciones"
   ]
  },
  {
   "cell_type": "code",
   "execution_count": 312,
   "id": "0ce59018",
   "metadata": {},
   "outputs": [
    {
     "name": "stdout",
     "output_type": "stream",
     "text": [
      "La mejor estimación de la raíz es de 3.872983346207417\n",
      "Las estimaciones anteriores fueron [4, 3.875, 3.872983870967742, 3.8729833462074525, 3.872983346207417, 3.872983346207417, 3.872983346207417, 3.872983346207417, 3.872983346207417, 3.872983346207417]\n",
      "El valor real de la raíz cuadrada según la función sqrt de la librería math es de 3.872983346207417\n"
     ]
    }
   ],
   "source": [
    "raizEstimada, estimacionesAnteriores, raizReal = raizCuadrada(15, 10)\n",
    "print(f'La mejor estimación de la raíz es de {raizEstimada}')\n",
    "print(f'Las estimaciones anteriores fueron {estimacionesAnteriores}')\n",
    "print(f'El valor real de la raíz cuadrada según la función sqrt de la librería math es de {raizReal}')"
   ]
  },
  {
   "cell_type": "markdown",
   "id": "c09a1957",
   "metadata": {},
   "source": [
    "OPCION radical"
   ]
  },
  {
   "cell_type": "code",
   "execution_count": 313,
   "id": "5a2411e2",
   "metadata": {},
   "outputs": [
    {
     "data": {
      "text/plain": [
       "3.872983346207417"
      ]
     },
     "execution_count": 313,
     "metadata": {},
     "output_type": "execute_result"
    }
   ],
   "source": [
    "15**(1/2)"
   ]
  },
  {
   "cell_type": "markdown",
   "id": "37d063be",
   "metadata": {},
   "source": [
    "##### Ejercicio 3.12\n",
    "\n",
    "Implemente una función que reciba como parámetros un número *n* de diccionarios. Asuma que los diccionarios pasados como parámetros poseen un *key* y elementos numéricos (enteros o flotantes).\n",
    "\n",
    "La función debe retornar un diccionario nuevo con la suma de los elementos correspondientes a los keys iguales.\n",
    "\n",
    "Por ejemplo,\n",
    "\n",
    "```Python\n",
    "dic1 = {'key1': 10, 'key2': 20, 'key3':30}\n",
    "dic2 = {'key1': 30, 'key3': 20, 'key4':40}\n",
    "\n",
    "dic3 = miFunc(d1,d2)\n",
    "print(dic3)\n",
    "# El dic3 debe ser de la forma {'key1': 40, 'key2': 20, 'key3': 50, 'key4': 40}\n",
    "```"
   ]
  },
  {
   "cell_type": "code",
   "execution_count": 49,
   "id": "267a611e",
   "metadata": {},
   "outputs": [],
   "source": [
    "## Resolución Ejercicio 3.12\n",
    "##TO DO\n",
    "\n",
    "def diccionarioNuevo(*args):\n",
    "    '''\n",
    "    Deuvelve un diccionario con la suma de los valores en cada uno de los diccionarios ingresados. Dichos valores se sumarán\n",
    "    si comparten la misma clave.\n",
    "    \n",
    "    Argumentos:\n",
    "        -args (iterable de dict): permite introducir todos los diccionarios que se deseen\n",
    "    '''\n",
    "    \n",
    "    diccionarioNuevo = {} #crea un diccionario vacío donde irán agregando las claves y la suma de valores de llaves repetidas\n",
    "    \n",
    "    for diccionario in args: #recorre los diccionarios ingresados\n",
    "        \n",
    "        for i in diccionario.keys(): #recorre las claves del diccionario seleccionado\n",
    "            \n",
    "            if i in diccionarioNuevo.keys(): #si la llave del diccionario seleccionado se encuentra dentro del diccionario nuevo\n",
    "                diccionarioNuevo[i] = diccionarioNuevo[i] + diccionario[i] #suma el valor de la clave del diccionario nuevo y el\n",
    "                                                                           #diccionario que está siendo iterado\n",
    "            else:\n",
    "                diccionarioNuevo[i] = diccionario[i] #en el diccionario nuevo se copia la clave y valor del diccionario siendo iterado\n",
    "    \n",
    "    return diccionarioNuevo #devuelve el diccionario nuevo con los mismos valores sumados"
   ]
  },
  {
   "cell_type": "code",
   "execution_count": 52,
   "id": "29a87357",
   "metadata": {},
   "outputs": [
    {
     "data": {
      "text/plain": [
       "{'key1': 90, 'key2': 40, 'key3': 100, 'key4': 180, 'key5': 50}"
      ]
     },
     "execution_count": 52,
     "metadata": {},
     "output_type": "execute_result"
    }
   ],
   "source": [
    "dic1 = {'key1': 10, 'key2': 20, 'key3':30}\n",
    "dic2 = {'key1': 30, 'key3': 20, 'key4':40}\n",
    "dic3 = {'key1': 10, 'key2': 20, 'key3':30}\n",
    "dic4 = {'key1': 30, 'key3': 20, 'key4':40}\n",
    "d5 = {\"key1\": 10, \"key4\":100, \"key5\": 50}\n",
    "\n",
    "diccionarioNuevo(dic1, dic2, dic3, dic4, d5)"
   ]
  },
  {
   "cell_type": "markdown",
   "id": "c953298e",
   "metadata": {},
   "source": [
    "##### Ejercicio 3.13\n",
    "\n",
    "Implemente una función que reciba como parámetro el nombre de un archivo de texto *.txt* y retorne un diccionario en donde los *keys* estarán formados por cada palabra dentro del archivo y los *elementos* serán las veces que la palabra en cuestión se repite dentro del texto.\n",
    "\n",
    "Considere lo siguiente.\n",
    "\n",
    "- Descartar símbolos y caracteres. Asuma que el texto solo puede contener los siguientes caracteres y símbolos:\n",
    " - _ (guión bajo), - (guión medio).\n",
    " - , (coma) y . (punto).\n",
    " - ¿, ?, ¡, ! (signos de interrogación y exlamación).\n",
    "- Todas las palabras retornadas en el diccionario deben estar en minúsculas.\n",
    "\n",
    "Ejemplo\n",
    "\n",
    "```Python\n",
    "## supogamos que el archivo texto.txt contiene lo siguiente\n",
    "## \"Hola mundo. Hola mundo!!!\"\n",
    "\n",
    "diccionario = makeDict(\"texto.txt\")\n",
    "#El diccionario retornado debe ser similar a {\"hola\": 2, \"mundo\": 2}\n",
    "```\n",
    "\n",
    "NOTA: Utilice la función [*open()*](https://docs.python.org/3/library/functions.html#open) para cargar el archivo.\n",
    "\n",
    "La implementación de la función debe contener anotaciones y documentación apropiada."
   ]
  },
  {
   "cell_type": "code",
   "execution_count": 53,
   "id": "c87340e9",
   "metadata": {},
   "outputs": [],
   "source": [
    "## Resolución Ejercicio 3.13\n",
    "##TO DO\n",
    "\n",
    "#a modo de mejorar la comprensión utilicé dos funciones\n",
    "\n",
    "def eliminarSimbolos(texto, noAdmitidos):\n",
    "    '''\n",
    "    Devuelve una cadena de texto sin ciertos valores no admitidos\n",
    "    \n",
    "    Argumentos:\n",
    "        -texto (str): cadena de texto a ser filtrada\n",
    "        -noAdmitidos (str): carácteres a ser filtrados\n",
    "    '''\n",
    "    \n",
    "    newText = [] #lista para ir depositando carácteres admitidos\n",
    "    \n",
    "    for i in texto: #recorre cada carácter del string ingresado\n",
    "        if i in noAdmitidos: #si el carácter en el texto ingresado no está admitido entonces se ignora\n",
    "            pass\n",
    "        else: #si el carácter si está admitido entonces se ingresa a la lista\n",
    "            newText.append(i)\n",
    "    \n",
    "    return \"\".join(newText) #retorna el texto filtrado\n",
    "    \n",
    "def makeDict(ruta, noAdmitidos):\n",
    "    '''\n",
    "    A partir de un archivo .txt devuelve un diccionario con la cantidad de veces que se encuentra cada palabra en él\n",
    "    \n",
    "    Argumentos:\n",
    "        ruta (str): ruta donde se encuentra el archivo de texto\n",
    "        noAdmitidos (str): carácteres que no se desean contabilizar\n",
    "    '''\n",
    "    \n",
    "    diccionarioNuevo = dict() #creo un diccionario vacío\n",
    "    \n",
    "    archivo = open(ruta, 'r') #abro el archivo de texto como lectura y lo asigno a una variable\n",
    "    \n",
    "    texto = archivo.read() #leo el archivo de texto y guardo el string en una variable\n",
    "    \n",
    "    textoFiltrado = eliminarSimbolos(texto, noAdmitidos).split(' ') #elimino los carácteres no deseados y creo una lista solo\n",
    "                                                                    #con las palabras\n",
    "    \n",
    "    for i in textoFiltrado: #recorro la lista de palabras\n",
    "        \n",
    "        if i not in diccionarioNuevo.keys(): #si la palabra aún no ha sido contabilizada\n",
    "            diccionarioNuevo[i.casefold()] = 1 #se contabiliza la nueva palabra\n",
    "        else: #si ya fué contabilizada anteriormente\n",
    "            diccionarioNuevo[i.casefold()] = diccionarioNuevo[i.casefold()] + 1 # sumo 1 al valor de contabilización anterior\n",
    "    \n",
    "    diccionarioNuevo.pop('') #quito carácteres innecesarios que surgen al eliminar un digito separado por dos espacios\n",
    "    \n",
    "    return diccionarioNuevo #retorno el diccionario que cuenta las palabaras del archivo de texto"
   ]
  },
  {
   "cell_type": "code",
   "execution_count": 61,
   "id": "3e778a75",
   "metadata": {},
   "outputs": [
    {
     "data": {
      "text/plain": [
       "{'hola': 2,\n",
       " 'mundo': 2,\n",
       " 'como': 2,\n",
       " 'esta': 1,\n",
       " 'el': 1,\n",
       " 'hoy': 1,\n",
       " 'e': 1,\n",
       " 'estan': 1,\n",
       " 'en': 1,\n",
       " 'matemãticas': 1,\n",
       " 'un': 2,\n",
       " 'nãºmero': 1,\n",
       " 'primo': 2,\n",
       " 'es': 1,\n",
       " 'natural': 2,\n",
       " 'mayor': 1,\n",
       " 'que': 4,\n",
       " '1': 3,\n",
       " 'tiene': 1,\n",
       " 'ãºnicamente': 1,\n",
       " 'dos': 1,\n",
       " 'divisores': 1,\n",
       " 'positivos': 1,\n",
       " 'distintos': 1,\n",
       " 'ã©l': 1,\n",
       " 'mismo': 1,\n",
       " 'y': 3,\n",
       " '11â€‹2â€‹': 1,\n",
       " 'por': 3,\n",
       " 'contrario': 1,\n",
       " 'los': 2,\n",
       " 'nãºmeros': 1,\n",
       " 'compuestos': 1,\n",
       " 'son': 2,\n",
       " 'naturales': 1,\n",
       " 'tienen': 1,\n",
       " 'algãºn': 1,\n",
       " 'divisor': 1,\n",
       " 'aparte': 1,\n",
       " 'de': 1,\n",
       " 'sã\\xad': 1,\n",
       " 'mismos': 1,\n",
       " 'del': 1,\n",
       " 'lo': 1,\n",
       " 'tanto': 1,\n",
       " 'pueden': 1,\n",
       " 'factorizarse': 1,\n",
       " 'convenio': 1,\n",
       " 'no': 1,\n",
       " 'se': 1,\n",
       " 'considera': 1,\n",
       " 'ni': 2,\n",
       " 'compuestolos': 1,\n",
       " '168': 1,\n",
       " 'primos': 1,\n",
       " 'menores': 1,\n",
       " '1000': 1}"
      ]
     },
     "execution_count": 61,
     "metadata": {},
     "output_type": "execute_result"
    }
   ],
   "source": [
    "noAdmitidos = '_-,.?¿!¡:\\n'\n",
    "makeDict('texto.txt', noAdmitidos)"
   ]
  },
  {
   "cell_type": "markdown",
   "id": "c552bc2a",
   "metadata": {},
   "source": [
    "<hr style=\"border:1px solid gray\"> </hr>\n",
    "\n",
    "##  <span style='color:#3A40A2 '>FIN</span>"
   ]
  },
  {
   "cell_type": "markdown",
   "id": "0bb45ad9",
   "metadata": {},
   "source": [
    "### <span style='color:#D4AC0D'> Resultados </span>\n",
    "\n",
    "- 3.1 - OK\n",
    "- 3.2 - OK\n",
    "- 3.3 - OK: Para la próxima formatea la salida para que queden como mucho dos decimales.\n",
    "- 3.4 - OK\n",
    "- 3.5 - OK: Te deje una respuesta alternativa\n",
    "- <span style='color:red'> 3.6 - Esta OK pero sería bueno corregir: Funciona perfecto cuando las letras son todas minúsculas. Sería bueno que funcione para mayúsculas y minúsculas.</span>\n",
    "- 3.7 - OK\n",
    "- 3.8 - OK\n",
    "- 3.9 - OK\n",
    "- 3.10 - OK\n",
    "- 3.11 - OK\n",
    "- 3.12 - OK\n",
    "- 3.13 - OK\n",
    "\n",
    "### <span style='color:#117864'>Calificación 100 </span>"
   ]
  }
 ],
 "metadata": {
  "interpreter": {
   "hash": "341b29a86feb41683388a2350ede9b29bff08e5e019b1f08826cb582c6a8c162"
  },
  "kernelspec": {
   "display_name": "Python 3 (ipykernel)",
   "language": "python",
   "name": "python3"
  },
  "language_info": {
   "codemirror_mode": {
    "name": "ipython",
    "version": 3
   },
   "file_extension": ".py",
   "mimetype": "text/x-python",
   "name": "python",
   "nbconvert_exporter": "python",
   "pygments_lexer": "ipython3",
   "version": "3.9.7"
  }
 },
 "nbformat": 4,
 "nbformat_minor": 5
}
