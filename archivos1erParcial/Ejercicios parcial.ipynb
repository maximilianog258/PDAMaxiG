{
 "cells": [
  {
   "cell_type": "code",
   "execution_count": 5,
   "id": "b2e9879c",
   "metadata": {},
   "outputs": [
    {
     "name": "stdout",
     "output_type": "stream",
     "text": [
      "33\n",
      "48\n",
      "(['Lucas'], ['Masfeo'])\n"
     ]
    }
   ],
   "source": [
    "nombres=[\"Lucas\", \"Baldo\",\"Carlito\", \"Masfeo\",\"Jhon\", \"Nioby\"]\n",
    "edades= [33, 35, 41, 48, 43, 46]\n",
    "\n",
    "def edmin(edades):\n",
    "    edadmin=220\n",
    "    for i in edades:\n",
    "        if edadmin > i:\n",
    "            edadmin = i\n",
    "    return edadmin\n",
    "\n",
    "def edmax(edades):\n",
    "    edadmax=0\n",
    "    for i in edades:\n",
    "        if edadmax < i:\n",
    "            edadmax=i\n",
    "    return edadmax\n",
    "\n",
    "print(edmin(edades))\n",
    "print(edmax(edades))\n",
    "\n",
    "\n",
    "def jovenyviejo(nombres,edades):\n",
    "    edmayor=edmax(edades)\n",
    "    edmenor=edmin(edades)\n",
    "    menor=[]\n",
    "    mayor=[]\n",
    "    \n",
    "    for a in range(len(edades)):\n",
    "        if edades[a]==edmenor:\n",
    "            menor.append(nombres[a])\n",
    "        if edades[a]==edmayor:\n",
    "            mayor.append(nombres[a])\n",
    "    return menor, mayor\n",
    "\n",
    "print(jovenyviejo(nombres,edades))"
   ]
  },
  {
   "cell_type": "code",
   "execution_count": 66,
   "id": "0e304078",
   "metadata": {},
   "outputs": [
    {
     "name": "stdout",
     "output_type": "stream",
     "text": [
      "0111111011101100110100011110010000111100101000100010111110100100111000100100101011011110111000100111\n",
      "*****************************\n",
      "0111111010111111101100101110101101111010111101000001111000110111011111010101011010101001111000001000\n"
     ]
    },
    {
     "data": {
      "text/plain": [
       "111111010111111101100101110101101111010111101000001111000110111011111010101011010101001111000001000"
      ]
     },
     "execution_count": 66,
     "metadata": {},
     "output_type": "execute_result"
    }
   ],
   "source": [
    "#Ejercicio 4\n",
    "def cargarchivos(openarch):\n",
    "    dicc = []\n",
    "    r=open(openarch,\"r\")\n",
    "    lista=(r.read())\n",
    "    lista = lista.split()\n",
    "    noquiero= \"'',\"\n",
    "    for i in lista:\n",
    "        if i not in noquiero:\n",
    "            dicc.append(i)\n",
    "    lista=\"\".join(dicc)\n",
    "    print(lista)\n",
    "    \n",
    "    return int(lista)\n",
    "                        \n",
    "\n",
    "cargarchivos(\"datosReales.txt\")\n",
    "print(\"*****************************\")\n",
    "cargarchivos(\"resultadosTest.txt\")"
   ]
  },
  {
   "cell_type": "code",
   "execution_count": 11,
   "id": "46578507",
   "metadata": {},
   "outputs": [],
   "source": []
  },
  {
   "cell_type": "code",
   "execution_count": 69,
   "id": "0156a508",
   "metadata": {},
   "outputs": [
    {
     "name": "stdout",
     "output_type": "stream",
     "text": [
      "0111111011101100110100011110010000111100101000100010111110100100111000100100101011011110111000100111\n",
      "111111011101100110100011110010000111100101000100010111110100100111000100100101011011110111000100111\n"
     ]
    }
   ],
   "source": [
    "#Ejercicio 4\n",
    "         \n",
    "lista1=cargarchivos(\"datosReales.txt\")\n",
    "lista2=cargarchivos(\"resultadosTest.txt\")         \n",
    "print(lista1)\n",
    "\n",
    "\n",
    "def getCMvalues(persEnferm,Test):\n",
    "    tp=0\n",
    "    tn=0\n",
    "    fp=0\n",
    "    fn=0\n",
    "    for a in persEnferm:\n",
    "        for i in Test:\n",
    "            if a==i:\n",
    "                tp=tp+1\n",
    "            else a==1 and i==0\n",
    "            \n",
    "            \n",
    "getCMvalues(lista1,lista2)"
   ]
  },
  {
   "cell_type": "code",
   "execution_count": null,
   "id": "ec7eef72",
   "metadata": {},
   "outputs": [],
   "source": [
    "Acc=((TP+TN)/TP+FP+TN+FN)\n",
    "Precicion=(TP/TP+FP)\n",
    "sens=((TP)/TP+FN)\n",
    "Especificidad=((TN)/(TP+FP))"
   ]
  },
  {
   "cell_type": "code",
   "execution_count": null,
   "id": "2a378ca3",
   "metadata": {},
   "outputs": [],
   "source": []
  }
 ],
 "metadata": {
  "kernelspec": {
   "display_name": "Python 3 (ipykernel)",
   "language": "python",
   "name": "python3"
  },
  "language_info": {
   "codemirror_mode": {
    "name": "ipython",
    "version": 3
   },
   "file_extension": ".py",
   "mimetype": "text/x-python",
   "name": "python",
   "nbconvert_exporter": "python",
   "pygments_lexer": "ipython3",
   "version": "3.9.7"
  }
 },
 "nbformat": 4,
 "nbformat_minor": 5
}
