{
 "cells": [
  {
   "cell_type": "code",
   "execution_count": 5,
   "id": "b2e9879c",
   "metadata": {},
   "outputs": [
    {
     "name": "stdout",
     "output_type": "stream",
     "text": [
      "33\n",
      "48\n",
      "(['Lucas'], ['Masfeo'])\n"
     ]
    }
   ],
   "source": [
    "nombres=[\"Lucas\", \"Baldo\",\"Carlito\", \"Masfeo\",\"Jhon\", \"Nioby\"]\n",
    "edades= [33, 35, 41, 48, 43, 46]\n",
    "\n",
    "def edmin(edades):\n",
    "    edadmin=220\n",
    "    for i in edades:\n",
    "        if edadmin > i:\n",
    "            edadmin = i\n",
    "    return edadmin\n",
    "\n",
    "def edmax(edades):\n",
    "    edadmax=0\n",
    "    for i in edades:\n",
    "        if edadmax < i:\n",
    "            edadmax=i\n",
    "    return edadmax\n",
    "\n",
    "print(edmin(edades))\n",
    "print(edmax(edades))\n",
    "\n",
    "\n",
    "def jovenyviejo(nombres,edades):\n",
    "    edmayor=edmax(edades)\n",
    "    edmenor=edmin(edades)\n",
    "    menor=[]\n",
    "    mayor=[]\n",
    "    \n",
    "    for a in range(len(edades)):\n",
    "        if edades[a]==edmenor:\n",
    "            menor.append(nombres[a])\n",
    "        if edades[a]==edmayor:\n",
    "            mayor.append(nombres[a])\n",
    "    return menor, mayor\n",
    "\n",
    "print(jovenyviejo(nombres,edades))"
   ]
  },
  {
   "cell_type": "code",
   "execution_count": 2,
   "id": "0e304078",
   "metadata": {},
   "outputs": [
    {
     "name": "stdout",
     "output_type": "stream",
     "text": [
      "(34, 26, 20, 20) (34, 26, 20, 20) (34, 26, 20, 20) (34, 26, 20, 20)\n",
      "0111111011101100110100011110010000111100101000100010111110100100111000100100101011011110111000100111\n",
      "*****************************\n",
      "0111111010111111101100101110101101111010111101000001111000110111011111010101011010101001111000001000\n"
     ]
    },
    {
     "data": {
      "text/plain": [
       "111111010111111101100101110101101111010111101000001111000110111011111010101011010101001111000001000"
      ]
     },
     "execution_count": 2,
     "metadata": {},
     "output_type": "execute_result"
    }
   ],
   "source": [
    "#Ejercicio 4\n",
    "def cargarchivos(openarch):\n",
    "    dicc = []\n",
    "    r=open(openarch,\"r\")\n",
    "    lista=(r.read())\n",
    "    lista = lista.split()\n",
    "    noquiero= \"'',\"\n",
    "    for i in lista:\n",
    "        if i not in noquiero:\n",
    "            dicc.append(i)\n",
    "    lista=\"\".join(dicc)\n",
    "    print(lista)\n",
    "    \n",
    "    return int(lista)\n",
    "\n",
    "## Ejercicio 4\n",
    "## Parte (a)\n",
    "controlFile = open(\"datosReales.txt\", \"r\")\n",
    "testFile = open(\"resultadosTest.txt\", \"r\")\n",
    "control = [int(valor) for valor in controlFile.read().split()]\n",
    "test = [int(valor) for valor in testFile.read().split()]\n",
    "controlFile.close()\n",
    "testFile.close()\n",
    "\n",
    "def getMC(control,test):\n",
    "    TP=0\n",
    "    FP=0\n",
    "    TN=0\n",
    "    FN=0\n",
    "\n",
    "    for t,c in zip(test,control):\n",
    "        if t==1 and c==1:\n",
    "            TP+=1\n",
    "        if t==1 and c==0:\n",
    "            FP+=1\n",
    "        if t==0 and c==0:\n",
    "            TN+=1\n",
    "        if t==0 and c==1:\n",
    "            FN+=1  \n",
    "    return(TP,FP,TN,FN)\n",
    "TP=getMC(control,test)\n",
    "FP=getMC(control,test)\n",
    "TN=getMC(control,test)\n",
    "FN=getMC(control,test)\n",
    "\n",
    "print(TP,FP,TN,FN)\n",
    "\n",
    "cargarchivos(\"datosReales.txt\")\n",
    "print(\"*****************************\")\n",
    "cargarchivos(\"resultadosTest.txt\")"
   ]
  },
  {
   "cell_type": "code",
   "execution_count": 7,
   "id": "ec7eef72",
   "metadata": {},
   "outputs": [
    {
     "name": "stdout",
     "output_type": "stream",
     "text": [
      "0.54 0.5666666666666667 0.6296296296296297 0.3333333333333333\n"
     ]
    }
   ],
   "source": [
    "\n",
    "def getmetrics(datos):\n",
    "    TP=datos[0]\n",
    "    FP=datos[1]\n",
    "    TN=datos[2]\n",
    "    FN=datos[3]\n",
    "    Acc=((TP+TN)/(TP+FP+TN+FN))\n",
    "    Precicion=(TP/(TP+FP))\n",
    "    sens=((TP)/(TP+FN))\n",
    "    Especificidad=((TN)/(TP+FP))\n",
    "\n",
    "    return print(Acc, Precicion, sens,Especificidad)\n",
    "\n",
    "Valores= getmetrics(TP)\n"
   ]
  },
  {
   "cell_type": "code",
   "execution_count": 69,
   "id": "0156a508",
   "metadata": {},
   "outputs": [
    {
     "name": "stdout",
     "output_type": "stream",
     "text": [
      "0111111011101100110100011110010000111100101000100010111110100100111000100100101011011110111000100111\n",
      "111111011101100110100011110010000111100101000100010111110100100111000100100101011011110111000100111\n"
     ]
    }
   ],
   "source": [
    "#Ejercicio 4\n",
    "         \n",
    "lista1=cargarchivos(\"datosReales.txt\")\n",
    "lista2=cargarchivos(\"resultadosTest.txt\")         \n",
    "print(lista1)\n",
    "\n",
    "\n",
    "def getCMvalues(persEnferm,Test):\n",
    "    tp=0\n",
    "    tn=0\n",
    "    fp=0\n",
    "    fn=0\n",
    "    for a in persEnferm:\n",
    "        for i in Test:\n",
    "            if a==i:\n",
    "                tp=tp+1\n",
    "            else a==1 and i==0\n",
    "            \n",
    "            \n",
    "getCMvalues(lista1,lista2)"
   ]
  },
  {
   "cell_type": "code",
   "execution_count": null,
   "id": "2a378ca3",
   "metadata": {},
   "outputs": [],
   "source": []
  }
 ],
 "metadata": {
  "kernelspec": {
   "display_name": "Python 3.10.2 64-bit",
   "language": "python",
   "name": "python3"
  },
  "language_info": {
   "codemirror_mode": {
    "name": "ipython",
    "version": 3
   },
   "file_extension": ".py",
   "mimetype": "text/x-python",
   "name": "python",
   "nbconvert_exporter": "python",
   "pygments_lexer": "ipython3",
   "version": "3.10.2"
  },
  "vscode": {
   "interpreter": {
    "hash": "32f2fe102a4f10662d8c13f75131e1ba377b7194060421a642fdea27c55fc65a"
   }
  }
 },
 "nbformat": 4,
 "nbformat_minor": 5
}
