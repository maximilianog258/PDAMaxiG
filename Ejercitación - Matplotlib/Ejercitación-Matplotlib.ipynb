{
 "cells": [
  {
   "cell_type": "markdown",
   "id": "cf6541be",
   "metadata": {},
   "source": [
    "# <center> <span style='color:#3c3b5f'>Ejercitación módulo Matplotlib</span></center>\n",
    "\n",
    "Módulo Pandas - Parte práctica\n",
    "\n",
    "**Profesor Adjunto:** Mag. Bioing. Baldezzari Lucas\n",
    "\n",
    "<p style='text-align: left;'> V2022 </p>\n",
    "\n",
    "<hr style=\"border:1px solid gray\"> </hr>"
   ]
  },
  {
   "cell_type": "markdown",
   "id": "4ff1087d",
   "metadata": {},
   "source": [
    "## <span style='color:#55aa74'>1. Analizando datos de eficiencia energética (obligatorio)</span>\n",
    "\n",
    "Cargue el archivo *eficienciaEnergética.csv*. Agregue una columna llamada *superficieTotal* que sea la suma de las columnas *Surface_Area, Wall_Area, Roof_Area*. Agreuge una columna llamada *cargaTotal* que sea la suma de *Heating_Load, Cooling_Load*.\n",
    "\n",
    "Luego,\n",
    "\n",
    "- Realice un gráfico de dispersión comparando *superficieTotal* con *cargaTotal*. Utilice los datos de la columna *Orientation* para diferenciar cada punto de la gráfica según la orientación de la casa."
   ]
  },
  {
   "cell_type": "code",
   "execution_count": 1,
   "id": "5e57d401",
   "metadata": {},
   "outputs": [],
   "source": [
    "import numpy as np\n",
    "import pandas as pd\n",
    "import matplotlib.pyplot as plt"
   ]
  },
  {
   "cell_type": "code",
   "execution_count": 2,
   "id": "51f9b0b8",
   "metadata": {},
   "outputs": [],
   "source": [
    "## TODO 1"
   ]
  },
  {
   "cell_type": "markdown",
   "id": "bbb08ca3",
   "metadata": {},
   "source": [
    "## <span style='color:#55aa74'>2. Personas en situación de calle (obligatorio)</span>\n",
    "\n",
    "Utilizando los datos dentro de *sinhogares.csv* se le pide.\n",
    "\n",
    "- Un gráfico de barras verticales donde se muestre el valor medio de individuos en situación de calles separados por *región*. Agregue el desvío estándar a cada barra."
   ]
  },
  {
   "cell_type": "code",
   "execution_count": 3,
   "id": "4a40720f",
   "metadata": {},
   "outputs": [],
   "source": [
    "## TODO 2"
   ]
  },
  {
   "cell_type": "markdown",
   "id": "637ac6da",
   "metadata": {},
   "source": [
    "## <span style='color:#55aa74'>3. Gráficas de ventas para Walmart (obligatorio)</span>\n",
    "\n",
    "Utilizando los datos en *walmart.csv* realice lo siguiente.\n",
    "\n",
    "- Un gráfico con 5 subplots diferentes en donde debe graficar las ventas semanales (a lo largo de todo el dataset) para los 5 departamentos con mayores ventas promedios.\n",
    "- Un gráfico con las ventas semanales (a lo largo de todo el dataset) del departamento con mayor ventas semanales promedios. Agregue al gráfico **marcadores** en donde la columna *is_holiday* es igual a *True*. Puede agregar marcas a un gráfico del tipo `.plot()` usando el atributo `markevery`. Utilice [ésta](https://matplotlib.org/stable/gallery/lines_bars_and_markers/markevery_demo.html) referencia como ejemplo."
   ]
  },
  {
   "cell_type": "code",
   "execution_count": 4,
   "id": "f0a0e6e9",
   "metadata": {},
   "outputs": [],
   "source": [
    "## TODO 3"
   ]
  },
  {
   "cell_type": "markdown",
   "id": "08e7e33e",
   "metadata": {},
   "source": [
    "## <span style='color:#55aa74'>4. Graficando datos del FIFA 2021(obligatorio)</span>\n",
    "\n",
    "A partir de los datos en el set de datos *fifa2021.csv* realice,\n",
    "\n",
    "- Un gráfico de barras horizontales con la cantidad de jugadores divididos por países.\n",
    "- Histogramas (en un mismo gráfico) de las alturas (columna *height_cm*) para jugadores de Argentina, Uruguay, Alemania, Nigeria y Kosovo.\n",
    "\n",
    "**¿Qué liga vale más dinero?**\n",
    "\n",
    "- Realice un gráfico de barras verticales en donde se muestre el valor en euros de las ligas en la lista `ligas` en base a los precios de los jugadores que juegan en ella.\n",
    "\n",
    "```python\n",
    "ligas = ['Spain Primera Division', 'Italian Serie A', 'German 1. Bundesliga', 'French Ligue 1', 'English Premier League', 'Holland Eredivisie', 'USA Major League Soccer', 'Chinese Super League', 'Saudi Abdul L. Jameel League', 'Turkish Süper Lig', 'Argentina Primera División', 'Uruguayan Primera División']\n",
    "```\n",
    "\n",
    "- Repita el ejercicio 5.1 de la *guía de ejercicios de Pandas*. Luego realice un gráfico de dispersión en donde se compare el precio de cada jugador con su *overall*. Discrimine los colores de los puntos en base a la columna *onePosition* obtenida luego de resolver la parte 5.1."
   ]
  },
  {
   "cell_type": "code",
   "execution_count": null,
   "id": "6a3f9040",
   "metadata": {},
   "outputs": [],
   "source": [
    "## TODO 4"
   ]
  },
  {
   "cell_type": "markdown",
   "id": "1aafe4ff",
   "metadata": {},
   "source": [
    "<hr style=\"border:1px solid #2C3E50\"> </hr>\n",
    "\n",
    "### FIN"
   ]
  }
 ],
 "metadata": {
  "kernelspec": {
   "display_name": "Python [conda env:pda]",
   "language": "python",
   "name": "conda-env-pda-py"
  },
  "language_info": {
   "codemirror_mode": {
    "name": "ipython",
    "version": 3
   },
   "file_extension": ".py",
   "mimetype": "text/x-python",
   "name": "python",
   "nbconvert_exporter": "python",
   "pygments_lexer": "ipython3",
   "version": "3.10.0"
  }
 },
 "nbformat": 4,
 "nbformat_minor": 5
}
