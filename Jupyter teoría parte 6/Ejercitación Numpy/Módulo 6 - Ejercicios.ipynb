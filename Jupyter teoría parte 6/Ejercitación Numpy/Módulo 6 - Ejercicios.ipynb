{
 "cells": [
  {
   "cell_type": "markdown",
   "id": "3b028086",
   "metadata": {},
   "source": [
    "# <center> <span style='color:#ff6655'>Ejercitación Módulo 6</span></center>\n",
    "\n",
    "Módulo 6 - Parte teórica\n",
    "\n",
    "**Profesor Adjunto:** Mag. Bioing. Baldezzari Lucas\n",
    "\n",
    "<p style='text-align: left;'> V2022 </p>\n",
    "\n",
    "<hr style=\"border:1px solid gray\"> </hr>"
   ]
  },
  {
   "cell_type": "markdown",
   "id": "cd6990b8",
   "metadata": {},
   "source": [
    "### <span style='color:#16C79A'>1. Basics</span>\n",
    "\n",
    "Implemente lo siguiente:\n",
    "\n",
    "- 1.1) Cree un array de ceros -*vector nulo*- de 10 elementos.\n",
    "- 1.2) Cree un vector nulo de 10 elementos donde el 6to elemento sea 1.\n",
    "- 1.3) Cree un aray de 3x3x3 de valores enteros y aleatorios entre 1 y 20.\n",
    "- 1.4) Cree un array de 5x5 y ordenelo por filas. Repita pero ordenando por columnas. Revise la documentación de *numpy*sort()*.\n",
    "- 1.5) Considere un arreglo con shape *(6,7,8)*, ¿cuales son los índices *(x,y,z)* del elemento 100? \n",
    "- 1.6) Cree un array 2D que tenga valores 1 en sus bordes y cero dentro.\n",
    "- 1.7) Cree un array de 8x8 y genere un patrón de tablero de ajedrez con ceros y unos. Un 0 representa un casillero blanco y un 1 representa un casillero negro.\n",
    "- 1.8) Cree una matriz de 4x4 donde sus columnas tengan valores desde 1 a 4.\n",
    "- 1.9) Cree un vector de 10 valores entre 0 y 1 (sin incluir los extremos)."
   ]
  },
  {
   "cell_type": "code",
   "execution_count": 1,
   "id": "310d18b4",
   "metadata": {},
   "outputs": [
    {
     "name": "stdout",
     "output_type": "stream",
     "text": [
      "[0. 0. 0. 0. 0. 0. 0. 0. 0. 0.]\n"
     ]
    }
   ],
   "source": [
    "import numpy as np \n",
    "#1.1\n",
    "cero=np.zeros(10)\n",
    "print(cero)"
   ]
  },
  {
   "cell_type": "code",
   "execution_count": 2,
   "id": "ce8a5f4b",
   "metadata": {},
   "outputs": [
    {
     "name": "stdout",
     "output_type": "stream",
     "text": [
      "[0. 0. 0. 0. 0. 1. 0. 0. 0. 0.]\n"
     ]
    }
   ],
   "source": [
    "#1.2\n",
    "cero[5]=1\n",
    "print(cero)\n"
   ]
  },
  {
   "cell_type": "code",
   "execution_count": 3,
   "id": "e26ed400",
   "metadata": {},
   "outputs": [
    {
     "name": "stdout",
     "output_type": "stream",
     "text": [
      "[[[14  3 17]\n",
      "  [16  9  5]\n",
      "  [ 5 11 16]]\n",
      "\n",
      " [[ 8 19  1]\n",
      "  [ 7 10 10]\n",
      "  [ 3  7 18]]\n",
      "\n",
      " [[15  6 17]\n",
      "  [ 4  8 10]\n",
      "  [ 6 13  7]]]\n"
     ]
    }
   ],
   "source": [
    "#1.3\n",
    "random = np.random.randint(1,20, size = (3,3,3))\n",
    "print(random)"
   ]
  },
  {
   "cell_type": "code",
   "execution_count": 4,
   "id": "fb68d05b",
   "metadata": {},
   "outputs": [
    {
     "name": "stdout",
     "output_type": "stream",
     "text": [
      "[[1 1 3 3 4]\n",
      " [2 4 4 1 4]\n",
      " [2 4 4 4 4]\n",
      " [1 3 2 4 4]\n",
      " [3 4 1 2 4]]\n",
      "[[1 1 3 3 4]\n",
      " [1 2 4 4 4]\n",
      " [2 4 4 4 4]\n",
      " [1 2 3 4 4]\n",
      " [1 2 3 4 4]]\n",
      "###################################################################\n",
      "[[1 1 1 1 4]\n",
      " [1 3 2 2 4]\n",
      " [2 4 3 3 4]\n",
      " [2 4 4 4 4]\n",
      " [3 4 4 4 4]]\n"
     ]
    }
   ],
   "source": [
    "#1.4\n",
    "randomfive=np.random.randint(1,5, size=(5,5))\n",
    "\"Se muestra el array 5x5 con valores de 1 a 5\"\n",
    "print(randomfive) \n",
    "\"Se ordena el array por filas\"\n",
    "filas=np.sort(randomfive,1)\n",
    "print(filas)\n",
    "\n",
    "print(\"###################################################################\")\n",
    "\n",
    "columnas=np.sort(randomfive,0)\n",
    "print(columnas)"
   ]
  },
  {
   "cell_type": "code",
   "execution_count": 5,
   "id": "7d88e6e1",
   "metadata": {},
   "outputs": [
    {
     "name": "stdout",
     "output_type": "stream",
     "text": [
      "[  0   1   2   3   4   5   6   7   8   9  10  11  12  13  14  15  16  17\n",
      "  18  19  20  21  22  23  24  25  26  27  28  29  30  31  32  33  34  35\n",
      "  36  37  38  39  40  41  42  43  44  45  46  47  48  49  50  51  52  53\n",
      "  54  55  56  57  58  59  60  61  62  63  64  65  66  67  68  69  70  71\n",
      "  72  73  74  75  76  77  78  79  80  81  82  83  84  85  86  87  88  89\n",
      "  90  91  92  93  94  95  96  97  98  99 100 101 102 103 104 105 106 107\n",
      " 108 109 110 111 112 113 114 115 116 117 118 119 120 121 122 123 124 125\n",
      " 126 127 128 129 130 131 132 133 134 135 136 137 138 139 140 141 142 143\n",
      " 144 145 146 147 148 149 150 151 152 153 154 155 156 157 158 159 160 161\n",
      " 162 163 164 165 166 167 168 169 170 171 172 173 174 175 176 177 178 179\n",
      " 180 181 182 183 184 185 186 187 188 189 190 191 192 193 194 195 196 197\n",
      " 198 199 200 201 202 203 204 205 206 207 208 209 210 211 212 213 214 215\n",
      " 216 217 218 219 220 221 222 223 224 225 226 227 228 229 230 231 232 233\n",
      " 234 235 236 237 238 239 240 241 242 243 244 245 246 247 248 249 250 251\n",
      " 252 253 254 255 256 257 258 259 260 261 262 263 264 265 266 267 268 269\n",
      " 270 271 272 273 274 275 276 277 278 279 280 281 282 283 284 285 286 287\n",
      " 288 289 290 291 292 293 294 295 296 297 298 299 300 301 302 303 304 305\n",
      " 306 307 308 309 310 311 312 313 314 315 316 317 318 319 320 321 322 323\n",
      " 324 325 326 327 328 329 330 331 332 333 334 335]\n",
      "[[1 5 4]]\n"
     ]
    }
   ],
   "source": [
    "#1.5) Considere un arreglo con shape *(6,7,8)*, ¿cuales son los índices *(x,y,z)* del elemento 100?\n",
    "\"\"\"\n",
    "Voy a crear un array con valores de 0 a 56*6 que da iguala a 336 valores.\n",
    "Luego realizo un reshape a ese array con la forma requerida por el ejercicio.\n",
    "Para enontrar el indice del valor 100 utilizo el array ordenado y aplico el \n",
    "metodo Argwhere. \n",
    "\"\"\"\n",
    "\n",
    "contarray = np.arange(336)\n",
    "ordenados = np.reshape(contarray,(6,7,8))\n",
    "lugar=np.argwhere(ordenados==100)\n",
    "print(contarray)\n",
    "print(lugar)\n",
    "\n",
    "#arra=np.random.randint(1,100, size=(6,7,8))\n",
    "#print(arra)\n",
    "#print(arra.shape)\n",
    "#print(np.ndim(arra))\n",
    "#array= np.reshape(arra,(6*7*8))\n",
    "#print(array[100])\n",
    "#ran domfive=np.random.randint(1,5, size=(5,5))"
   ]
  },
  {
   "cell_type": "code",
   "execution_count": 6,
   "id": "e857fa09",
   "metadata": {},
   "outputs": [
    {
     "data": {
      "text/plain": [
       "array([[1., 1., 1., 1., 1., 1., 1., 1., 1., 1., 1., 1., 1., 1., 1.],\n",
       "       [1., 0., 0., 0., 0., 0., 0., 0., 0., 0., 0., 0., 0., 0., 1.],\n",
       "       [1., 0., 0., 0., 0., 0., 0., 0., 0., 0., 0., 0., 0., 0., 1.],\n",
       "       [1., 0., 0., 0., 0., 0., 0., 0., 0., 0., 0., 0., 0., 0., 1.],\n",
       "       [1., 0., 0., 0., 0., 0., 0., 0., 0., 0., 0., 0., 0., 0., 1.],\n",
       "       [1., 0., 0., 0., 0., 0., 0., 0., 0., 0., 0., 0., 0., 0., 1.],\n",
       "       [1., 0., 0., 0., 0., 0., 0., 0., 0., 0., 0., 0., 0., 0., 1.],\n",
       "       [1., 0., 0., 0., 0., 0., 0., 0., 0., 0., 0., 0., 0., 0., 1.],\n",
       "       [1., 0., 0., 0., 0., 0., 0., 0., 0., 0., 0., 0., 0., 0., 1.],\n",
       "       [1., 0., 0., 0., 0., 0., 0., 0., 0., 0., 0., 0., 0., 0., 1.],\n",
       "       [1., 0., 0., 0., 0., 0., 0., 0., 0., 0., 0., 0., 0., 0., 1.],\n",
       "       [1., 0., 0., 0., 0., 0., 0., 0., 0., 0., 0., 0., 0., 0., 1.],\n",
       "       [1., 0., 0., 0., 0., 0., 0., 0., 0., 0., 0., 0., 0., 0., 1.],\n",
       "       [1., 0., 0., 0., 0., 0., 0., 0., 0., 0., 0., 0., 0., 0., 1.],\n",
       "       [1., 1., 1., 1., 1., 1., 1., 1., 1., 1., 1., 1., 1., 1., 1.]])"
      ]
     },
     "execution_count": 6,
     "metadata": {},
     "output_type": "execute_result"
    }
   ],
   "source": [
    "# 1.6) Cree un array 2D que tenga valores 1 en sus bordes y cero dentro.\n",
    "\n",
    "arraceros= np.zeros((15,15))\n",
    "arraceros[0:15,0]=1 #Marco la fila 0 hasta 15 en columna 0\n",
    "arraceros[0,0:15]=1 #Marco la fila 0 y columna desde 0 a 15 \n",
    "arraceros[0:15,14]=1 #Marco la fila 0 hasta 15 en columna 14\n",
    "arraceros[14,0:14]=1 #Marco la fila 14 y columna desde 0 a 15 \n",
    "arraceros"
   ]
  },
  {
   "cell_type": "code",
   "execution_count": 7,
   "id": "491adf6d",
   "metadata": {},
   "outputs": [
    {
     "name": "stdout",
     "output_type": "stream",
     "text": [
      "[[1. 0. 1. 0. 1. 0. 1. 0.]\n",
      " [0. 1. 0. 1. 0. 1. 0. 1.]\n",
      " [1. 0. 1. 0. 1. 0. 1. 0.]\n",
      " [0. 1. 0. 1. 0. 1. 0. 1.]\n",
      " [1. 0. 1. 0. 1. 0. 1. 0.]\n",
      " [0. 1. 0. 1. 0. 1. 0. 1.]\n",
      " [1. 0. 1. 0. 1. 0. 1. 0.]\n",
      " [0. 1. 0. 1. 0. 1. 0. 1.]]\n"
     ]
    }
   ],
   "source": [
    "\"\"\"  1.7) Cree un array de 8x8 y genere un patrón de tablero de ajedrez con ceros y unos. \n",
    "Un 0 representa un casillero blanco y un 1  representa un casillero negro.\"\"\" \n",
    "\n",
    "eight= np.zeros((8,8))\n",
    "\n",
    "\"\"\"\n",
    "Los blancos van a ser aquellos valores en el array que tienen un indice en el axis 0 par y en el axis 1 par.\n",
    "Es decir el indice de la fila y la columna donde se encuentra el casillero debe ser un numero par. Y em el mismo caso si el indice de la fila\n",
    "es impar y el indice de la columna es impar es blanco.\n",
    "\n",
    "\"\"\"\n",
    "lst = range(0,8)\n",
    "\n",
    "for i in range(0,8):\n",
    "    for a in range(0,8):\n",
    "        if a%2==0 and i%2==0:\n",
    "            eight[a,i]=1\n",
    "        elif a%2!=0 and i%2!=0:\n",
    "            eight[a,i]=1\n",
    "\n",
    "\n",
    "print(eight)\n",
    "\n"
   ]
  },
  {
   "cell_type": "code",
   "execution_count": 8,
   "metadata": {},
   "outputs": [
    {
     "data": {
      "text/plain": [
       "array([[1, 1, 1, 1],\n",
       "       [2, 2, 2, 2],\n",
       "       [3, 3, 3, 3],\n",
       "       [4, 4, 4, 4]])"
      ]
     },
     "execution_count": 8,
     "metadata": {},
     "output_type": "execute_result"
    }
   ],
   "source": [
    "\"\"\"1.8) Cree una matriz de 4x4 donde sus columnas tengan valores desde 1 a 4.\"\"\"\n",
    "lista1= [1,1,1,1]\n",
    "lista2= [2,2,2,2]\n",
    "lista3= [3,3,3,3]\n",
    "lista4= [4,4,4,4]\n",
    "\n",
    "arra= np.stack([lista1,lista2,lista3,lista4],0)\n",
    "\n",
    "arra"
   ]
  },
  {
   "cell_type": "code",
   "execution_count": 9,
   "id": "7a2eb01a",
   "metadata": {},
   "outputs": [
    {
     "data": {
      "text/plain": [
       "'- 1.9) Cree un vector de 10 valores entre 0 y 1 (sin incluir los extremos).'"
      ]
     },
     "execution_count": 9,
     "metadata": {},
     "output_type": "execute_result"
    }
   ],
   "source": [
    "\"\"\"- 1.9) Cree un vector de 10 valores entre 0 y 1 (sin incluir los extremos).\"\"\"\n",
    "\n"
   ]
  },
  {
   "cell_type": "markdown",
   "id": "c757d8bd",
   "metadata": {},
   "source": [
    "### <span style='color:#16C79A'>2. Sumarizing datos</span>\n",
    "\n",
    "- 2.1) A partir de un array 2D la media total, la media a lo largo de las filas y la media a lo largo de las columnas. Agregue una columna con las medias por columna. Idem para filas.\n",
    "- 2.2) Repita el punto anterior pero para el desvío estándar.\n",
    "- 2.3) Carge una imágen RGB y genere otro array con los valores medios de los píxeles en cada canal.\n",
    "- 2.4) Cree un array de 11x11 y llenelo de valores aleatorios enteros entre 1 y 100 y normalice sus valores. La normalización esta dada por,\n",
    "$$ z_i = \\frac{x_i - \\bar{X}}{\\sigma} $$\n",
    "- 2.5) A partir de un array de números enteros, encuentre cual es valor que más se repite. Revise la función *nunmpy.unique()* para ayudarse."
   ]
  },
  {
   "cell_type": "markdown",
   "id": "f678a01a",
   "metadata": {},
   "source": [
    "### <span style='color:#16C79A'>3. Filtrando arrays</span>\n",
    "\n",
    "- 3.1) Dado un array, reemplazar los elementos que estén entre 2 y 5 por su negado (positivos a negativos, y viceversa).\n",
    "- 3.2) Obtener los índices de un arreglo 2D de enteros correspondientes a los valores que sean números primos.\n",
    "- 3.3) Obtener un array con los índices correspondientes a aquellos valores que se repiten en dos arrays 1D.\n",
    "\n",
    "    ```python\n",
    "    ## Ejemplo 3.3\n",
    "\n",
    "    a = np.array([1,2,3,4,5])\n",
    "    b = np.array([1,4,4,4,5])\n",
    "\n",
    "    ## el programa debe retornar un array con los valores\n",
    "    ## [0,3,4]\n",
    "    ```"
   ]
  },
  {
   "cell_type": "code",
   "execution_count": 10,
   "id": "221c2a74",
   "metadata": {},
   "outputs": [
    {
     "name": "stdout",
     "output_type": "stream",
     "text": [
      "Se imprime el array [ 11 -22 -33 -44  55]\n",
      "Se devuelve el valor de a con sus opuestos [11 22 33 44 55]\n",
      "Los valores opuestos de cada indice [22 33 44]\n"
     ]
    }
   ],
   "source": [
    "\"\"\"\n",
    "- 3.1) Dado un array, reemplazar los elementos que estén entre 2 y 5 por su negado (positivos a negativos, y viceversa).\n",
    "\n",
    "\"\"\"\n",
    "\n",
    "\"\"\"\n",
    "Se le multiplicara al indice del array de 2 a 5 por -1 para cambiar su valor al opuesto\n",
    "\"\"\"\n",
    "\n",
    "a = np.array([11,-22,-33,-44,55])\n",
    "print(\"Se imprime el array\", a)\n",
    "b = np.array([1,2,3,4,5])\n",
    "cam= a[1:4]= a[1:4]*-1\n",
    "\n",
    "print(\"Se devuelve el valor de a con sus opuestos\", a)\n",
    "print(\"Los valores opuestos de cada indice\",cam)\n",
    "#mask = a == cam[0]\n",
    "#new2= a[mask]\n",
    "\n",
    "\n",
    "\n"
   ]
  },
  {
   "cell_type": "code",
   "execution_count": 20,
   "id": "f3106be6",
   "metadata": {},
   "outputs": [
    {
     "name": "stdout",
     "output_type": "stream",
     "text": [
      "[]\n"
     ]
    },
    {
     "data": {
      "text/plain": [
       "array([], dtype=int32)"
      ]
     },
     "execution_count": 20,
     "metadata": {},
     "output_type": "execute_result"
    }
   ],
   "source": [
    "\"\"\"- 3.2) Obtener los índices de un arreglo 2D de enteros correspondientes a los valores que sean números primos. \"\"\"\n",
    "\n",
    "arrayaso = np.array([1,2,3,4,5,6,7,8,9,10])\n",
    "arrayasen = np.array([arrayaso,arrayaso])\n",
    "\n",
    "arrayasen\n",
    "mask=arrayasen[:,0]%2 == 0\n",
    "pares= arrayasen[:,0][mask] \n",
    "\n",
    "\n",
    "lugares= np.argwhere()\n",
    "print(pares)\n",
    "pares"
   ]
  },
  {
   "cell_type": "markdown",
   "id": "fa1c00d5",
   "metadata": {},
   "source": [
    "### <span style='color:#16C79A'>4. Operaciones básicas con matrices</span>\n",
    "\n",
    "- 4.1) A partir de un array 2D de valores aleatorios que representan coordenadas de puntos en el espacio 2D encontrar la distancia euclidiana punto a punto. Utilice *numpy.random.random()* para generar el array.\n",
    "- 4.2) Calcule los valores medios de cada columna de una matriz 2D. Reste los valores medios calculados a sus correspondienes columnas.\n",
    "- 4.3) Implemente una función que devuelva *True* si alguna columna de una matriz 2D posee una *columna nula*, donde una columna nula es aquella que esta compuesta de ceros.\n",
    "- 4.4) Implemente una fucnión que devuelva el produco punto de dos matrices, en el caso de que estas no sean compatibles la función debe retornar None.\n",
    "- 4.5) Implemente una función que devuelva la diagonal a partir del producto punto entre dos matrices cuadradas.\n",
    "- 4.6) A partir de un array 2D cambie de posición de dos filas cualquiera."
   ]
  },
  {
   "cell_type": "markdown",
   "id": "af4d3b7a",
   "metadata": {},
   "source": [
    "### <span style='color:#16C79A'>5. Desafío</span>\n",
    "\n",
    "- 5.1) A partir de un array 2D lleno de ceros, implemente una función que reemplace *p* elementos iguales a 1 en posiciones aleatorias del array. Utilice *numpy.put()* y *numpy.random.choice()*.\n",
    "- 5.2) Ordene un array 2D en base a la *n-ésima* columna. Hint: Revise *numpy.argsort()* para resolver.\n",
    "- 5.3) Genere una función llamada *mediaMovil()* que reciba como parámetro un array y un valor entero correspondiente a la cantidad de elementos a calcular la media. La función debe retornar un nuevo array con las medias móviles calculadas.\n",
    "- 5.4) A partir de un array 1D obtenga un array con los valores correspondientes al \"ranking\" que ocupan los valores del array original, sin cambiar el orden (Hint: Se recomienda usar *numpy.argsort()*). Vea el ejemplo.\n",
    "\n",
    "    ```python\n",
    "    np.random.seed(42)\n",
    "    a = np.random.randint(20, size=10)\n",
    "    ## a es array([ 6, 19, 14, 10,  7,  6, 18, 10, 10,  3])\n",
    "    \n",
    "    ## salida esperada\n",
    "    [1, 9, 7, 4, 3, 2, 8, 5, 6, 0]\n",
    "    ```\n",
    "    \n"
   ]
  },
  {
   "cell_type": "code",
   "execution_count": null,
   "id": "67450f99",
   "metadata": {},
   "outputs": [],
   "source": [
    "# 5.1\n",
    "import numpy as np\n",
    "\n",
    "\n"
   ]
  },
  {
   "cell_type": "code",
   "execution_count": null,
   "id": "3fa81e8b",
   "metadata": {},
   "outputs": [
    {
     "data": {
      "image/png": "[encoded data removed]",
      "text/plain": [
       "<Figure size 432x288 with 1 Axes>"
      ]
     },
     "metadata": {
      "needs_background": "light"
     },
     "output_type": "display_data"
    }
   ],
   "source": [
    "#5.3 Ejemplo ahi vamos haciendo como si sabemos\n",
    "\n",
    "import numpy as np\n",
    "\n",
    "import matplotlib.pyplot as plt\n",
    "\n",
    "ejarr=np.random.rand(170)\n",
    "\n",
    "n = 3\n",
    "#define la función de promedio móvil \n",
    "def moving_avg (ejarr, n):\n",
    "    cumsum = np.cumsum (ejarr)\n",
    "    return (cumsum [n:] - cumsum [: - n]) / float (n)\n",
    "\n",
    "#calcular la media móvil utilizando los 3 períodos de tiempo anteriores\n",
    "\n",
    "plt.plot(ejarr)\n",
    "ejemplo=moving_avg(ejarr,25)\n",
    "plt.plot(ejemplo)\n",
    "plt.show()\n"
   ]
  },
  {
   "cell_type": "markdown",
   "id": "ca8ef9fd",
   "metadata": {},
   "source": [
    "### <span style='color:#16C79A'>6. Dividiendo una imágen en cuadrantes</span>\n",
    "\n",
    "Cargue una imágen RGB y obtenga 4 arrays correspondientes a los cuatro cadrantes de la imágen."
   ]
  },
  {
   "cell_type": "markdown",
   "id": "5a050d9d",
   "metadata": {},
   "source": [
    "### <span style='color:#16C79A'>7. Filtrando señal de plestimografía (obligatorio)</span>\n",
    "\n",
    "Cargue la señal de fotoplestimografía utilizada en la guía de ejercicios del módulo 4 y apliquele la función *mediaMovil()* realizada en el ejercicio 5.3). ¿Hay algún cambio en la señal? ¿Qué tipo de filtro es una media movil?"
   ]
  },
  {
   "cell_type": "code",
   "execution_count": 26,
   "id": "56b6d19a",
   "metadata": {},
   "outputs": [
    {
     "ename": "FileNotFoundError",
     "evalue": "[Errno 2] No such file or directory: 'pleth'",
     "output_type": "error",
     "traceback": [
      "\u001b[1;31m---------------------------------------------------------------------------\u001b[0m",
      "\u001b[1;31mFileNotFoundError\u001b[0m                         Traceback (most recent call last)",
      "\u001b[1;32mC:\\Users\\USUARI~1\\AppData\\Local\\Temp/ipykernel_7488/2887157335.py\u001b[0m in \u001b[0;36m<module>\u001b[1;34m\u001b[0m\n\u001b[1;32m----> 1\u001b[1;33m \u001b[0mfile\u001b[0m \u001b[1;33m=\u001b[0m \u001b[0mopen\u001b[0m\u001b[1;33m(\u001b[0m\u001b[1;34m\"pleth\"\u001b[0m\u001b[1;33m,\u001b[0m \u001b[1;34m\"r\"\u001b[0m\u001b[1;33m)\u001b[0m\u001b[1;33m\u001b[0m\u001b[1;33m\u001b[0m\u001b[0m\n\u001b[0m\u001b[0;32m      2\u001b[0m \u001b[0mpleth\u001b[0m \u001b[1;33m=\u001b[0m \u001b[0mnp\u001b[0m\u001b[1;33m.\u001b[0m\u001b[0marray\u001b[0m\u001b[1;33m(\u001b[0m\u001b[0mfile\u001b[0m\u001b[1;33m.\u001b[0m\u001b[0mread\u001b[0m\u001b[1;33m(\u001b[0m\u001b[1;33m)\u001b[0m\u001b[1;33m.\u001b[0m\u001b[0msplit\u001b[0m\u001b[1;33m(\u001b[0m\u001b[1;33m)\u001b[0m\u001b[1;33m,\u001b[0m \u001b[0mdtype\u001b[0m \u001b[1;33m=\u001b[0m \u001b[0mnp\u001b[0m\u001b[1;33m.\u001b[0m\u001b[0mfloat64\u001b[0m\u001b[1;33m)\u001b[0m\u001b[1;33m\u001b[0m\u001b[1;33m\u001b[0m\u001b[0m\n\u001b[0;32m      3\u001b[0m \u001b[0mprint\u001b[0m\u001b[1;33m(\u001b[0m\u001b[0mpleth\u001b[0m\u001b[1;33m)\u001b[0m\u001b[1;33m\u001b[0m\u001b[1;33m\u001b[0m\u001b[0m\n",
      "\u001b[1;31mFileNotFoundError\u001b[0m: [Errno 2] No such file or directory: 'pleth'"
     ]
    }
   ],
   "source": [
    "file = open(\"pleth\", \"r\")\n",
    "pleth = np.array(file.read().split(), dtype = np.float64)\n",
    "print(pleth)"
   ]
  },
  {
   "cell_type": "markdown",
   "id": "329fb430",
   "metadata": {},
   "source": [
    "### <span style='color:#16C79A'>8. Mejorando la clase *Image* y el módulo *procesImage* (obligatorio)</span>\n",
    "\n",
    "Utilizando numpy y sus funcionalidades implemente una versión mejorada de la clase *Image* y las funciones dentro del módulo *procesImage* del ejercicio 6 de la guía de práctica del Módulo 4."
   ]
  },
  {
   "cell_type": "code",
   "execution_count": null,
   "id": "2ec0b019",
   "metadata": {},
   "outputs": [],
   "source": []
  },
  {
   "cell_type": "markdown",
   "id": "f7475e9b",
   "metadata": {},
   "source": [
    "### <span style='color:#16C79A'>9. Analizando eficiencia energética en hogares (obligatorio)</span>\n",
    "\n",
    "A continuación realizará el análisis de algunos parámetros acerca de los requerimientos para climatizar un hogar, ya sea para verano o invierno, es decir, la *eficiencia energética*. Usted cuenta con un [set de datos](https://archive.ics.uci.edu/ml/datasets/Energy+efficiency#) llamado *eficienciaEnergética.csv*, el cual contiene 10 columnas de datos, las cuales de izquierda a derecha son,\n",
    "\n",
    "- 1) Compactación relativa: Medida de la compactación de la casa. Hogares mas compactos, menos espacios vacíos a los cuales enfriar o calentar. Los valores van de 0 a 1.\n",
    "- 2) Superficie total: Superficie (en $m^2$) total del hogar.\n",
    "- 3) Área de muros: Superficie total (en $m^2$) cubierta por muros.\n",
    "- 4) Área de techos: Superficie total (en $m^2$) de techos.\n",
    "- 5) Altura total: Algtura total (en $m$) de la casa.\n",
    "- 6) Orientación de ventanas: Si las ventanas apuntan al norte (2), al sur (3),a l este (4) o al oeste (5).\n",
    "- 7) Proporción de área de vidriado: Es la proporción de edificación que esta cubierta por aberturas de vidrio. En este set de datos puede tomar 4 valores, los mismos son, 0.0, 0.1, 0.25 y 0.4.\n",
    "- 8) Distribución de ventanas: Distribución de ventanas en el hogar.\n",
    "- 9) Carga para calentamiento: Cuanta carga (en KWatts) es necesario aportar al hogar para calentarlo.\n",
    "- 10) Carga para enfriamiento: Cuanta carga (en KWatts) de frío es necesario aportar al hogar para enfriarlo.\n",
    "\n",
    "A continuación se cargan los datos."
   ]
  },
  {
   "cell_type": "code",
   "execution_count": null,
   "id": "588a2c3a",
   "metadata": {},
   "outputs": [],
   "source": [
    "## Cargando datos\n",
    "import numpy as np\n",
    "datos = np.genfromtxt('eficienciaEnergética.csv',delimiter=',',dtype = np.float64)\n"
   ]
  },
  {
   "cell_type": "markdown",
   "id": "6be9b1e0",
   "metadata": {},
   "source": [
    "#### Responda\n",
    "\n",
    "##### A) Generales\n",
    "- A.1 ¿Cuantos hogares han sido utilizados en el set?\n",
    "- A2. ¿Cuáles son los valores promedios de Área de Muros, Áreas de techos y Superficie total? También calcule los desvíos estándar.\n",
    "- A3. ¿Cuales son los valores promedios y los desvíos estándar para las cargas de calentamiento y enfriamiento?"
   ]
  },
  {
   "cell_type": "code",
   "execution_count": null,
   "id": "35890bec",
   "metadata": {},
   "outputs": [
    {
     "name": "stdout",
     "output_type": "stream",
     "text": [
      "Cantidad de hogares son  768\n",
      "El promedio de area de muros es 318.5  m2 el desvio estandar es 43.598069529127855\n",
      "El promedio de area area de techos 176.60416666666666 m2 el desvio estandar es 45.136535729261375\n",
      "El promedio de area de superficie total 495.1041666666667 m2 el desvio estandar es 52.79791054235848\n"
     ]
    }
   ],
   "source": [
    "## TODO A\n",
    "#A.1\n",
    "\n",
    "hogares=datos.shape\n",
    "print(\"Cantidad de hogares son \", hogares[0])\n",
    "\n",
    "\"\"\"\n",
    "Se calcula la media y el desvio estandar para cada columna de datos\n",
    "Primero se calculo para el area de muros \n",
    "Segundo se calculo para el area de techos\n",
    "Tercero se calculo para el area de superficie total\n",
    "\n",
    "\"\"\"\n",
    "promareamu= np.mean(datos[:,2])\n",
    "desvmareamu=np.std(datos[:,2])\n",
    "print(\"El promedio de area de muros es\", promareamu, \" m2 el desvio estandar es\", desvmareamu)\n",
    "promareatech=np.mean(datos[:,3])\n",
    "desvareatech=np.std(datos[:,3])\n",
    "print(\"El promedio de area area de techos\",promareatech, \"m2 el desvio estandar es\", desvareatech)\n",
    "\"\"\"\n",
    "Para encontrar la superficie total realice la suma de las columnas de area de muros y area de techos\n",
    "\"\"\"\n",
    "suptot= datos[:,2]+datos[:,3] \n",
    "promsuptot=np.mean(suptot)\n",
    "desvsuptot=np.std(suptot)\n",
    "print(\"El promedio de area de superficie total\", promsuptot, \"m2 el desvio estandar es\", desvsuptot)\n"
   ]
  },
  {
   "cell_type": "markdown",
   "id": "853bd6d0",
   "metadata": {},
   "source": [
    "##### B) Acerca de compactación relativa\n",
    "- B1) ¿Cuál es el valor medio de compactación relativa?\n",
    "- B2) ¿Cuál es la superficie total de la casa (o casas) con menor compactación? Idem para mayor compactación."
   ]
  },
  {
   "cell_type": "code",
   "execution_count": null,
   "id": "12daaf73",
   "metadata": {},
   "outputs": [
    {
     "name": "stdout",
     "output_type": "stream",
     "text": [
      "El promedio de compactacion realtiva es  0.7641666666666667\n",
      "Las casas de menor compactacion realtiva tienen 0.62\n",
      "Las casas de mayor compactacion realtiva tienen 0.98\n",
      "Las casas de mayor compactacion realtiva tienen una superficie de [404.25 404.25 404.25 404.25 404.25 404.25 404.25 404.25 404.25 404.25\n",
      " 404.25 404.25 404.25 404.25 404.25 404.25 404.25 404.25 404.25 404.25\n",
      " 404.25 404.25 404.25 404.25 404.25 404.25 404.25 404.25 404.25 404.25\n",
      " 404.25 404.25 404.25 404.25 404.25 404.25 404.25 404.25 404.25 404.25\n",
      " 404.25 404.25 404.25 404.25 404.25 404.25 404.25 404.25 404.25 404.25\n",
      " 404.25 404.25 404.25 404.25 404.25 404.25 404.25 404.25 404.25 404.25\n",
      " 404.25 404.25 404.25 404.25]\n",
      "Las casas de menor compactacion realtiva tienen una superficie de [588. 588. 588. 588. 588. 588. 588. 588. 588. 588. 588. 588. 588. 588.\n",
      " 588. 588. 588. 588. 588. 588. 588. 588. 588. 588. 588. 588. 588. 588.\n",
      " 588. 588. 588. 588. 588. 588. 588. 588. 588. 588. 588. 588. 588. 588.\n",
      " 588. 588. 588. 588. 588. 588. 588. 588. 588. 588. 588. 588. 588. 588.\n",
      " 588. 588. 588. 588. 588. 588. 588. 588.]\n"
     ]
    }
   ],
   "source": [
    "## TODO B\n",
    "\n",
    "compactrel=datos[:,0]\n",
    "promcmctrl=np.mean(compactrel)\n",
    "desvcmctrl=np.std(compactrel)\n",
    "\n",
    "print(\"El promedio de compactacion realtiva es \",promcmctrl)\n",
    "\n",
    "mincmctrl=np.min(compactrel)\n",
    "maxcmctrl=np.max(compactrel)\n",
    "\n",
    "indmax=np.argwhere(datos)\n",
    "\n",
    "mask = datos[:,0] == mincmctrl\n",
    "suptot= datos[:,2]+datos[:,3] \n",
    "superfmin = suptot[mask]\n",
    "\n",
    "mask1= datos[:,0] == maxcmctrl\n",
    "superfmax = suptot[mask1]\n",
    "\n",
    "print(\"Las casas de menor compactacion realtiva tienen\", mincmctrl)\n",
    "print(\"Las casas de mayor compactacion realtiva tienen\", maxcmctrl)\n",
    "print(\"Las casas de mayor compactacion realtiva tienen una superficie de\", superfmax)\n",
    "print(\"Las casas de menor compactacion realtiva tienen una superficie de\",superfmin)\n",
    "\n"
   ]
  },
  {
   "cell_type": "markdown",
   "id": "17505bcb",
   "metadata": {},
   "source": [
    "##### C) Comparando proporción de área de vidriado con las carga de calentamiento y carga de enfriamiento.\n",
    "\n",
    "- C1) ¿Cuantos hogares por cada valor de *proporción de área de vidriado* hay en el set?\n",
    "- C2) Utilice *plt.hist()* de la librería *matplotlip.pyplot* para graficar el histograma de la columna *proporción de área de vidriado*.\n",
    "- C3) Genere un array formado por las columnas de *proporción de área de vidriado*, la de *Carga para calentamiento* y la de *Carga para enfriamiento*."
   ]
  },
  {
   "cell_type": "code",
   "execution_count": null,
   "id": "75b12c62",
   "metadata": {},
   "outputs": [
    {
     "name": "stdout",
     "output_type": "stream",
     "text": [
      "Existen 48 casas con valor de 0 en proporcion de area de vidriado\n",
      "Existen 240 casas con valor de 0.1 en proporcion de area de vidriado\n",
      "Existen 240 casas con valor de 0.25 en proporcion de area de vidriado\n",
      "Existen 240 casas con valor de 0.4 en proporcion de area de vidriado\n"
     ]
    }
   ],
   "source": [
    "## TODO desde C1 a C3\n",
    "\n",
    "\n",
    "\"\"\"\n",
    " 7) Proporción de área de vidriado: Es la proporción de edificación que esta cubierta \n",
    " por aberturas de vidrio. En este set de datos puede tomar 4 valores, los mismos son, 0.0, 0.1, 0.25 y 0.4.\n",
    "\"\"\"\n",
    "arvid=datos[:,6]\n",
    "mask4 = arvid == 0.0\n",
    "cont0=len(arvid[mask4])\n",
    "mask5 = arvid == 0.1\n",
    "cont01=len(arvid[mask5])\n",
    "mask6 = arvid == 0.25\n",
    "cont025=len(arvid[mask6])\n",
    "mask7 = arvid == 0.4\n",
    "cont04=len(arvid[mask7])\n",
    "\n",
    "print(\"Existen\", cont0, \"casas con valor de 0 en proporcion de area de vidriado\")\n",
    "print(\"Existen\", cont01, \"casas con valor de 0.1 en proporcion de area de vidriado\")\n",
    "print(\"Existen\", cont025, \"casas con valor de 0.25 en proporcion de area de vidriado\")\n",
    "print(\"Existen\", cont04, \"casas con valor de 0.4 en proporcion de area de vidriado\")"
   ]
  },
  {
   "cell_type": "code",
   "execution_count": null,
   "id": "e60be567",
   "metadata": {},
   "outputs": [
    {
     "data": {
      "image/png": "[encoded data removed]",
      "text/plain": [
       "<Figure size 432x288 with 1 Axes>"
      ]
     },
     "metadata": {
      "needs_background": "light"
     },
     "output_type": "display_data"
    }
   ],
   "source": [
    "import matplotlib.pyplot as plt\n",
    "arvid=datos[:,6]\n",
    "plt.hist(arvid)\n",
    "plt.title(\"Histograma de la columna de proporcion de area vidriada en las casas\")\n",
    "plt.show() "
   ]
  },
  {
   "cell_type": "code",
   "execution_count": null,
   "id": "0ae9b5db",
   "metadata": {},
   "outputs": [
    {
     "name": "stdout",
     "output_type": "stream",
     "text": [
      "[[ 0.   15.55 21.33]\n",
      " [ 0.   15.55 21.33]\n",
      " [ 0.   15.55 21.33]\n",
      " ...\n",
      " [ 0.4  16.44 17.11]\n",
      " [ 0.4  16.48 16.61]\n",
      " [ 0.4  16.64 16.03]]\n"
     ]
    }
   ],
   "source": [
    "\"\"\"\n",
    "- C3) Genere un array formado por las columnas de *proporción de área de vidriado*, \n",
    "la de *Carga para calentamiento* y la de *Carga para enfriamiento*.\n",
    "\"\"\"\n",
    "\"\"\"\n",
    "Divido las columnas de interes y las uno con .stack \n",
    "\"\"\"\n",
    "\n",
    "arvid=datos[:,6]\n",
    "carcal=datos[:,8]\n",
    "carenfr=datos[:,9]\n",
    "\n",
    "sumarr= np.stack([arvid,carcal,carenfr],1)\n",
    "\n",
    "print(sumarr)"
   ]
  },
  {
   "cell_type": "markdown",
   "id": "fed3b49b",
   "metadata": {},
   "source": [
    "- C4) A partir de la matriz generada en C3) encuentre el valor medio de la carga total de calentamiento y la de enfriamiento para cada valor de *proporción de área de vidriado*, guarde estos arrays en los arrays *promediosCalentamiento* y *promediosEnfiramiento*, respectivamente."
   ]
  },
  {
   "cell_type": "code",
   "execution_count": null,
   "id": "1d58d5ee",
   "metadata": {},
   "outputs": [
    {
     "name": "stdout",
     "output_type": "stream",
     "text": [
      "El promedio de calentemiento para casas con proporcion de vidriado 0.0 es 14.286458333333334  de enfriamiento 19.70625\n",
      "El promedio de calentemiento para casas con proporcion de vidriado 0.1 es 20.357166666666668  de enfriamiento 22.93554166666667\n",
      "El promedio de calentemiento para casas con proporcion de vidriado 0.25 es 22.756916666666665  de enfriamiento 24.892625000000002\n",
      "El promedio de calentemiento para casas con proporcion de vidriado 0.4 es 25.411666666666665  de enfriamiento 26.911416666666664\n"
     ]
    },
    {
     "data": {
      "image/png": "[encoded data removed]",
      "text/plain": [
       "<Figure size 432x288 with 1 Axes>"
      ]
     },
     "metadata": {
      "needs_background": "light"
     },
     "output_type": "display_data"
    }
   ],
   "source": [
    "### TODO C4\n",
    "sumarr= np.stack([arvid,carcal,carenfr],1)\n",
    "\n",
    "propVidriado = [0, 0.1, 0.25, 0.4]\n",
    "\n",
    "mask0 = sumarr[:,0] == propVidriado[0]\n",
    "cal0 = sumarr[:,1][mask0] #estoy trabajando sobre todas las filas pero solo con la columna 1\n",
    "enf0=sumarr[:,2][mask0] #estoy trabajando sobre todas las filas pero solo con la columna 2\n",
    "\n",
    "mask01 = sumarr[:,0] == propVidriado[1]\n",
    "cal1 = sumarr[:,1][mask01] #estoy trabajando sobre todas las filas pero solo con la columna 1\n",
    "enf1=sumarr[:,2][mask01] #estoy trabajando sobre todas las filas pero solo con la columna 2\n",
    "\n",
    "mask025 = sumarr[:,0] == propVidriado[2]\n",
    "cal25 = sumarr[:,1][mask025] #estoy trabajando sobre todas las filas pero solo con la columna 1\n",
    "enf25=sumarr[:,2][mask025] #estoy trabajando sobre todas las filas pero solo con la columna 2\n",
    "\n",
    "mask04 = sumarr[:,0] == propVidriado[3]\n",
    "cal4 = sumarr[:,1][mask04] \n",
    "enf4 =sumarr[:,2][mask04] #estoy trabajando sobre todas las filas pero solo con la columna 2\n",
    "\n",
    "\n",
    "promediosCalentamiento0 = np.mean(cal0)\n",
    "promediosEnfiramiento0 = np.mean(enf0)\n",
    "promediosCalentamiento01 = np.mean(cal1)\n",
    "promediosEnfiramiento01 = np.mean(enf1)\n",
    "promediosCalentamiento025 = np.mean(cal25)\n",
    "promediosEnfiramiento025 = np.mean(enf25)\n",
    "promediosCalentamiento04 = np.mean(cal4)\n",
    "promediosEnfiramiento04 = np.mean(enf4)\n",
    "\n",
    "promediosCalentamiento= [promediosCalentamiento0,promediosCalentamiento01,promediosCalentamiento025,promediosCalentamiento04]\n",
    "promediosEnfiramiento=[promediosEnfiramiento0,promediosEnfiramiento01,promediosEnfiramiento025,promediosEnfiramiento04]\n",
    "print(\"El promedio de calentemiento para casas con proporcion de vidriado 0.0 es\", promediosCalentamiento0,\" de enfriamiento\", promediosEnfiramiento0)\n",
    "print(\"El promedio de calentemiento para casas con proporcion de vidriado 0.1 es\", promediosCalentamiento01,\" de enfriamiento\", promediosEnfiramiento01)\n",
    "print(\"El promedio de calentemiento para casas con proporcion de vidriado 0.25 es\", promediosCalentamiento025,\" de enfriamiento\", promediosEnfiramiento025)\n",
    "print(\"El promedio de calentemiento para casas con proporcion de vidriado 0.4 es\", promediosCalentamiento04,\" de enfriamiento\", promediosEnfiramiento04)\n",
    "\n",
    "## Descomentar para graficar\n",
    "plt.plot(propVidriado, promediosCalentamiento, marker=\"P\", label = \"Calentamiento\")\n",
    "plt.plot(propVidriado, promediosEnfiramiento, marker=\"^\", label = \"Enfriamiento\")\n",
    "plt.title(\"Ventanas vs carga calentamiento y enfriamiento\")\n",
    "plt.ylabel(\"Carga\")\n",
    "plt.ylim((0,30))\n",
    "plt.xlabel(\"Proporción área de vidriado\")\n",
    "plt.legend()\n",
    "plt.show()"
   ]
  },
  {
   "cell_type": "markdown",
   "id": "5947639f",
   "metadata": {},
   "source": [
    "##### D) Comparando superficies de los techos contra carga de calentamiento y carga de enfriamiento\n",
    "\n",
    "- D1) ¿Cuántas áreas de techos diferentes hay en el set de datos? Guarde estos valores en un array llamado *roofAreas*. ¿Cuál es el promedio, en $m^2$ totales de todos los hogares?\n",
    "- D2) ¿Cuantos hogares por cada valor encontrado en el punto D1) hay en el set?\n",
    "- D3) Utilice *plt.hist()* de la librería *matplotlip.pyplot* para graficar el histograma de la columna *Área de techos*.\n",
    "- D4) Genere un array formado por las columnas de *Área de techos*, la de *Carga para calentamiento* y la de *Carga para enfriamiento*."
   ]
  },
  {
   "cell_type": "code",
   "execution_count": null,
   "id": "7fa31afc",
   "metadata": {},
   "outputs": [
    {
     "name": "stdout",
     "output_type": "stream",
     "text": [
      "[110.25 122.5  147.   220.5 ]\n",
      "64 128 192 384\n"
     ]
    }
   ],
   "source": [
    "## TODO de D1 a D4\n",
    "#D1\n",
    "areadetech= datos[:,3]\n",
    "roofAreas = np.unique(areadetech)\n",
    "print(roofAreas)\n",
    "promsuptot=np.mean(suptot)\n",
    "\n",
    "\n",
    "#D2\n",
    "\n",
    "mask0 = areadetech == roofAreas[0]\n",
    "tech0 = areadetech[mask0] #estoy trabajando sobre todas las filas pero solo con la columna 1\n",
    "numcas0= len(tech0) #estoy trabajando sobre todas las filas pero solo con la columna 2\n",
    "\n",
    "mask1 = areadetech == roofAreas[1]\n",
    "tech1 = areadetech[mask1] \n",
    "numcas1= len(tech1)\n",
    "\n",
    "mask2 = areadetech == roofAreas[2]\n",
    "tech2 = areadetech[mask2] \n",
    "numcas2= len(tech2)\n",
    "\n",
    "mask3 = areadetech == roofAreas[3]\n",
    "tech3 = areadetech[mask3] \n",
    "numcas3= len(tech3)\n",
    "\n",
    "\n",
    "\n",
    "print(numcas0, numcas1, numcas2, numcas3)\n",
    "\n"
   ]
  },
  {
   "cell_type": "code",
   "execution_count": null,
   "id": "d94fe261",
   "metadata": {},
   "outputs": [
    {
     "data": {
      "image/png": "[encoded data removed]",
      "text/plain": [
       "<Figure size 432x288 with 1 Axes>"
      ]
     },
     "metadata": {
      "needs_background": "light"
     },
     "output_type": "display_data"
    }
   ],
   "source": [
    "plt.hist(areadetech)\n",
    "plt.title(\"Histograma de la columna de proporcion de area vidriada en las casas\")\n",
    "plt.show() "
   ]
  },
  {
   "cell_type": "code",
   "execution_count": null,
   "id": "b49fa15f",
   "metadata": {},
   "outputs": [
    {
     "data": {
      "text/plain": [
       "array([[110.25,  15.55,  21.33],\n",
       "       [110.25,  15.55,  21.33],\n",
       "       [110.25,  15.55,  21.33],\n",
       "       ...,\n",
       "       [220.5 ,  16.44,  17.11],\n",
       "       [220.5 ,  16.48,  16.61],\n",
       "       [220.5 ,  16.64,  16.03]])"
      ]
     },
     "execution_count": 56,
     "metadata": {},
     "output_type": "execute_result"
    }
   ],
   "source": [
    "\n",
    "carcal=datos[:,8]\n",
    "carenfr=datos[:,9]\n",
    "\n",
    "arranewcal=np.stack([areadetech,carcal,carenfr],1)\n",
    "arranewcal"
   ]
  },
  {
   "cell_type": "markdown",
   "id": "295f3213",
   "metadata": {},
   "source": [
    "¿Qué conclusiones puede sacar del gráfico anterior acerca de la cantidad de carga de calor y de enfriamiento que se necesita en cada hogar respecto de las proporciones de ventanas vidriadas?"
   ]
  },
  {
   "cell_type": "markdown",
   "id": "a7d75740",
   "metadata": {},
   "source": [
    "- D5) A partir de la matriz generada en D4) encuentre el valor medio de la carga total de calentamiento y la de enfriamiento para cada valor de *Área de techos*, guarde estos arrays en los arrays *promediosCalentamiento* y *promediosEnfiramiento*, respectivamente."
   ]
  },
  {
   "cell_type": "code",
   "execution_count": null,
   "id": "a47765c4",
   "metadata": {},
   "outputs": [
    {
     "name": "stdout",
     "output_type": "stream",
     "text": [
      "El promedio de calentemiento para cada area de techo de  0.0 es 27.646250000000002  de enfriamiento 29.217031249999998\n",
      "El promedio de calentemiento para casas con proporcion de vidriado 0.1 es 33.6465625  de enfriamiento 35.113984374999994\n",
      "El promedio de calentemiento para casas con proporcion de vidriado 0.25 es 30.905312499999997  de enfriamiento 33.05984375\n",
      "El promedio de calentemiento para casas con proporcion de vidriado 0.4 es 13.338515625  de enfriamiento 16.071432291666667\n"
     ]
    },
    {
     "data": {
      "image/png": "[encoded data removed]",
      "text/plain": [
       "<Figure size 432x288 with 1 Axes>"
      ]
     },
     "metadata": {
      "needs_background": "light"
     },
     "output_type": "display_data"
    }
   ],
   "source": [
    "### TODO D5\n",
    "roofAreas = np.unique(areadetech)\n",
    "\n",
    "arranewcal=np.stack([areadetech,carcal,carenfr],1)\n",
    "\n",
    "mask0 = arranewcal[:,0] == roofAreas[0]\n",
    "cal0 = arranewcal[:,1][mask0] #estoy trabajando sobre todas las filas pero solo con la columna 1\n",
    "enf0=arranewcal[:,2][mask0] #estoy trabajando sobre todas las filas pero solo con la columna 2\n",
    "\n",
    "mask01 = arranewcal[:,0] == roofAreas[1]\n",
    "cal1 = arranewcal[:,1][mask01] #estoy trabajando sobre todas las filas pero solo con la columna 1\n",
    "enf1=arranewcal[:,2][mask01] #estoy trabajando sobre todas las filas pero solo con la columna 2\n",
    "\n",
    "mask025 = arranewcal[:,0] == roofAreas[2]\n",
    "cal25 = arranewcal[:,1][mask025] #estoy trabajando sobre todas las filas pero solo con la columna 1\n",
    "enf25=arranewcal[:,2][mask025] #estoy trabajando sobre todas las filas pero solo con la columna 2\n",
    "\n",
    "mask04 = arranewcal[:,0] == roofAreas[3]\n",
    "cal4 = arranewcal[:,1][mask04] \n",
    "enf4 =arranewcal[:,2][mask04] #estoy trabajando sobre todas las filas pero solo con la columna 2\n",
    "\n",
    "\n",
    "promediosCalentamiento0 = np.mean(cal0)\n",
    "promediosEnfiramiento0 = np.mean(enf0)\n",
    "promediosCalentamiento01 = np.mean(cal1)\n",
    "promediosEnfiramiento01 = np.mean(enf1)\n",
    "promediosCalentamiento025 = np.mean(cal25)\n",
    "promediosEnfiramiento025 = np.mean(enf25)\n",
    "promediosCalentamiento04 = np.mean(cal4)\n",
    "promediosEnfiramiento04 = np.mean(enf4)\n",
    "\n",
    "promediosCalentamiento= [promediosCalentamiento0,promediosCalentamiento01,promediosCalentamiento025,promediosCalentamiento04]\n",
    "promediosEnfiramiento=[promediosEnfiramiento0,promediosEnfiramiento01,promediosEnfiramiento025,promediosEnfiramiento04]\n",
    "print(\"El promedio de calentemiento para cada area de techo de  0.0 es\", promediosCalentamiento0,\" de enfriamiento\", promediosEnfiramiento0)\n",
    "print(\"El promedio de calentemiento para casas con proporcion de vidriado 0.1 es\", promediosCalentamiento01,\" de enfriamiento\", promediosEnfiramiento01)\n",
    "print(\"El promedio de calentemiento para casas con proporcion de vidriado 0.25 es\", promediosCalentamiento025,\" de enfriamiento\", promediosEnfiramiento025)\n",
    "print(\"El promedio de calentemiento para casas con proporcion de vidriado 0.4 es\", promediosCalentamiento04,\" de enfriamiento\", promediosEnfiramiento04)\n",
    "\n",
    "\n",
    "\n",
    "## Descomentar para graficar\n",
    "plt.plot(roofAreas, promediosCalentamiento, marker=\"P\", label = \"Calentamiento\")\n",
    "plt.plot(roofAreas, promediosEnfiramiento, marker=\"^\", label = \"Enfriamiento\")\n",
    "plt.title(\"Áreas de techos vs carga calentamiento y enfriamiento\")\n",
    "plt.ylabel(\"Carga\")\n",
    "plt.ylim((0,45))\n",
    "plt.xlabel(\"Proporción área de vidriado\")\n",
    "plt.legend()\n",
    "plt.show()"
   ]
  },
  {
   "cell_type": "markdown",
   "id": "daf6a673",
   "metadata": {},
   "source": [
    "¿Qué conclusiones puede sacar del gráfico anterior acerca de la cantidad de carga de calor y de enfriamiento que se necesita en cada hogar respecto del área total de los techos?"
   ]
  },
  {
   "cell_type": "markdown",
   "id": "7dc5ae3f",
   "metadata": {},
   "source": [
    "##### E) Comparando orientación de paredes contra carga de calentamiento y carga de enfriamiento\n",
    "\n",
    "- E1) ¿Cuantas casas hay por cada una de las orientaciones (columna *orientación*)?\n",
    "- E2) Utilice *plt.hist()* de la librería *matplotlip.pyplot* para graficar el histograma de la columna *Orientación de ventanas*.\n",
    "- E3) Genere un array formado por las columnas de *Orientación de ventanas*, la de *Carga para calentamiento* y la de *Carga para enfriamiento*."
   ]
  },
  {
   "cell_type": "code",
   "execution_count": null,
   "id": "2875a0a4",
   "metadata": {},
   "outputs": [
    {
     "name": "stdout",
     "output_type": "stream",
     "text": [
      "[2. 3. 4. 5.]\n",
      "192 192 192 192\n"
     ]
    }
   ],
   "source": [
    "## TODO de E1 a E3\n",
    "\"\"\"\n",
    "- 6) Orientación de ventanas: Si las ventanas apuntan al norte (2), al sur (3),a l este (4) o al oeste (5).\n",
    "\"\"\"\n",
    "#E1\n",
    "ventanas= datos[:,5]\n",
    "orientaciones = np.unique(ventanas)\n",
    "print(orientaciones)\n",
    "\n",
    "\n",
    "\n",
    "\n",
    "#E2\n",
    "\n",
    "mask0 = ventanas == orientaciones[0]\n",
    "tech0 = ventanas[mask0] #estoy trabajando sobre todas las filas pero solo con la columna 1\n",
    "numcas0= len(tech0) #estoy trabajando sobre todas las filas pero solo con la columna 2\n",
    "\n",
    "mask1 = ventanas == orientaciones[1]\n",
    "tech1 = ventanas[mask1] \n",
    "numcas1= len(tech1)\n",
    "\n",
    "mask2 = ventanas == orientaciones[2]\n",
    "tech2 = ventanas[mask2] \n",
    "numcas2= len(tech2)\n",
    "\n",
    "mask3 = ventanas == orientaciones[3]\n",
    "tech3 = ventanas[mask3] \n",
    "numcas3= len(tech3)\n",
    "\n",
    "\n",
    "\n",
    "print(numcas0, numcas1, numcas2, numcas3)\n",
    "\n"
   ]
  },
  {
   "cell_type": "code",
   "execution_count": null,
   "id": "6584344e",
   "metadata": {},
   "outputs": [
    {
     "data": {
      "image/png": "[encoded data removed]",
      "text/plain": [
       "<Figure size 432x288 with 1 Axes>"
      ]
     },
     "metadata": {
      "needs_background": "light"
     },
     "output_type": "display_data"
    }
   ],
   "source": [
    "plt.hist(ventanas)\n",
    "plt.title(\"Histograma de la columna de orientaciones de las ventanas\")\n",
    "plt.show() "
   ]
  },
  {
   "cell_type": "code",
   "execution_count": null,
   "id": "3f342f74",
   "metadata": {},
   "outputs": [],
   "source": [
    "ventanillasewcal=np.stack([ventanas,carcal,carenfr],1)"
   ]
  },
  {
   "cell_type": "markdown",
   "id": "c7cdaf5e",
   "metadata": {},
   "source": [
    "- E4) A partir de la matriz generada en E#) encuentre el valor medio de la carga total de calentamiento y la de enfriamiento para cada valor de *Orientación de ventanas*, guarde estos arrays en los arrays promediosCalentamiento y promediosEnfiramiento, respectivamente."
   ]
  },
  {
   "cell_type": "code",
   "execution_count": null,
   "id": "cd923097",
   "metadata": {},
   "outputs": [
    {
     "name": "stdout",
     "output_type": "stream",
     "text": [
      "El promedio de calentemiento para cada area de techo de  0.0 es 22.312864583333333  de enfriamiento 24.604531250000004\n",
      "El promedio de calentemiento para casas con proporcion de vidriado 0.1 es 22.380677083333335  de enfriamiento 24.312552083333333\n",
      "El promedio de calentemiento para casas con proporcion de vidriado 0.25 es 22.25989583333333  de enfriamiento 24.480312499999997\n",
      "El promedio de calentemiento para casas con proporcion de vidriado 0.4 es 22.27536458333334  de enfriamiento 24.95364583333333\n"
     ]
    },
    {
     "data": {
      "image/png": "[encoded data removed]",
      "text/plain": [
       "<Figure size 432x288 with 1 Axes>"
      ]
     },
     "metadata": {
      "needs_background": "light"
     },
     "output_type": "display_data"
    }
   ],
   "source": [
    "### TODO D5\n",
    "orientaciones = [2,3,4,5] #norte, sur, este, oeste.\n",
    "ventanillasewcal=np.stack([ventanas,carcal,carenfr],1)\n",
    "\n",
    "\n",
    "mask0 = ventanillasewcal[:,0] == orientaciones[0]\n",
    "cal0 = ventanillasewcal[:,1][mask0] #estoy trabajando sobre todas las filas pero solo con la columna 1\n",
    "enf0= ventanillasewcal[:,2][mask0] #estoy trabajando sobre todas las filas pero solo con la columna 2\n",
    "\n",
    "mask01 = ventanillasewcal[:,0] == orientaciones[1]\n",
    "cal1 = ventanillasewcal[:,1][mask01] #estoy trabajando sobre todas las filas pero solo con la columna 1\n",
    "enf1= ventanillasewcal[:,2][mask01] #estoy trabajando sobre todas las filas pero solo con la columna 2\n",
    "\n",
    "mask025 = ventanillasewcal[:,0] == orientaciones[2]\n",
    "cal25 = ventanillasewcal[:,1][mask025] #estoy trabajando sobre todas las filas pero solo con la columna 1\n",
    "enf25=ventanillasewcal[:,2][mask025] #estoy trabajando sobre todas las filas pero solo con la columna 2\n",
    "\n",
    "mask04 = ventanillasewcal[:,0] == orientaciones[3]\n",
    "cal4 = ventanillasewcal[:,1][mask04] \n",
    "enf4 =ventanillasewcal[:,2][mask04] #estoy trabajando sobre todas las filas pero solo con la columna 2\n",
    "\n",
    "\n",
    "promediosCalentamiento0 = np.mean(cal0)\n",
    "promediosEnfiramiento0 = np.mean(enf0)\n",
    "promediosCalentamiento01 = np.mean(cal1)\n",
    "promediosEnfiramiento01 = np.mean(enf1)\n",
    "promediosCalentamiento025 = np.mean(cal25)\n",
    "promediosEnfiramiento025 = np.mean(enf25)\n",
    "promediosCalentamiento04 = np.mean(cal4)\n",
    "promediosEnfiramiento04 = np.mean(enf4)\n",
    "\n",
    "promediosCalentamiento= [promediosCalentamiento0,promediosCalentamiento01,promediosCalentamiento025,promediosCalentamiento04]\n",
    "promediosEnfiramiento=[promediosEnfiramiento0,promediosEnfiramiento01,promediosEnfiramiento025,promediosEnfiramiento04]\n",
    "print(\"El promedio de calentemiento para cada area de techo de  0.0 es\", promediosCalentamiento0,\" de enfriamiento\", promediosEnfiramiento0)\n",
    "print(\"El promedio de calentemiento para casas con proporcion de vidriado 0.1 es\", promediosCalentamiento01,\" de enfriamiento\", promediosEnfiramiento01)\n",
    "print(\"El promedio de calentemiento para casas con proporcion de vidriado 0.25 es\", promediosCalentamiento025,\" de enfriamiento\", promediosEnfiramiento025)\n",
    "print(\"El promedio de calentemiento para casas con proporcion de vidriado 0.4 es\", promediosCalentamiento04,\" de enfriamiento\", promediosEnfiramiento04)\n",
    "\n",
    "## Descomentar para graficar\n",
    "plt.plot(orientaciones, promediosCalentamiento, marker=\"P\", label = \"Calentamiento\")\n",
    "plt.plot(orientaciones, promediosEnfiramiento, marker=\"^\", label = \"Enfriamiento\")\n",
    "plt.title(\"Orientaciones de ventana vs carga calentamiento y enfriamiento\")\n",
    "plt.ylabel(\"Carga\")\n",
    "plt.ylim((0,30))\n",
    "plt.xlabel(\"Orientaciones\")\n",
    "plt.legend()\n",
    "plt.show()"
   ]
  },
  {
   "cell_type": "markdown",
   "id": "796d2cff",
   "metadata": {},
   "source": [
    "<hr style=\"border:1px solid black\"> </hr>\n",
    "\n",
    "## Final Jupyter"
   ]
  }
 ],
 "metadata": {
  "kernelspec": {
   "display_name": "Python 3.9.7 ('base')",
   "language": "python",
   "name": "python3"
  },
  "language_info": {
   "codemirror_mode": {
    "name": "ipython",
    "version": 3
   },
   "file_extension": ".py",
   "mimetype": "text/x-python",
   "name": "python",
   "nbconvert_exporter": "python",
   "pygments_lexer": "ipython3",
   "version": "3.9.7"
  },
  "vscode": {
   "interpreter": {
    "hash": "ad2bdc8ecc057115af97d19610ffacc2b4e99fae6737bb82f5d7fb13d2f2c186"
   }
  }
 },
 "nbformat": 4,
 "nbformat_minor": 5
}
