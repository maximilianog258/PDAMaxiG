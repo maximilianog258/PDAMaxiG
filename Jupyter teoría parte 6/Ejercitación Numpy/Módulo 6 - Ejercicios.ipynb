{
 "cells": [
  {
   "cell_type": "markdown",
   "id": "3b028086",
   "metadata": {},
   "source": [
    "# <center> <span style='color:#ff6655'>Ejercitación Módulo 6</span></center>\n",
    "\n",
    "Módulo 6 - Parte teórica\n",
    "\n",
    "**Profesor Adjunto:** Mag. Bioing. Baldezzari Lucas\n",
    "\n",
    "<p style='text-align: left;'> V2022 </p>\n",
    "\n",
    "<hr style=\"border:1px solid gray\"> </hr>"
   ]
  },
  {
   "cell_type": "markdown",
   "id": "cd6990b8",
   "metadata": {},
   "source": [
    "### <span style='color:#16C79A'>1. Basics</span>\n",
    "\n",
    "Implemente lo siguiente:\n",
    "\n",
    "- 1.1) Cree un array de ceros -*vector nulo*- de 10 elementos.\n",
    "- 1.2) Cree un vector nulo de 10 elementos donde el 6to elemento sea 1.\n",
    "- 1.3) Cree un aray de 3x3x3 de valores enteros y aleatorios entre 1 y 20.\n",
    "- 1.4) Cree un array de 5x5 y ordenelo por filas. Repita pero ordenando por columnas. Revise la documentación de *numpy*sort()*.\n",
    "- 1.5) Considere un arreglo con shape *(6,7,8)*, ¿cuales son los índices *(x,y,z)* del elemento 100? \n",
    "- 1.6) Cree un array 2D que tenga valores 1 en sus bordes y cero dentro.\n",
    "- 1.7) Cree un array de 8x8 y genere un patrón de tablero de ajedrez con ceros y unos. Un 0 representa un casillero blanco y un 1 representa un casillero negro.\n",
    "- 1.8) Cree una matriz de 4x4 donde sus columnas tengan valores desde 1 a 4.\n",
    "- 1.9) Cree un vector de 10 valores entre 0 y 1 (sin incluir los extremos)."
   ]
  },
  {
   "cell_type": "code",
   "execution_count": null,
   "id": "310d18b4",
   "metadata": {},
   "outputs": [],
   "source": [
    "import numpy as np \n",
    "#1.1\n",
    "cero=np.zeros(10)\n",
    "print(cero)"
   ]
  },
  {
   "cell_type": "code",
   "execution_count": null,
   "id": "ce8a5f4b",
   "metadata": {},
   "outputs": [],
   "source": [
    "#1.2\n",
    "cero[5]=1\n",
    "print(cero)\n"
   ]
  },
  {
   "cell_type": "code",
   "execution_count": null,
   "id": "e26ed400",
   "metadata": {},
   "outputs": [],
   "source": [
    "#1.3\n",
    "random = np.random.randint(1,20, size = (3,3,3))\n",
    "print(random)"
   ]
  },
  {
   "cell_type": "code",
   "execution_count": null,
   "id": "fb68d05b",
   "metadata": {},
   "outputs": [],
   "source": [
    "#1.4\n",
    "randomfive=np.random.randint(1,5, size=(5,5))\n",
    "\"Se muestra el array 5x5 con valores de 1 a 5\"\n",
    "print(randomfive) \n",
    "\"Se ordena el array por filas\"\n",
    "filas=np.sort(randomfive,1)\n",
    "print(filas)\n",
    "\n",
    "print(\"###################################################################\")\n",
    "\n",
    "columnas=np.sort(randomfive,0)\n",
    "print(columnas)"
   ]
  },
  {
   "cell_type": "code",
   "execution_count": null,
   "id": "7d88e6e1",
   "metadata": {},
   "outputs": [],
   "source": [
    "#1.5) Considere un arreglo con shape *(6,7,8)*, ¿cuales son los índices *(x,y,z)* del elemento 100?\n",
    "\"\"\"\n",
    "Voy a crear un array con valores de 0 a 56*6 que da iguala a 336 valores.\n",
    "Luego realizo un reshape a ese array con la forma requerida por el ejercicio.\n",
    "Para enontrar el indice del valor 100 utilizo el array ordenado y aplico el \n",
    "metodo Argwhere. \n",
    "\"\"\"\n",
    "\n",
    "contarray = np.arange(336)\n",
    "ordenados = np.reshape(contarray,(6,7,8))\n",
    "lugar=np.argwhere(ordenados==100)\n",
    "print(contarray)\n",
    "print(lugar)\n",
    "\n",
    "#arra=np.random.randint(1,100, size=(6,7,8))\n",
    "#print(arra)\n",
    "#print(arra.shape)\n",
    "#print(np.ndim(arra))\n",
    "#array= np.reshape(arra,(6*7*8))\n",
    "#print(array[100])\n",
    "#ran domfive=np.random.randint(1,5, size=(5,5))"
   ]
  },
  {
   "cell_type": "code",
   "execution_count": 26,
   "id": "e857fa09",
   "metadata": {},
   "outputs": [
    {
     "ename": "SyntaxError",
     "evalue": "invalid syntax (Temp/ipykernel_8340/1514058421.py, line 6)",
     "output_type": "error",
     "traceback": [
      "\u001b[1;36m  File \u001b[1;32m\"C:\\Users\\USUARI~1\\AppData\\Local\\Temp/ipykernel_8340/1514058421.py\"\u001b[1;36m, line \u001b[1;32m6\u001b[0m\n\u001b[1;33m    np.put(arraceros,((0;14),(0;14)),1)\u001b[0m\n\u001b[1;37m                        ^\u001b[0m\n\u001b[1;31mSyntaxError\u001b[0m\u001b[1;31m:\u001b[0m invalid syntax\n"
     ]
    }
   ],
   "source": [
    "# 1.6) Cree un array 2D que tenga valores 1 en sus bordes y cero dentro.\n",
    "\n",
    "arraceros= np.zeros((15,15))\n",
    "print(arraceros)\n",
    "\n",
    "np.put(arraceros,((0,14,)),1)\n",
    "print(arraceros)"
   ]
  },
  {
   "cell_type": "markdown",
   "id": "c757d8bd",
   "metadata": {},
   "source": [
    "### <span style='color:#16C79A'>2. Sumarizing datos</span>\n",
    "\n",
    "- 2.1) A partir de un array 2D la media total, la media a lo largo de las filas y la media a lo largo de las columnas. Agregue una columna con las medias por columna. Idem para filas.\n",
    "- 2.2) Repita el punto anterior pero para el desvío estándar.\n",
    "- 2.3) Carge una imágen RGB y genere otro array con los valores medios de los píxeles en cada canal.\n",
    "- 2.4) Cree un array de 11x11 y llenelo de valores aleatorios enteros entre 1 y 100 y normalice sus valores. La normalización esta dada por,\n",
    "$$ z_i = \\frac{x_i - \\bar{X}}{\\sigma} $$\n",
    "- 2.5) A partir de un array de números enteros, encuentre cual es valor que más se repite. Revise la función *nunmpy.unique()* para ayudarse."
   ]
  },
  {
   "cell_type": "markdown",
   "id": "f678a01a",
   "metadata": {},
   "source": [
    "### <span style='color:#16C79A'>3. Filtrando arrays</span>\n",
    "\n",
    "- 3.1) Dado un array, reemplazar los elementos que estén entre 2 y 5 por su negado (positivos a negativos, y viceversa).\n",
    "- 3.2) Obtener los índices de un arreglo 2D de enteros correspondientes a los valores que sean números primos.\n",
    "- 3.3) Obtener un array con los índices correspondientes a aquellos valores que se repiten en dos arrays 1D.\n",
    "\n",
    "    ```python\n",
    "    ## Ejemplo 3.3\n",
    "\n",
    "    a = np.array([1,2,3,4,5])\n",
    "    b = np.array([1,4,4,4,5])\n",
    "\n",
    "    ## el programa debe retornar un array con los valores\n",
    "    ## [0,3,4]\n",
    "    ```"
   ]
  },
  {
   "cell_type": "markdown",
   "id": "fa1c00d5",
   "metadata": {},
   "source": [
    "### <span style='color:#16C79A'>4. Operaciones básicas con matrices</span>\n",
    "\n",
    "- 4.1) A partir de un array 2D de valores aleatorios que representan coordenadas de puntos en el espacio 2D encontrar la distancia euclidiana punto a punto. Utilice *numpy.random.random()* para generar el array.\n",
    "- 4.2) Calcule los valores medios de cada columna de una matriz 2D. Reste los valores medios calculados a sus correspondienes columnas.\n",
    "- 4.3) Implemente una función que devuelva *True* si alguna columna de una matriz 2D posee una *columna nula*, donde una columna nula es aquella que esta compuesta de ceros.\n",
    "- 4.4) Implemente una fucnión que devuelva el produco punto de dos matrices, en el caso de que estas no sean compatibles la función debe retornar None.\n",
    "- 4.5) Implemente una función que devuelva la diagonal a partir del producto punto entre dos matrices cuadradas.\n",
    "- 4.6) A partir de un array 2D cambie de posición de dos filas cualquiera."
   ]
  },
  {
   "cell_type": "markdown",
   "id": "af4d3b7a",
   "metadata": {},
   "source": [
    "### <span style='color:#16C79A'>5. Desafío</span>\n",
    "\n",
    "- 5.1) A partir de un array 2D lleno de ceros, implemente una función que reemplace *p* elementos iguales a 1 en posiciones aleatorias del array. Utilice *numpy.put()* y *numpy.random.choice()*.\n",
    "- 5.2) Ordene un array 2D en base a la *n-ésima* columna. Hint: Revise *numpy.argsort()* para resolver.\n",
    "- 5.3) Genere una función llamada *mediaMovil()* que reciba como parámetro un array y un valor entero correspondiente a la cantidad de elementos a calcular la media. La función debe retornar un nuevo array con las medias móviles calculadas.\n",
    "- 5.4) A partir de un array 1D obtenga un array con los valores correspondientes al \"ranking\" que ocupan los valores del array original, sin cambiar el orden (Hint: Se recomienda usar *numpy.argsort()*). Vea el ejemplo.\n",
    "\n",
    "    ```python\n",
    "    np.random.seed(42)\n",
    "    a = np.random.randint(20, size=10)\n",
    "    ## a es array([ 6, 19, 14, 10,  7,  6, 18, 10, 10,  3])\n",
    "    \n",
    "    ## salida esperada\n",
    "    [1, 9, 7, 4, 3, 2, 8, 5, 6, 0]\n",
    "    ```\n",
    "    \n"
   ]
  },
  {
   "cell_type": "code",
   "execution_count": null,
   "id": "67450f99",
   "metadata": {},
   "outputs": [],
   "source": [
    "# 5.1\n",
    "import numpy as np\n",
    "array=np.\n",
    "\n"
   ]
  },
  {
   "cell_type": "code",
   "execution_count": null,
   "id": "3fa81e8b",
   "metadata": {},
   "outputs": [],
   "source": [
    "#5.3 Ejemplo ahi vamos haciendo como si sabemos\n",
    "\n",
    "import numpy as np\n",
    "\n",
    "import matplotlib.pyplot as plt\n",
    "\n",
    "ejarr=np.random.rand(170)\n",
    "\n",
    "n = 3\n",
    "#define la función de promedio móvil \n",
    "def moving_avg (ejarr, n):\n",
    "    cumsum = np.cumsum (ejarr)\n",
    "    return (cumsum [n:] - cumsum [: - n]) / float (n)\n",
    "\n",
    "#calcular la media móvil utilizando los 3 períodos de tiempo anteriores\n",
    "\n",
    "plt.plot(ejarr)\n",
    "ejemplo=moving_avg(ejarr,25)\n",
    "plt.plot(ejemplo)\n",
    "plt.show()\n"
   ]
  },
  {
   "cell_type": "markdown",
   "id": "ca8ef9fd",
   "metadata": {},
   "source": [
    "### <span style='color:#16C79A'>6. Dividiendo una imágen en cuadrantes</span>\n",
    "\n",
    "Cargue una imágen RGB y obtenga 4 arrays correspondientes a los cuatro cadrantes de la imágen."
   ]
  },
  {
   "cell_type": "markdown",
   "id": "5a050d9d",
   "metadata": {},
   "source": [
    "### <span style='color:#16C79A'>7. Filtrando señal de plestimografía (obligatorio)</span>\n",
    "\n",
    "Cargue la señal de fotoplestimografía utilizada en la guía de ejercicios del módulo 4 y apliquele la función *mediaMovil()* realizada en el ejercicio 5.3). ¿Hay algún cambio en la señal? ¿Qué tipo de filtro es una media movil?"
   ]
  },
  {
   "cell_type": "code",
   "execution_count": null,
   "id": "56b6d19a",
   "metadata": {},
   "outputs": [],
   "source": []
  },
  {
   "cell_type": "markdown",
   "id": "329fb430",
   "metadata": {},
   "source": [
    "### <span style='color:#16C79A'>8. Mejorando la clase *Image* y el módulo *procesImage* (obligatorio)</span>\n",
    "\n",
    "Utilizando numpy y sus funcionalidades implemente una versión mejorada de la clase *Image* y las funciones dentro del módulo *procesImage* del ejercicio 6 de la guía de práctica del Módulo 4."
   ]
  },
  {
   "cell_type": "markdown",
   "id": "f7475e9b",
   "metadata": {},
   "source": [
    "### <span style='color:#16C79A'>9. Analizando eficiencia energética en hogares (obligatorio)</span>\n",
    "\n",
    "A continuación realizará el análisis de algunos parámetros acerca de los requerimientos para climatizar un hogar, ya sea para verano o invierno, es decir, la *eficiencia energética*. Usted cuenta con un [set de datos](https://archive.ics.uci.edu/ml/datasets/Energy+efficiency#) llamado *eficienciaEnergética.csv*, el cual contiene 10 columnas de datos, las cuales de izquierda a derecha son,\n",
    "\n",
    "- 1) Compactación relativa: Medida de la compactación de la casa. Hogares mas compactos, menos espacios vacíos a los cuales enfriar o calentar. Los valores van de 0 a 1.\n",
    "- 2) Superficie total: Superficie (en $m^2$) total del hogar.\n",
    "- 3) Área de muros: Superficie total (en $m^2$) cubierta por muros.\n",
    "- 4) Área de techos: Superficie total (en $m^2$) de techos.\n",
    "- 5) Altura total: Algtura total (en $m$) de la casa.\n",
    "- 6) Orientación de ventanas: Si las ventanas apuntan al norte (2), al sur (3),a l este (4) o al oeste (5).\n",
    "- 7) Proporción de área de vidriado: Es la proporción de edificación que esta cubierta por aberturas de vidrio. En este set de datos puede tomar 4 valores, los mismos son, 0.0, 0.1, 0.25 y 0.4.\n",
    "- 8) Distribución de ventanas: Distribución de ventanas en el hogar.\n",
    "- 9) Carga para calentamiento: Cuanta carga (en KWatts) es necesario aportar al hogar para calentarlo.\n",
    "- 10) Carga para enfriamiento: Cuanta carga (en KWatts) de frío es necesario aportar al hogar para enfriarlo.\n",
    "\n",
    "A continuación se cargan los datos."
   ]
  },
  {
   "cell_type": "code",
   "execution_count": null,
   "id": "588a2c3a",
   "metadata": {},
   "outputs": [],
   "source": [
    "## Cargando datos\n",
    "import numpy as np\n",
    "datos = np.genfromtxt('eficienciaEnergética.csv',delimiter=',',dtype = np.float64)"
   ]
  },
  {
   "cell_type": "markdown",
   "id": "6be9b1e0",
   "metadata": {},
   "source": [
    "#### Responda\n",
    "\n",
    "##### A) Generales\n",
    "- A.1 ¿Cuantos hogares han sido utilizados en el set?\n",
    "- A2. ¿Cuáles son los valores promedios de Área de Muros, Áreas de techos y Superficie total? También calcule los desvíos estándar.\n",
    "- A3. ¿Cuales son los valores promedios y los desvíos estándar para las cargas de calentamiento y enfriamiento?"
   ]
  },
  {
   "cell_type": "code",
   "execution_count": null,
   "id": "35890bec",
   "metadata": {},
   "outputs": [],
   "source": [
    "## TODO A"
   ]
  },
  {
   "cell_type": "markdown",
   "id": "853bd6d0",
   "metadata": {},
   "source": [
    "##### B) Acerca de compactación relativa\n",
    "- B1) ¿Cuál es el valor medio de compactación relativa?\n",
    "- B2) ¿Cuál es la superficie total de la casa (o casas) con menor compactación? Idem para mayor compactación."
   ]
  },
  {
   "cell_type": "code",
   "execution_count": null,
   "id": "12daaf73",
   "metadata": {},
   "outputs": [],
   "source": [
    "## TODO B"
   ]
  },
  {
   "cell_type": "markdown",
   "id": "17505bcb",
   "metadata": {},
   "source": [
    "##### C) Comparando proporción de área de vidriado con las carga de calentamiento y carga de enfriamiento.\n",
    "\n",
    "- C1) ¿Cuantos hogares por cada valor de *proporción de área de vidriado* hay en el set?\n",
    "- C2) Utilice *plt.hist()* de la librería *matplotlip.pyplot* para graficar el histograma de la columna *proporción de área de vidriado*.\n",
    "- C3) Genere un array formado por las columnas de *proporción de área de vidriado*, la de *Carga para calentamiento* y la de *Carga para enfriamiento*."
   ]
  },
  {
   "cell_type": "code",
   "execution_count": null,
   "id": "75b12c62",
   "metadata": {},
   "outputs": [],
   "source": [
    "## TODO desde C1 a C3"
   ]
  },
  {
   "cell_type": "markdown",
   "id": "fed3b49b",
   "metadata": {},
   "source": [
    "- C4) A partir de la matriz generada en C3) encuentre el valor medio de la carga total de calentamiento y la de enfriamiento para cada valor de *proporción de área de vidriado*, guarde estos arrays en los arrays *promediosCalentamiento* y *promediosEnfiramiento*, respectivamente."
   ]
  },
  {
   "cell_type": "code",
   "execution_count": null,
   "id": "1d58d5ee",
   "metadata": {},
   "outputs": [],
   "source": [
    "### TODO C4\n",
    "propVidriado = [0, 0.1, 0.25, 0.4]\n",
    "promediosCalentamiento = ___\n",
    "promediosEnfiramiento = ___\n",
    "\n",
    "# ## Descomentar para graficar\n",
    "# plt.plot(propVidriado, promediosCalentamiento, marker=\"P\", label = \"Calentamiento\")\n",
    "# plt.plot(propVidriado, promediosEnfiramiento, marker=\"^\", label = \"Enfriamiento\")\n",
    "# plt.title(\"Ventanas vs carga calentamiento y enfriamiento\")\n",
    "# plt.ylabel(\"Carga\")\n",
    "# plt.ylim((0,30))\n",
    "# plt.xlabel(\"Proporción área de vidriado\")\n",
    "# plt.legend()\n",
    "# plt.show()"
   ]
  },
  {
   "cell_type": "markdown",
   "id": "5947639f",
   "metadata": {},
   "source": [
    "##### D) Comparando superficies de los techos contra carga de calentamiento y carga de enfriamiento\n",
    "\n",
    "- D1) ¿Cuántas áreas de techos diferentes hay en el set de datos? Guarde estos valores en un array llamado *roofAreas*. ¿Cuál es el promedio, en $m^2$ totales de todos los hogares?\n",
    "- D2) ¿Cuantos hogares por cada valor encontrado en el punto D1) hay en el set?\n",
    "- D3) Utilice *plt.hist()* de la librería *matplotlip.pyplot* para graficar el histograma de la columna *Área de techos*.\n",
    "- D4) Genere un array formado por las columnas de *Área de techos*, la de *Carga para calentamiento* y la de *Carga para enfriamiento*."
   ]
  },
  {
   "cell_type": "code",
   "execution_count": null,
   "id": "7fa31afc",
   "metadata": {},
   "outputs": [],
   "source": [
    "## TODO de D1 a D4"
   ]
  },
  {
   "cell_type": "markdown",
   "id": "295f3213",
   "metadata": {},
   "source": [
    "¿Qué conclusiones puede sacar del gráfico anterior acerca de la cantidad de carga de calor y de enfriamiento que se necesita en cada hogar respecto de las proporciones de ventanas vidriadas?"
   ]
  },
  {
   "cell_type": "markdown",
   "id": "a7d75740",
   "metadata": {},
   "source": [
    "- D5) A partir de la matriz generada en D4) encuentre el valor medio de la carga total de calentamiento y la de enfriamiento para cada valor de *Área de techos*, guarde estos arrays en los arrays *promediosCalentamiento* y *promediosEnfiramiento*, respectivamente."
   ]
  },
  {
   "cell_type": "code",
   "execution_count": null,
   "id": "a47765c4",
   "metadata": {},
   "outputs": [],
   "source": [
    "### TODO D5\n",
    "roofAreas = ___\n",
    "promediosCalentamiento = ___\n",
    "promediosEnfiramiento = ___\n",
    "\n",
    "# ## Descomentar para graficar\n",
    "# plt.plot(roofAreas, promediosCalentamiento, marker=\"P\", label = \"Calentamiento\")\n",
    "# plt.plot(roofAreas, promediosEnfiramiento, marker=\"^\", label = \"Enfriamiento\")\n",
    "# plt.title(\"Áreas de techos vs carga calentamiento y enfriamiento\")\n",
    "# plt.ylabel(\"Carga\")\n",
    "# plt.ylim((0,30))\n",
    "# plt.xlabel(\"Proporción área de vidriado\")\n",
    "# plt.legend()\n",
    "# plt.show()"
   ]
  },
  {
   "cell_type": "markdown",
   "id": "daf6a673",
   "metadata": {},
   "source": [
    "¿Qué conclusiones puede sacar del gráfico anterior acerca de la cantidad de carga de calor y de enfriamiento que se necesita en cada hogar respecto del área total de los techos?"
   ]
  },
  {
   "cell_type": "markdown",
   "id": "7dc5ae3f",
   "metadata": {},
   "source": [
    "##### E) Comparando orientación de paredes contra carga de calentamiento y carga de enfriamiento\n",
    "\n",
    "- E1) ¿Cuantas casas hay por cada una de las orientaciones (columna *orientación*)?\n",
    "- E2) Utilice *plt.hist()* de la librería *matplotlip.pyplot* para graficar el histograma de la columna *Orientación de ventanas*.\n",
    "- E3) Genere un array formado por las columnas de *Orientación de ventanas*, la de *Carga para calentamiento* y la de *Carga para enfriamiento*."
   ]
  },
  {
   "cell_type": "code",
   "execution_count": null,
   "id": "2875a0a4",
   "metadata": {},
   "outputs": [],
   "source": [
    "## TODO de E1 a E3"
   ]
  },
  {
   "cell_type": "markdown",
   "id": "c7cdaf5e",
   "metadata": {},
   "source": [
    "- E4) A partir de la matriz generada en E#) encuentre el valor medio de la carga total de calentamiento y la de enfriamiento para cada valor de *Orientación de ventanas*, guarde estos arrays en los arrays promediosCalentamiento y promediosEnfiramiento, respectivamente."
   ]
  },
  {
   "cell_type": "code",
   "execution_count": null,
   "id": "cd923097",
   "metadata": {},
   "outputs": [],
   "source": [
    "### TODO D5\n",
    "orientaciones = [2,3,4,5] #norte, sur, este, oeste.\n",
    "promediosCalentamiento = ___\n",
    "promediosEnfiramiento = ___\n",
    "\n",
    "# ## Descomentar para graficar\n",
    "# plt.plot(orientaciones, promediosCalentamiento, marker=\"P\", label = \"Calentamiento\")\n",
    "# plt.plot(orientaciones, promediosEnfiramiento, marker=\"^\", label = \"Enfriamiento\")\n",
    "# plt.title(\"Orientaciones de ventana vs carga calentamiento y enfriamiento\")\n",
    "# plt.ylabel(\"Carga\")\n",
    "# plt.ylim((0,30))\n",
    "# plt.xlabel(\"Orientaciones\")\n",
    "# plt.legend()\n",
    "# plt.show()"
   ]
  },
  {
   "cell_type": "markdown",
   "id": "796d2cff",
   "metadata": {},
   "source": [
    "<hr style=\"border:1px solid black\"> </hr>\n",
    "\n",
    "## Final Jupyter"
   ]
  }
 ],
 "metadata": {
  "interpreter": {
   "hash": "ad2bdc8ecc057115af97d19610ffacc2b4e99fae6737bb82f5d7fb13d2f2c186"
  },
  "kernelspec": {
   "display_name": "Python 3.9.7 ('base')",
   "language": "python",
   "name": "python3"
  },
  "language_info": {
   "codemirror_mode": {
    "name": "ipython",
    "version": 3
   },
   "file_extension": ".py",
   "mimetype": "text/x-python",
   "name": "python",
   "nbconvert_exporter": "python",
   "pygments_lexer": "ipython3",
   "version": "3.9.7"
  }
 },
 "nbformat": 4,
 "nbformat_minor": 5
}
