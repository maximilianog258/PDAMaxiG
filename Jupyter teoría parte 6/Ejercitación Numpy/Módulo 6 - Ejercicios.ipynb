{
 "cells": [
  {
   "cell_type": "markdown",
   "id": "3b028086",
   "metadata": {},
   "source": [
    "# <center> <span style='color:#ff6655'>Ejercitación Módulo 6</span></center>\n",
    "\n",
    "Módulo 6 - Parte teórica\n",
    "\n",
    "**Profesor Adjunto:** Mag. Bioing. Baldezzari Lucas\n",
    "\n",
    "<p style='text-align: left;'> V2022 </p>\n",
    "\n",
    "<hr style=\"border:1px solid gray\"> </hr>"
   ]
  },
  {
   "cell_type": "markdown",
   "id": "cd6990b8",
   "metadata": {},
   "source": [
    "### <span style='color:#16C79A'>1. Basics</span>\n",
    "\n",
    "Implemente lo siguiente:\n",
    "\n",
    "- 1.1) Cree un array de ceros -*vector nulo*- de 10 elementos.\n",
    "- 1.2) Cree un vector nulo de 10 elementos donde el 6to elemento sea 1.\n",
    "- 1.3) Cree un aray de 3x3x3 de valores enteros y aleatorios entre 1 y 20.\n",
    "- 1.4) Cree un array de 5x5 y ordenelo por filas. Repita pero ordenando por columnas. Revise la documentación de *numpy*sort()*.\n",
    "- 1.5) Considere un arreglo con shape *(6,7,8)*, ¿cuales son los índices *(x,y,z)* del elemento 100? \n",
    "- 1.6) Cree un array 2D que tenga valores 1 en sus bordes y cero dentro.\n",
    "- 1.7) Cree un array de 8x8 y genere un patrón de tablero de ajedrez con ceros y unos. Un 0 representa un casillero blanco y un 1 representa un casillero negro.\n",
    "- 1.8) Cree una matriz de 4x4 donde sus columnas tengan valores desde 1 a 4.\n",
    "- 1.9) Cree un vector de 10 valores entre 0 y 1 (sin incluir los extremos)."
   ]
  },
  {
   "cell_type": "code",
   "execution_count": 1,
   "id": "310d18b4",
   "metadata": {},
   "outputs": [
    {
     "name": "stdout",
     "output_type": "stream",
     "text": [
      "[0. 0. 0. 0. 0. 0. 0. 0. 0. 0.]\n"
     ]
    }
   ],
   "source": [
    "import numpy as np \n",
    "#1.1\n",
    "cero=np.zeros(10)\n",
    "print(cero)"
   ]
  },
  {
   "cell_type": "code",
   "execution_count": 2,
   "id": "ce8a5f4b",
   "metadata": {},
   "outputs": [
    {
     "name": "stdout",
     "output_type": "stream",
     "text": [
      "[0. 0. 0. 0. 0. 1. 0. 0. 0. 0.]\n"
     ]
    }
   ],
   "source": [
    "#1.2\n",
    "cero[5]=1\n",
    "print(cero)\n"
   ]
  },
  {
   "cell_type": "code",
   "execution_count": 3,
   "id": "e26ed400",
   "metadata": {},
   "outputs": [
    {
     "name": "stdout",
     "output_type": "stream",
     "text": [
      "[[[ 5  5  1]\n",
      "  [14  9  5]\n",
      "  [ 9  6  3]]\n",
      "\n",
      " [[12 19 11]\n",
      "  [10 18  2]\n",
      "  [16 13 11]]\n",
      "\n",
      " [[ 1 11 16]\n",
      "  [ 6  8  7]\n",
      "  [16 18 15]]]\n"
     ]
    }
   ],
   "source": [
    "#1.3\n",
    "random = np.random.randint(1,20, size = (3,3,3))\n",
    "print(random)"
   ]
  },
  {
   "cell_type": "code",
   "execution_count": 7,
   "id": "fb68d05b",
   "metadata": {},
   "outputs": [
    {
     "name": "stdout",
     "output_type": "stream",
     "text": [
      "[[4 4 3 3 4]\n",
      " [4 3 2 3 3]\n",
      " [3 2 1 1 2]\n",
      " [4 4 3 3 2]\n",
      " [1 3 4 4 2]]\n",
      "[[3 3 4 4 4]\n",
      " [2 3 3 3 4]\n",
      " [1 1 2 2 3]\n",
      " [2 3 3 4 4]\n",
      " [1 2 3 4 4]]\n",
      "###################################################################\n",
      "[[1 2 1 1 2]\n",
      " [3 3 2 3 2]\n",
      " [4 3 3 3 2]\n",
      " [4 4 3 3 3]\n",
      " [4 4 4 4 4]]\n"
     ]
    }
   ],
   "source": [
    "#1.4\n",
    "randomfive=np.random.randint(1,5, size=(5,5))\n",
    "\"Se muestra el array 5x5 con valores de 1 a 5\"\n",
    "print(randomfive) \n",
    "\"Se ordena el array por filas\"\n",
    "filas=np.sort(randomfive,1)\n",
    "print(filas)\n",
    "\n",
    "print(\"###################################################################\")\n",
    "\n",
    "columnas=np.sort(randomfive,0)\n",
    "print(columnas)"
   ]
  },
  {
   "cell_type": "code",
   "execution_count": 14,
   "id": "7d88e6e1",
   "metadata": {},
   "outputs": [
    {
     "name": "stdout",
     "output_type": "stream",
     "text": [
      "[[[0.42676681 0.22938931 0.86350157 0.37392496 0.71897853 0.33346955\n",
      "   0.2589549  0.59697577]\n",
      "  [0.92897824 0.73806253 0.95293163 0.17637839 0.04840178 0.2374803\n",
      "   0.18141064 0.51533117]\n",
      "  [0.89701317 0.80405877 0.27624193 0.63827315 0.77759033 0.83002343\n",
      "   0.83991713 0.12035772]\n",
      "  [0.59655227 0.4299718  0.31296732 0.94039286 0.74082622 0.65737363\n",
      "   0.19434076 0.44414447]\n",
      "  [0.32268583 0.61301676 0.04743764 0.33385984 0.58413395 0.5002627\n",
      "   0.93530404 0.18475059]\n",
      "  [0.66942672 0.80074097 0.97136254 0.51723322 0.26109294 0.71024128\n",
      "   0.57033867 0.57000913]\n",
      "  [0.58978025 0.04945106 0.16834084 0.53341505 0.54186444 0.01552281\n",
      "   0.98869816 0.46281384]]\n",
      "\n",
      " [[0.41897846 0.32934878 0.14631917 0.98555753 0.92784593 0.75608207\n",
      "   0.81705837 0.48109117]\n",
      "  [0.61417462 0.87983978 0.20990591 0.65183442 0.42631637 0.38610144\n",
      "   0.46608017 0.0449073 ]\n",
      "  [0.13985057 0.04193715 0.49257617 0.26580904 0.05256424 0.51022149\n",
      "   0.74476172 0.41092845]\n",
      "  [0.45494522 0.462485   0.16045661 0.25607372 0.66043316 0.11376959\n",
      "   0.05359919 0.69751915]\n",
      "  [0.28174162 0.11783214 0.4186864  0.15492565 0.68259758 0.35438132\n",
      "   0.5495553  0.60329539]\n",
      "  [0.00791093 0.23427531 0.49911557 0.07394195 0.38579352 0.84739574\n",
      "   0.73244258 0.29835472]\n",
      "  [0.18526993 0.41960528 0.40092658 0.57481791 0.12311704 0.48492572\n",
      "   0.07111549 0.78418515]]\n",
      "\n",
      " [[0.22208979 0.18463236 0.80684909 0.95344457 0.2272045  0.48864246\n",
      "   0.45771468 0.1123612 ]\n",
      "  [0.30536541 0.14364348 0.34216648 0.90829605 0.00854023 0.91604462\n",
      "   0.19652616 0.01802977]\n",
      "  [0.73119477 0.54770232 0.83086815 0.41297435 0.34783968 0.87173294\n",
      "   0.68182923 0.23336871]\n",
      "  [0.96865997 0.64908663 0.76084556 0.24490979 0.28309701 0.37835731\n",
      "   0.15220665 0.75715132]\n",
      "  [0.4262888  0.96255677 0.58445155 0.54057815 0.61826604 0.19296266\n",
      "   0.85956192 0.20406509]\n",
      "  [0.91899574 0.22707989 0.57798635 0.93756418 0.95364383 0.86231103\n",
      "   0.89616945 0.23080408]\n",
      "  [0.02696784 0.32270857 0.18466421 0.89036817 0.45810652 0.54230236\n",
      "   0.08950349 0.14412474]]\n",
      "\n",
      " [[0.21935586 0.52985602 0.7545345  0.6673384  0.72093413 0.26433935\n",
      "   0.17327924 0.59636155]\n",
      "  [0.47063857 0.41962911 0.89934025 0.47309407 0.0612776  0.83979348\n",
      "   0.62612361 0.54641809]\n",
      "  [0.05953837 0.41705177 0.86093181 0.92261081 0.76148182 0.40581271\n",
      "   0.1464381  0.53523893]\n",
      "  [0.11452096 0.5078563  0.56019981 0.6838812  0.78627679 0.46487082\n",
      "   0.03142036 0.20694099]\n",
      "  [0.95309604 0.26960331 0.54116564 0.19171026 0.36887132 0.02125739\n",
      "   0.43823996 0.6563002 ]\n",
      "  [0.81878691 0.06411204 0.22974973 0.41648083 0.46872415 0.8917724\n",
      "   0.29990754 0.50411328]\n",
      "  [0.49396741 0.81110041 0.31827905 0.06943879 0.07633241 0.75519365\n",
      "   0.12427404 0.88640961]]\n",
      "\n",
      " [[0.99871963 0.33200773 0.97465281 0.81446566 0.67104054 0.96829717\n",
      "   0.17740798 0.08311681]\n",
      "  [0.61212442 0.10282284 0.21277554 0.76277759 0.13420637 0.1196781\n",
      "   0.54406247 0.72806697]\n",
      "  [0.22965385 0.10622368 0.83305214 0.4727111  0.91568329 0.69790104\n",
      "   0.81810956 0.63217017]\n",
      "  [0.66300894 0.70656523 0.24804451 0.10191638 0.8096103  0.68068254\n",
      "   0.63568928 0.56025029]\n",
      "  [0.27187457 0.40547787 0.29235365 0.9994468  0.67995966 0.66816885\n",
      "   0.49675263 0.68359989]\n",
      "  [0.7645156  0.23039841 0.27454316 0.43878197 0.96051031 0.85463031\n",
      "   0.78667927 0.48986968]\n",
      "  [0.44577139 0.72910439 0.35301587 0.89023568 0.44763833 0.17295767\n",
      "   0.18711338 0.807386  ]]\n",
      "\n",
      " [[0.11077602 0.3133221  0.84984674 0.59461125 0.43469586 0.93990004\n",
      "   0.47515393 0.38009965]\n",
      "  [0.59071564 0.58670234 0.13199678 0.15501692 0.10209927 0.39595012\n",
      "   0.50089174 0.86478401]\n",
      "  [0.11497718 0.35936231 0.09453668 0.55263919 0.54206907 0.83477128\n",
      "   0.93263478 0.99168014]\n",
      "  [0.49328178 0.29673251 0.8598122  0.66137812 0.55576223 0.18203007\n",
      "   0.60708355 0.5407332 ]\n",
      "  [0.71484546 0.15292635 0.70145817 0.46339762 0.7954155  0.98605689\n",
      "   0.72670082 0.59437854]\n",
      "  [0.78634039 0.19308866 0.04732295 0.28380695 0.37485204 0.94143342\n",
      "   0.72014671 0.9097895 ]\n",
      "  [0.43109337 0.27976805 0.92785003 0.09345924 0.24590747 0.90017069\n",
      "   0.57486392 0.30952731]]]\n"
     ]
    }
   ],
   "source": [
    "#1.5) Considere un arreglo con shape *(6,7,8)*, ¿cuales son los índices *(x,y,z)* del elemento 100?\n",
    "random01 = np.random.random((6,7,8))\n",
    "print(random01)\n",
    "arra=np.random.randint(1,100, size=(6,7,8))\n",
    "#print(arra)\n",
    "#print(arra.shape)\n",
    "#print(np.where(arra==100))\n",
    "\n",
    "#randomfive=np.random.randint(1,5, size=(5,5))"
   ]
  },
  {
   "cell_type": "markdown",
   "id": "c757d8bd",
   "metadata": {},
   "source": [
    "### <span style='color:#16C79A'>2. Sumarizing datos</span>\n",
    "\n",
    "- 2.1) A partir de un array 2D la media total, la media a lo largo de las filas y la media a lo largo de las columnas. Agregue una columna con las medias por columna. Idem para filas.\n",
    "- 2.2) Repita el punto anterior pero para el desvío estándar.\n",
    "- 2.3) Carge una imágen RGB y genere otro array con los valores medios de los píxeles en cada canal.\n",
    "- 2.4) Cree un array de 11x11 y llenelo de valores aleatorios enteros entre 1 y 100 y normalice sus valores. La normalización esta dada por,\n",
    "$$ z_i = \\frac{x_i - \\bar{X}}{\\sigma} $$\n",
    "- 2.5) A partir de un array de números enteros, encuentre cual es valor que más se repite. Revise la función *nunmpy.unique()* para ayudarse."
   ]
  },
  {
   "cell_type": "markdown",
   "id": "f678a01a",
   "metadata": {},
   "source": [
    "### <span style='color:#16C79A'>3. Filtrando arrays</span>\n",
    "\n",
    "- 3.1) Dado un array, reemplazar los elementos que estén entre 2 y 5 por su negado (positivos a negativos, y viceversa).\n",
    "- 3.2) Obtener los índices de un arreglo 2D de enteros correspondientes a los valores que sean números primos.\n",
    "- 3.3) Obtener un array con los índices correspondientes a aquellos valores que se repiten en dos arrays 1D.\n",
    "\n",
    "    ```python\n",
    "    ## Ejemplo 3.3\n",
    "\n",
    "    a = np.array([1,2,3,4,5])\n",
    "    b = np.array([1,4,4,4,5])\n",
    "\n",
    "    ## el programa debe retornar un array con los valores\n",
    "    ## [0,3,4]\n",
    "    ```"
   ]
  },
  {
   "cell_type": "markdown",
   "id": "fa1c00d5",
   "metadata": {},
   "source": [
    "### <span style='color:#16C79A'>4. Operaciones básicas con matrices</span>\n",
    "\n",
    "- 4.1) A partir de un array 2D de valores aleatorios que representan coordenadas de puntos en el espacio 2D encontrar la distancia euclidiana punto a punto. Utilice *numpy.random.random()* para generar el array.\n",
    "- 4.2) Calcule los valores medios de cada columna de una matriz 2D. Reste los valores medios calculados a sus correspondienes columnas.\n",
    "- 4.3) Implemente una función que devuelva *True* si alguna columna de una matriz 2D posee una *columna nula*, donde una columna nula es aquella que esta compuesta de ceros.\n",
    "- 4.4) Implemente una fucnión que devuelva el produco punto de dos matrices, en el caso de que estas no sean compatibles la función debe retornar None.\n",
    "- 4.5) Implemente una función que devuelva la diagonal a partir del producto punto entre dos matrices cuadradas.\n",
    "- 4.6) A partir de un array 2D cambie de posición de dos filas cualquiera."
   ]
  },
  {
   "cell_type": "markdown",
   "id": "af4d3b7a",
   "metadata": {},
   "source": [
    "### <span style='color:#16C79A'>5. Desafío</span>\n",
    "\n",
    "- 5.1) A partir de un array 2D lleno de ceros, implemente una función que reemplace *p* elementos iguales a 1 en posiciones aleatorias del array. Utilice *numpy.put()* y *numpy.random.choice()*.\n",
    "- 5.2) Ordene un array 2D en base a la *n-ésima* columna. Hint: Revise *numpy.argsort()* para resolver.\n",
    "- 5.3) Genere una función llamada *mediaMovil()* que reciba como parámetro un array y un valor entero correspondiente a la cantidad de elementos a calcular la media. La función debe retornar un nuevo array con las medias móviles calculadas.\n",
    "- 5.4) A partir de un array 1D obtenga un array con los valores correspondientes al \"ranking\" que ocupan los valores del array original, sin cambiar el orden (Hint: Se recomienda usar *numpy.argsort()*). Vea el ejemplo.\n",
    "\n",
    "    ```python\n",
    "    np.random.seed(42)\n",
    "    a = np.random.randint(20, size=10)\n",
    "    ## a es array([ 6, 19, 14, 10,  7,  6, 18, 10, 10,  3])\n",
    "    \n",
    "    ## salida esperada\n",
    "    [1, 9, 7, 4, 3, 2, 8, 5, 6, 0]\n",
    "    ```\n",
    "    \n"
   ]
  },
  {
   "cell_type": "code",
   "execution_count": null,
   "id": "67450f99",
   "metadata": {},
   "outputs": [],
   "source": [
    "# 5.1\n",
    "import numpy as np\n",
    "array=np.\n",
    "\n"
   ]
  },
  {
   "cell_type": "code",
   "execution_count": 23,
   "id": "3fa81e8b",
   "metadata": {},
   "outputs": [
    {
     "data": {
      "image/png": "[encoded data removed]",
      "text/plain": [
       "<Figure size 432x288 with 1 Axes>"
      ]
     },
     "metadata": {
      "needs_background": "light"
     },
     "output_type": "display_data"
    }
   ],
   "source": [
    "#5.3 Ejemplo ahi vamos haciendo como si sabemos\n",
    "\n",
    "import numpy as np\n",
    "\n",
    "import matplotlib.pyplot as plt\n",
    "\n",
    "ejarr=np.random.rand(170)\n",
    "\n",
    "n = 3\n",
    "#define la función de promedio móvil \n",
    "def moving_avg (ejarr, n):\n",
    "    cumsum = np.cumsum (ejarr)\n",
    "    return (cumsum [n:] - cumsum [: - n]) / float (n)\n",
    "\n",
    "#calcular la media móvil utilizando los 3 períodos de tiempo anteriores\n",
    "\n",
    "plt.plot(ejarr)\n",
    "ejemplo=moving_avg(ejarr,25)\n",
    "plt.plot(ejemplo)\n",
    "plt.show()\n"
   ]
  },
  {
   "cell_type": "markdown",
   "id": "ca8ef9fd",
   "metadata": {},
   "source": [
    "### <span style='color:#16C79A'>6. Dividiendo una imágen en cuadrantes</span>\n",
    "\n",
    "Cargue una imágen RGB y obtenga 4 arrays correspondientes a los cuatro cadrantes de la imágen."
   ]
  },
  {
   "cell_type": "markdown",
   "id": "5a050d9d",
   "metadata": {},
   "source": [
    "### <span style='color:#16C79A'>7. Filtrando señal de plestimografía (obligatorio)</span>\n",
    "\n",
    "Cargue la señal de fotoplestimografía utilizada en la guía de ejercicios del módulo 4 y apliquele la función *mediaMovil()* realizada en el ejercicio 5.3). ¿Hay algún cambio en la señal? ¿Qué tipo de filtro es una media movil?"
   ]
  },
  {
   "cell_type": "code",
   "execution_count": 21,
   "id": "56b6d19a",
   "metadata": {},
   "outputs": [
    {
     "data": {
      "image/png": "[encoded data removed]",
      "text/plain": [
       "<Figure size 432x288 with 1 Axes>"
      ]
     },
     "metadata": {
      "needs_background": "light"
     },
     "output_type": "display_data"
    }
   ],
   "source": []
  },
  {
   "cell_type": "markdown",
   "id": "329fb430",
   "metadata": {},
   "source": [
    "### <span style='color:#16C79A'>8. Mejorando la clase *Image* y el módulo *procesImage* (obligatorio)</span>\n",
    "\n",
    "Utilizando numpy y sus funcionalidades implemente una versión mejorada de la clase *Image* y las funciones dentro del módulo *procesImage* del ejercicio 6 de la guía de práctica del Módulo 4."
   ]
  },
  {
   "cell_type": "markdown",
   "id": "f7475e9b",
   "metadata": {},
   "source": [
    "### <span style='color:#16C79A'>9. Analizando eficiencia energética en hogares (obligatorio)</span>\n",
    "\n",
    "A continuación realizará el análisis de algunos parámetros acerca de los requerimientos para climatizar un hogar, ya sea para verano o invierno, es decir, la *eficiencia energética*. Usted cuenta con un [set de datos](https://archive.ics.uci.edu/ml/datasets/Energy+efficiency#) llamado *eficienciaEnergética.csv*, el cual contiene 10 columnas de datos, las cuales de izquierda a derecha son,\n",
    "\n",
    "- 1) Compactación relativa: Medida de la compactación de la casa. Hogares mas compactos, menos espacios vacíos a los cuales enfriar o calentar. Los valores van de 0 a 1.\n",
    "- 2) Superficie total: Superficie (en $m^2$) total del hogar.\n",
    "- 3) Área de muros: Superficie total (en $m^2$) cubierta por muros.\n",
    "- 4) Área de techos: Superficie total (en $m^2$) de techos.\n",
    "- 5) Altura total: Algtura total (en $m$) de la casa.\n",
    "- 6) Orientación de ventanas: Si las ventanas apuntan al norte (2), al sur (3),a l este (4) o al oeste (5).\n",
    "- 7) Proporción de área de vidriado: Es la proporción de edificación que esta cubierta por aberturas de vidrio. En este set de datos puede tomar 4 valores, los mismos son, 0.0, 0.1, 0.25 y 0.4.\n",
    "- 8) Distribución de ventanas: Distribución de ventanas en el hogar.\n",
    "- 9) Carga para calentamiento: Cuanta carga (en KWatts) es necesario aportar al hogar para calentarlo.\n",
    "- 10) Carga para enfriamiento: Cuanta carga (en KWatts) de frío es necesario aportar al hogar para enfriarlo.\n",
    "\n",
    "A continuación se cargan los datos."
   ]
  },
  {
   "cell_type": "code",
   "execution_count": 1,
   "id": "588a2c3a",
   "metadata": {},
   "outputs": [],
   "source": [
    "## Cargando datos\n",
    "import numpy as np\n",
    "datos = np.genfromtxt('eficienciaEnergética.csv',delimiter=',',dtype = np.float64)"
   ]
  },
  {
   "cell_type": "markdown",
   "id": "6be9b1e0",
   "metadata": {},
   "source": [
    "#### Responda\n",
    "\n",
    "##### A) Generales\n",
    "- A.1 ¿Cuantos hogares han sido utilizados en el set?\n",
    "- A2. ¿Cuáles son los valores promedios de Área de Muros, Áreas de techos y Superficie total? También calcule los desvíos estándar.\n",
    "- A3. ¿Cuales son los valores promedios y los desvíos estándar para las cargas de calentamiento y enfriamiento?"
   ]
  },
  {
   "cell_type": "code",
   "execution_count": 2,
   "id": "35890bec",
   "metadata": {},
   "outputs": [],
   "source": [
    "## TODO A"
   ]
  },
  {
   "cell_type": "markdown",
   "id": "853bd6d0",
   "metadata": {},
   "source": [
    "##### B) Acerca de compactación relativa\n",
    "- B1) ¿Cuál es el valor medio de compactación relativa?\n",
    "- B2) ¿Cuál es la superficie total de la casa (o casas) con menor compactación? Idem para mayor compactación."
   ]
  },
  {
   "cell_type": "code",
   "execution_count": 3,
   "id": "12daaf73",
   "metadata": {},
   "outputs": [],
   "source": [
    "## TODO B"
   ]
  },
  {
   "cell_type": "markdown",
   "id": "17505bcb",
   "metadata": {},
   "source": [
    "##### C) Comparando proporción de área de vidriado con las carga de calentamiento y carga de enfriamiento.\n",
    "\n",
    "- C1) ¿Cuantos hogares por cada valor de *proporción de área de vidriado* hay en el set?\n",
    "- C2) Utilice *plt.hist()* de la librería *matplotlip.pyplot* para graficar el histograma de la columna *proporción de área de vidriado*.\n",
    "- C3) Genere un array formado por las columnas de *proporción de área de vidriado*, la de *Carga para calentamiento* y la de *Carga para enfriamiento*."
   ]
  },
  {
   "cell_type": "code",
   "execution_count": 4,
   "id": "75b12c62",
   "metadata": {},
   "outputs": [],
   "source": [
    "## TODO desde C1 a C3"
   ]
  },
  {
   "cell_type": "markdown",
   "id": "fed3b49b",
   "metadata": {},
   "source": [
    "- C4) A partir de la matriz generada en C3) encuentre el valor medio de la carga total de calentamiento y la de enfriamiento para cada valor de *proporción de área de vidriado*, guarde estos arrays en los arrays *promediosCalentamiento* y *promediosEnfiramiento*, respectivamente."
   ]
  },
  {
   "cell_type": "code",
   "execution_count": 5,
   "id": "1d58d5ee",
   "metadata": {},
   "outputs": [],
   "source": [
    "### TODO C4\n",
    "propVidriado = [0, 0.1, 0.25, 0.4]\n",
    "promediosCalentamiento = ___\n",
    "promediosEnfiramiento = ___\n",
    "\n",
    "# ## Descomentar para graficar\n",
    "# plt.plot(propVidriado, promediosCalentamiento, marker=\"P\", label = \"Calentamiento\")\n",
    "# plt.plot(propVidriado, promediosEnfiramiento, marker=\"^\", label = \"Enfriamiento\")\n",
    "# plt.title(\"Ventanas vs carga calentamiento y enfriamiento\")\n",
    "# plt.ylabel(\"Carga\")\n",
    "# plt.ylim((0,30))\n",
    "# plt.xlabel(\"Proporción área de vidriado\")\n",
    "# plt.legend()\n",
    "# plt.show()"
   ]
  },
  {
   "cell_type": "markdown",
   "id": "5947639f",
   "metadata": {},
   "source": [
    "##### D) Comparando superficies de los techos contra carga de calentamiento y carga de enfriamiento\n",
    "\n",
    "- D1) ¿Cuántas áreas de techos diferentes hay en el set de datos? Guarde estos valores en un array llamado *roofAreas*. ¿Cuál es el promedio, en $m^2$ totales de todos los hogares?\n",
    "- D2) ¿Cuantos hogares por cada valor encontrado en el punto D1) hay en el set?\n",
    "- D3) Utilice *plt.hist()* de la librería *matplotlip.pyplot* para graficar el histograma de la columna *Área de techos*.\n",
    "- D4) Genere un array formado por las columnas de *Área de techos*, la de *Carga para calentamiento* y la de *Carga para enfriamiento*."
   ]
  },
  {
   "cell_type": "code",
   "execution_count": 6,
   "id": "7fa31afc",
   "metadata": {},
   "outputs": [],
   "source": [
    "## TODO de D1 a D4"
   ]
  },
  {
   "cell_type": "markdown",
   "id": "295f3213",
   "metadata": {},
   "source": [
    "¿Qué conclusiones puede sacar del gráfico anterior acerca de la cantidad de carga de calor y de enfriamiento que se necesita en cada hogar respecto de las proporciones de ventanas vidriadas?"
   ]
  },
  {
   "cell_type": "markdown",
   "id": "a7d75740",
   "metadata": {},
   "source": [
    "- D5) A partir de la matriz generada en D4) encuentre el valor medio de la carga total de calentamiento y la de enfriamiento para cada valor de *Área de techos*, guarde estos arrays en los arrays *promediosCalentamiento* y *promediosEnfiramiento*, respectivamente."
   ]
  },
  {
   "cell_type": "code",
   "execution_count": 7,
   "id": "a47765c4",
   "metadata": {},
   "outputs": [],
   "source": [
    "### TODO D5\n",
    "roofAreas = ___\n",
    "promediosCalentamiento = ___\n",
    "promediosEnfiramiento = ___\n",
    "\n",
    "# ## Descomentar para graficar\n",
    "# plt.plot(roofAreas, promediosCalentamiento, marker=\"P\", label = \"Calentamiento\")\n",
    "# plt.plot(roofAreas, promediosEnfiramiento, marker=\"^\", label = \"Enfriamiento\")\n",
    "# plt.title(\"Áreas de techos vs carga calentamiento y enfriamiento\")\n",
    "# plt.ylabel(\"Carga\")\n",
    "# plt.ylim((0,30))\n",
    "# plt.xlabel(\"Proporción área de vidriado\")\n",
    "# plt.legend()\n",
    "# plt.show()"
   ]
  },
  {
   "cell_type": "markdown",
   "id": "daf6a673",
   "metadata": {},
   "source": [
    "¿Qué conclusiones puede sacar del gráfico anterior acerca de la cantidad de carga de calor y de enfriamiento que se necesita en cada hogar respecto del área total de los techos?"
   ]
  },
  {
   "cell_type": "markdown",
   "id": "7dc5ae3f",
   "metadata": {},
   "source": [
    "##### E) Comparando orientación de paredes contra carga de calentamiento y carga de enfriamiento\n",
    "\n",
    "- E1) ¿Cuantas casas hay por cada una de las orientaciones (columna *orientación*)?\n",
    "- E2) Utilice *plt.hist()* de la librería *matplotlip.pyplot* para graficar el histograma de la columna *Orientación de ventanas*.\n",
    "- E3) Genere un array formado por las columnas de *Orientación de ventanas*, la de *Carga para calentamiento* y la de *Carga para enfriamiento*."
   ]
  },
  {
   "cell_type": "code",
   "execution_count": 8,
   "id": "2875a0a4",
   "metadata": {},
   "outputs": [],
   "source": [
    "## TODO de E1 a E3"
   ]
  },
  {
   "cell_type": "markdown",
   "id": "c7cdaf5e",
   "metadata": {},
   "source": [
    "- E4) A partir de la matriz generada en E#) encuentre el valor medio de la carga total de calentamiento y la de enfriamiento para cada valor de *Orientación de ventanas*, guarde estos arrays en los arrays promediosCalentamiento y promediosEnfiramiento, respectivamente."
   ]
  },
  {
   "cell_type": "code",
   "execution_count": 9,
   "id": "cd923097",
   "metadata": {},
   "outputs": [],
   "source": [
    "### TODO D5\n",
    "orientaciones = [2,3,4,5] #norte, sur, este, oeste.\n",
    "promediosCalentamiento = ___\n",
    "promediosEnfiramiento = ___\n",
    "\n",
    "# ## Descomentar para graficar\n",
    "# plt.plot(orientaciones, promediosCalentamiento, marker=\"P\", label = \"Calentamiento\")\n",
    "# plt.plot(orientaciones, promediosEnfiramiento, marker=\"^\", label = \"Enfriamiento\")\n",
    "# plt.title(\"Orientaciones de ventana vs carga calentamiento y enfriamiento\")\n",
    "# plt.ylabel(\"Carga\")\n",
    "# plt.ylim((0,30))\n",
    "# plt.xlabel(\"Orientaciones\")\n",
    "# plt.legend()\n",
    "# plt.show()"
   ]
  },
  {
   "cell_type": "markdown",
   "id": "796d2cff",
   "metadata": {},
   "source": [
    "<hr style=\"border:1px solid black\"> </hr>\n",
    "\n",
    "## Final Jupyter"
   ]
  }
 ],
 "metadata": {
  "interpreter": {
   "hash": "655ead04705df25979b098d70d07560a40ffb3d6c4aa160f4c4d023dee151a17"
  },
  "kernelspec": {
   "display_name": "Python 3.9.11 64-bit",
   "language": "python",
   "name": "python3"
  },
  "language_info": {
   "codemirror_mode": {
    "name": "ipython",
    "version": 3
   },
   "file_extension": ".py",
   "mimetype": "text/x-python",
   "name": "python",
   "nbconvert_exporter": "python",
   "pygments_lexer": "ipython3",
   "version": "3.9.11"
  }
 },
 "nbformat": 4,
 "nbformat_minor": 5
}
