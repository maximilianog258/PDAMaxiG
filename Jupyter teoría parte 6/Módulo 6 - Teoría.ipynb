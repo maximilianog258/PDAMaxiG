{
 "cells": [
  {
   "cell_type": "markdown",
   "id": "3b028086",
   "metadata": {},
   "source": [
    "# <center> <span style='color:#23689B'>Introducción a Numpy</span></center>\n",
    "\n",
    "Módulo 6 - Parte teórica\n",
    "\n",
    "**Profesor Adjunto:** Mag. Bioing. Baldezzari Lucas\n",
    "\n",
    "<p style='text-align: left;'> V2022 </p>\n",
    "\n",
    "<hr style=\"border:1px solid gray\"> </hr>"
   ]
  },
  {
   "cell_type": "markdown",
   "id": "cd6990b8",
   "metadata": {},
   "source": [
    "## <span style='color:#16C79A'>Instalando Numpy</span>\n",
    "\n",
    "La forma rápida y sencilla es usando *pip* desde consola.\n",
    "\n",
    "```Python\n",
    "pip install numpy\n",
    "```\n",
    "\n",
    "Recordar antes activar el ambiente de trabajo mediante *conda actívate miEnv*, de esta manera numpy se instalará en el ambiente de trabajo.\n",
    "\n",
    "Si ya tenemos numpy instalado podemos ver su versión ejecutando,\n",
    "\n",
    "```Python\n",
    "import numpy\n",
    "numpy.__version__\n",
    "```"
   ]
  },
  {
   "cell_type": "code",
   "execution_count": null,
   "id": "7f97ad42",
   "metadata": {},
   "outputs": [],
   "source": [
    "## Comando para instalar desde Jupyter\n",
    "!pip install numpy"
   ]
  },
  {
   "cell_type": "code",
   "execution_count": null,
   "id": "3234cfd8",
   "metadata": {},
   "outputs": [],
   "source": [
    "import numpy as np\n",
    "np.__version__"
   ]
  },
  {
   "cell_type": "markdown",
   "id": "5631e180",
   "metadata": {},
   "source": [
    "## <span style='color:#16C79A'>¿Qué es Numpy?</span>\n",
    "\n",
    "<span style='color:#EC4646'>**Num**</span><span style='color:#F5A211'>**py**</span> (<span style='color:#EC4646'>**Numerical**</span> <span style='color:#F5A211'>**Python**</span>)\n",
    "\n",
    "Es un paquete para cómputo científico.\n",
    "\n",
    "Provee herramientas para el manejo de arreglos multidimensionales a través de su objeto fundamental llamado  ndarray.\n",
    "\n",
    "A partir de los arrays es posible obtener objetos como matrices.\n",
    "\n",
    "Posee una amplia variedad de métodos matemáticos, lógicos, cambio de forma, ordenamiento, selección, I/O, DFT, álgebra lineal básica, operaciones estadísticas básicas, generación de números aleatorios, y más.\n",
    "\n",
    "Los ndarray nos permiten formar arreglos n-dimensionales con datos del mismo tipo –aunque podríamos mezclar-.\n",
    "\n",
    "Los ndarray son los tipos de datos que se usan a nivel mundial para el cómputo científico y análisis de datos.\n",
    "\n",
    "Diferencias entre objetos secuenciales de Python y los ndarray de Numpy.\n",
    "\n",
    "- Los arreglos de numpy poseen un tamaño fijo en memoria. Sim cambiamos el valor de un elemento, se crea un nuevo arreglo.\n",
    "- Se requiere que todos los elementos sean del mismo tipo de dato, de esta forma, cada elemento del array ocupara el mismo espacio en memoria.\n",
    "- Los arreglos de Numpy permiten operaciones matemáticas avanzadas de una manera eficiente. En general se requieren menos líneas de código que las funciones built-in de Python."
   ]
  },
  {
   "cell_type": "markdown",
   "id": "2f84380d",
   "metadata": {},
   "source": [
    "### ¿Por qué Numpy es tan rápido?\n",
    "\n",
    "Numpy trabaja de forma **vectorizada**, escondiendo loops, indexaciones, etc.\n",
    "\n",
    "La administración de datos se hace mediante *código pre compilado en lenguaje C*. A nivel de implementación, los ndarray contienen un **puntero** a los bloques contiguos de datos.\n",
    "\n",
    "<div>\n",
    "<img src=\"figs/difference.png\" width=\"500\"/>\n",
    "</div>\n",
    "\n",
    "La diferencia fundamental radica en que los *ndarray* poseen un puntero que se mueve y apunta a los bloques de memoria que contienen los valores de los datos almacenados en el array. Estos movimientos son realizados a través de lenguaje C, y por lo tanto, las velocidades de acceso y ejecución son mucho mayores a los tipos de datos habituales de Python. Por otro lado, las listas de Python contienen información relevante de los objetos que la conforman, esto tiene varias ventajas, la principal es que puede crecer y cambiar dinámicamente, sin embargo, esto tiene un costo ya que las velocidades de acceso y cambios de valores de sus elementos son mucho más lentos.\n",
    "\n",
    "La forma en que Numpy, a través de C, maneja los datos dentro de un array es a través de *strides*. Para las personas que quieran profundizar en cómo Numpy administra los datos dentro de un *ndarray* pueden leer éste [*articulo*](https://ajcr.net/stride-guide-part-1/).\n",
    "\n",
    "Veremos algunos ejemplos más adelante."
   ]
  },
  {
   "cell_type": "markdown",
   "id": "c4283a16",
   "metadata": {},
   "source": [
    "## <span style='color:#16C79A'>Ndarray, el núcleo de Numpy.</span>\n",
    "\n",
    "Un ndarray es un contenedor multidmensional de elementos iguales y tamaños fijos.\n",
    "\n",
    "La cantidad de elementos y las dimensiones del ndarray están definidos a través de su *forma* o *shape*, la cual es una tupla de números enteros no negativos que especifica la cantidad de elementos por cada dimensión del array.\n",
    "\n",
    "Las dimensiones son llamadas **axes** (ejes).\n",
    "\n",
    "Podemos acceder o modificar los elementos de un array a través de *indexación* y *slicing*."
   ]
  },
  {
   "cell_type": "markdown",
   "id": "037c0bc1",
   "metadata": {},
   "source": [
    "### <span style='color:#394867'>Creando arrays con *numpy.ndarray*</span>\n",
    "\n",
    "El constructor de un ndarray esta definido de la siguiente manera,\n",
    "\n",
    "```Python\n",
    "numpy.ndarray(shape, dtype=float, buffer=None, offset=0, strides=None, order=None)\n",
    "```\n",
    "\n",
    "Podemos ver qué significa cada parámetro en la documentación [numpy.ndarray](https://numpy.org/doc/stable/reference/arrays.ndarray.html)."
   ]
  },
  {
   "cell_type": "code",
   "execution_count": null,
   "id": "98e9dfec",
   "metadata": {},
   "outputs": [],
   "source": [
    "import numpy as np\n",
    "\n",
    "\n",
    "lista = [[1,2,3],[4,5,6]]\n",
    "## Creando un array de valores enteros\n",
    "array1 = np.array(lista,dtype = np.int8)"
   ]
  },
  {
   "cell_type": "code",
   "execution_count": null,
   "id": "aeeafa09",
   "metadata": {},
   "outputs": [],
   "source": [
    "print(array1.shape)\n",
    "vectorCol = np.array([9,8]).reshape(2,1)\n",
    "print(vectorCol.shape, array1.shape)\n"
   ]
  },
  {
   "cell_type": "markdown",
   "id": "a36d44d1",
   "metadata": {},
   "source": [
    "#### <span style='color:#F5A211'>Algunos atributos de los numpy.ndarray</span>\n",
    "\n",
    "Al igual que cualquier objeto en Python, los *numpy.ndarray* también poseen atributos. Veamos algunos de ellos.\n",
    "\n",
    "- T [ndarray]: La traspuesta del array.\n",
    "- dtype [dtype object]: Objeto tipo de dato de los elementos del array.\n",
    "- imag [ndarray]: Parte imaginaria del array.\n",
    "- real [ndarray]: Parte real del array.\n",
    "- size [int]: Números de elementos en el array.\n",
    "- itemsize [int]: Longitud en bytes de los elementos alojados en el array.\n",
    "- nbytes [int]: Bytes total consumidos por todos los elementos dentro del array.\n",
    "- ndim [int]: Dimensiones totales del array.\n",
    "- shape [tuple of ints]: Tupla con las dimensiones del array.\n",
    "- strides [tuple of ints]: Tupla con los tamaños de bytes para moverse en cada dimensión y elemento del array.\n",
    "\n",
    "La lista completa de atributos puede verse en [numpy.ndarray](https://numpy.org/doc/stable/reference/arrays.ndarray.html)."
   ]
  },
  {
   "cell_type": "code",
   "execution_count": null,
   "id": "fb476a4b",
   "metadata": {},
   "outputs": [],
   "source": [
    "print(\"La traspuesta del arary1 es:\", \"\\n\",array1.T, \"\\n\")\n",
    "print(\"Tipo de datos:\", array1.dtype)\n",
    "print(f\"El tamaño en bytes de cada elemento es: {array1.itemsize} byte.\\\n",
    " La cantidad total de bytes ocupado es, {array1.nbytes} bytes.\")\n",
    "print()\n",
    "print(f\"Las dimensiones del array son {array1.ndim} con la forma {array1.shape}.\")"
   ]
  },
  {
   "cell_type": "markdown",
   "id": "ec8063fd",
   "metadata": {},
   "source": [
    "Los numpy.ndarray poseen una gran cantidad de [métodos](https://numpy.org/doc/stable/reference/arrays.ndarray.html#array-methods). Iremos viendo alguno de estos a medida que avancemos en el módulo."
   ]
  },
  {
   "cell_type": "markdown",
   "id": "9dd08c98",
   "metadata": {},
   "source": [
    "### <span style='color:#394867'>Creando arrays con funciones propias de Numpy</span>\n",
    "\n",
    "#### <span style='color:#F5A211'>Arrays desde una lista con numpy.array</span>\n",
    "\n",
    "Podemos crear un array a partir de una lista usando [*numpy.array*](https://numpy.org/doc/stable/reference/generated/numpy.array.html).\n",
    "\n",
    "```Python\n",
    "numpy.array(object, dtype=None, *, copy=True, order='K', subok=False, ndmin=0, like=None)\n",
    "```"
   ]
  },
  {
   "cell_type": "code",
   "execution_count": null,
   "id": "966df430",
   "metadata": {},
   "outputs": [],
   "source": [
    "array2 = np.array([1,2,3,4], dtype = np.int8)\n",
    "\n",
    "lista = [5,6,7,8.8]\n",
    "array3 = np.array(lista)"
   ]
  },
  {
   "cell_type": "code",
   "execution_count": null,
   "id": "2093c6cc",
   "metadata": {},
   "outputs": [],
   "source": [
    "print(array2)\n",
    "print(array3)"
   ]
  },
  {
   "cell_type": "markdown",
   "id": "96353818",
   "metadata": {},
   "source": [
    "Es importante notar que todos los valores del array3 que eran enteros pasaron a ser flotantes una vez que creamos el array. Esto lo hace automáticamente Numpy de tal manera de mantener una homogeneidad en los datos."
   ]
  },
  {
   "cell_type": "code",
   "execution_count": null,
   "id": "5aef4076",
   "metadata": {},
   "outputs": [],
   "source": [
    "## Tamaños en bytes\n",
    "print(array2.dtype, array2.itemsize, array2.nbytes)\n",
    "## Tamaños en bytes\n",
    "print(array3.dtype, array3.itemsize, array3.nbytes)"
   ]
  },
  {
   "cell_type": "markdown",
   "id": "5bcc83d1",
   "metadata": {},
   "source": [
    "**Comentario**: Vemos que array3 ocupa *8 veces más* espacio que array2, ya que el tipo de datos de array3 es float64, y estos ocupan 8 bytes de memoria."
   ]
  },
  {
   "cell_type": "markdown",
   "id": "82a7a9ea",
   "metadata": {},
   "source": [
    "#### <span style='color:#F5A211'>Arrays llenos de ceros, unos u otro valor</span>\n",
    "\n",
    "Podemos generar arrays multidimensionales de una manera muy sencilla mediante tres funciones propias de Numpy, las cuales son *zeros()*, *ones()* y *full()*.\n",
    "\n",
    "Sus constructores son\n",
    "\n",
    "```Python\n",
    "numpy.zeros(shape, dtype=float, order='C', *, like=None)\n",
    "```\n",
    "\n",
    "```Python\n",
    "numpy.ones(shape, dtype=None, order='C', *, like=None)\n",
    "```\n",
    "\n",
    "```Python\n",
    "numpy.full(shape, fill_value, dtype=None, order='C', *, like=None)\n",
    "```"
   ]
  },
  {
   "cell_type": "code",
   "execution_count": null,
   "id": "5b7f4894",
   "metadata": {},
   "outputs": [],
   "source": [
    "ceros = np.zeros((2,2,3), dtype = np.int8)\n",
    "unos = np.ones((2,2), dtype = np.int16)\n",
    "_128 = np.full((2,5), fill_value = 128)"
   ]
  },
  {
   "cell_type": "code",
   "execution_count": null,
   "id": "ad7f8d0a",
   "metadata": {},
   "outputs": [],
   "source": [
    "print(ceros,\"\\n\")\n",
    "print(unos,\"\\n\")\n",
    "print(_128,\"\\n\")"
   ]
  },
  {
   "cell_type": "markdown",
   "id": "11548f3d",
   "metadata": {},
   "source": [
    "#### <span style='color:#F5A211'>Matriz identidad</span>\n",
    "\n",
    "Podemos generar una [matriz identidad](https://es.wikipedia.org/wiki/Matriz_identidad) utilizando *numpy.eye()*.\n",
    "\n",
    "```Python\n",
    "numpy.eye(N, M=None, k=0, dtype=<class 'float'>, order='C', *, like=None)\n",
    "```\n",
    "\n",
    "Este tipo de matrices son muy útiles en el procesamiento de señales."
   ]
  },
  {
   "cell_type": "code",
   "execution_count": null,
   "id": "ac60cf96",
   "metadata": {},
   "outputs": [],
   "source": [
    "I = np.eye(5)\n",
    "I"
   ]
  },
  {
   "cell_type": "markdown",
   "id": "8260b66a",
   "metadata": {},
   "source": [
    "#### <span style='color:#F5A211'>Array vacío</span>\n",
    "\n",
    "Con *numpy.empty()* podemos crear arreglos multidimensionales. Los valores de los elementos del array serán asignados en base a lo que contenga la posición de memoria asignada.\n",
    "\n",
    "```Python\n",
    "numpy.empty(shape, dtype=float, order='C', *, like=None)\n",
    "```"
   ]
  },
  {
   "cell_type": "code",
   "execution_count": null,
   "id": "562a4558",
   "metadata": {},
   "outputs": [],
   "source": [
    "empty = np.empty((3,4))\n",
    "empty"
   ]
  },
  {
   "cell_type": "markdown",
   "id": "8f41368f",
   "metadata": {},
   "source": [
    "#### <span style='color:#F5A211'>Array con números aleatorios</span>\n",
    "\n",
    "Numpy posee métodos para generar números pseudoaleatorios, entre estos se encuentran [*random.random()*](https://numpy.org/doc/stable/reference/random/generated/numpy.random.random.html), [*random.randint()*](https://numpy.org/doc/stable/reference/random/generated/numpy.random.randint.html) y [*random.normal*()](https://numpy.org/doc/stable/reference/random/generated/numpy.random.normal.html).\n",
    "\n",
    "```Python\n",
    "random.random(size=None)\n",
    "```\n",
    "\n",
    "```Python\n",
    "random.randint(low, high=None, size=None, dtype=int)\n",
    "```\n",
    "\n",
    "```Python\n",
    "random.normal(loc=0.0, scale=1.0, size=None)\n",
    "```"
   ]
  },
  {
   "cell_type": "code",
   "execution_count": null,
   "id": "fb2eda88",
   "metadata": {},
   "outputs": [],
   "source": [
    "## valores aleatorios entre 0 y 1\n",
    "random01 = np.random.random((3,3))\n",
    "random01"
   ]
  },
  {
   "cell_type": "code",
   "execution_count": null,
   "id": "45019d02",
   "metadata": {},
   "outputs": [],
   "source": [
    "## valores aleatorios aleatorios entre 2 y 20\n",
    "randomEntero = np.random.randint(2,20, size = (2,4))\n",
    "randomEntero"
   ]
  },
  {
   "cell_type": "code",
   "execution_count": null,
   "id": "af36d8c2",
   "metadata": {},
   "outputs": [],
   "source": [
    "## Valores aleatorios siguiendo una distribución normal\n",
    "normal = np.random.normal(size = (3,3))\n",
    "normal"
   ]
  },
  {
   "cell_type": "markdown",
   "id": "7af89775",
   "metadata": {},
   "source": [
    "#### <span style='color:#F5A211'>Generando valores para funciones con numpy.arange()</span>\n",
    "\n",
    "Existe una función llamada [*numpy.arange()*](https://numpy.org/doc/stable/reference/generated/numpy.arange.html#numpy.arange) suamemnte util para generar array de **una dimensión** que este formado por valores entre dos números y espaciados un cierto *paso*. Es similar al método *arange()* de Python.\n",
    "\n",
    "```Python\n",
    "numpy.arange([start, ]stop, [step, ]dtype=None, *, like=None)\n",
    "```"
   ]
  },
  {
   "cell_type": "code",
   "execution_count": null,
   "id": "8287a34d",
   "metadata": {},
   "outputs": [],
   "source": [
    "puntos = np.arange(0,10,0.5)\n",
    "puntos"
   ]
  },
  {
   "cell_type": "code",
   "execution_count": null,
   "id": "3644704a",
   "metadata": {},
   "outputs": [],
   "source": [
    "import matplotlib.pyplot as plt\n",
    "print(len(puntos))\n",
    "plt.scatter(np.arange(len(puntos)), puntos)\n",
    "plt.show()"
   ]
  },
  {
   "cell_type": "markdown",
   "id": "9699f2f5",
   "metadata": {},
   "source": [
    "#### <span style='color:#F5A211'>Creando arrays con valores equiespaciados</span>\n",
    "\n",
    "Con la función [numpy.linspace()](https://numpy.org/doc/stable/reference/generated/numpy.linspace.html) podemos crear lineas equiespaciadas. Son especialmente útiles para graficación u operaciones matemáticas.\n",
    "\n",
    "Veamos."
   ]
  },
  {
   "cell_type": "code",
   "execution_count": null,
   "id": "79ea3376",
   "metadata": {},
   "outputs": [],
   "source": [
    "## Array con valores de 0 a 100 dividido en 30 pedazos\n",
    "linea = np.linspace(0,100, num = 30)\n",
    "linea"
   ]
  },
  {
   "cell_type": "markdown",
   "id": "4c1941e1",
   "metadata": {},
   "source": [
    "### <mark style=\"color: black; background-color:#FFE227\">**¡A practicar!**</mark>\n",
    "\n",
    "Ejercicio 1 de la guía práctica en teória."
   ]
  },
  {
   "cell_type": "markdown",
   "id": "d25396eb",
   "metadata": {},
   "source": [
    "<hr style=\"border:1px solid #16C79A\"> </hr>\n",
    "\n",
    "## <span style='color:#16C79A'>Conociendo y manipulando la forma de nuestros arreglos</span>\n",
    "\n",
    "Sabemos que podemos crear arreglos de una, dos, tres o más dimensiones.\n",
    "\n",
    "Los arreglos de dos dimensiones se suelen llamar matrices. Aquellos arreglos de tres o más dimensiones se los suele llamar tensores.\n",
    "\n",
    "<div>\n",
    "<img src=\"figs/matrixTensor.png\" width=\"640\"/>\n",
    "</div>"
   ]
  },
  {
   "cell_type": "markdown",
   "id": "05c858b5",
   "metadata": {},
   "source": [
    "Con el atributo **shape** obtenemos una tupla de números enteros y podemos ver **la cantidad de elementos en cada dimensión de nuestro arreglo**. Además, hemos visto que a cada dimensión del array le corresponde un axis o eje.\n",
    "\n",
    "Por otro lado, que a cada dimensión del array le corresponde un *axis* (eje) o *dimensión*.\n",
    "\n",
    "Es importante reconocer el orden que asigna Numpy a cada axis según la forma (shape) que tenga el arreglo."
   ]
  },
  {
   "cell_type": "markdown",
   "id": "f429af0b",
   "metadata": {},
   "source": [
    "<div>\n",
    "<img src=\"figs/shapes.png\" width=\"500\"/>\n",
    "</div>\n",
    "\n",
    "En la figura anterior vemos que en el caso de los array 1D el axis es 0.\n",
    "\n",
    "En el caso de una matriz (array 2D) se tiene,\n",
    "- $axis = 0$: indica la dirección de las filas o la primer dimensión.\n",
    "- $axis = 1$: indica la dirección de las columnas o la segunda dimensión.\n",
    "\n",
    "Finalmente, en el caso de un array 3D (tensor) se tiene,\n",
    "- $axis = 0$: indica la dirección de las filas\n",
    "- $axis = 1$: indica la dirección de las columnas\n",
    "- $axis = 2$: indica la profundidad o capas.\n",
    "\n",
    "Veamos algunos ejemplos."
   ]
  },
  {
   "cell_type": "code",
   "execution_count": null,
   "id": "898b3b81",
   "metadata": {},
   "outputs": [],
   "source": [
    "## Veamos algunos ejemplos\n",
    "array1D = np.array([1,2,3,4])\n",
    "print(array1D.shape)"
   ]
  },
  {
   "cell_type": "markdown",
   "id": "be43ae20",
   "metadata": {},
   "source": [
    "Es importante notar que la dimensión del *array1* es (4,). En general dos vectores con estas dimensiones pueden ser considerados de dimensiones iguales. Sin embargo, no es lo mismo un vector *fila* que un vector *columna* como puede verse en la imagen debajo. "
   ]
  },
  {
   "cell_type": "markdown",
   "id": "56eda2f1",
   "metadata": {},
   "source": [
    "<div>\n",
    "<img src=\"figs/filaVsCol.png\" width=\"730\"/>\n",
    "</div>"
   ]
  },
  {
   "cell_type": "code",
   "execution_count": null,
   "id": "b92b8345",
   "metadata": {},
   "outputs": [],
   "source": [
    "array2D = np.array([array1D, array1D])\n",
    "array2D"
   ]
  },
  {
   "cell_type": "code",
   "execution_count": null,
   "id": "8e3e7105",
   "metadata": {},
   "outputs": [],
   "source": [
    "array2D.shape\n",
    "## vemos que el array tiene 2 filas por dos columnas"
   ]
  },
  {
   "cell_type": "markdown",
   "id": "d5986116",
   "metadata": {},
   "source": [
    "##### Función vstack()\n",
    "\n",
    "Podríamos generar un vector 2D a partir de un vector 1D usando la función [*numpy.vstack()*](https://numpy.org/doc/stable/reference/generated/numpy.vstack.html).\n",
    "\n",
    "Su implementación es muy sencilla, veamos."
   ]
  },
  {
   "cell_type": "code",
   "execution_count": null,
   "id": "d0f93290",
   "metadata": {},
   "outputs": [],
   "source": [
    "otroArray2D = np.vstack((array1D, array1D))\n",
    "otroArray2D"
   ]
  },
  {
   "cell_type": "markdown",
   "id": "27c35cf9",
   "metadata": {},
   "source": [
    "Ver también [*numpy.hstack()*](https://numpy.org/doc/stable/reference/generated/numpy.hstack.html)"
   ]
  },
  {
   "cell_type": "code",
   "execution_count": null,
   "id": "a75f336d",
   "metadata": {},
   "outputs": [],
   "source": [
    "## Creando un array de tres dimensiones\n",
    "array3D = np.array([array2D,array2D,array2D])\n",
    "array3D"
   ]
  },
  {
   "cell_type": "code",
   "execution_count": null,
   "id": "48ce79da",
   "metadata": {},
   "outputs": [],
   "source": [
    "array3D.shape"
   ]
  },
  {
   "cell_type": "code",
   "execution_count": null,
   "id": "b17fdc18",
   "metadata": {},
   "outputs": [],
   "source": [
    "tensor = np.array([array3D,array3D])\n",
    "tensor"
   ]
  },
  {
   "cell_type": "code",
   "execution_count": null,
   "id": "88d54150",
   "metadata": {},
   "outputs": [],
   "source": [
    "print(f\"La shape de tensor es {tensor.shape}\")\n",
    "print(f\"Las dimensiones de tensor son {tensor.ndim}\")"
   ]
  },
  {
   "cell_type": "markdown",
   "id": "71d0393a",
   "metadata": {},
   "source": [
    "### <span style='color:#394867'>Función *reshape()*</span>\n",
    "\n",
    "Según la documentación oficial, [*reshape()*](https://numpy.org/doc/stable/reference/generated/numpy.reshape.html),\n",
    "\n",
    "> Gives a new shape to an array without changing its data.\n",
    "\n",
    "Su constructor esta dado como,\n",
    "\n",
    "```Python\n",
    "numpy.reshape(a, newshape, order='C')\n",
    "```\n",
    "\n",
    "El *reshaping* significa cambiar la <mark>forma de un arreglo, pero sin cambiar sus datos</mark>. Es una herramienta poderosísima y se aconseja conocerla para poder sacarle el máximo provecho.\n",
    "\n",
    "Mediante la función reshape podemos <mark>agregar o remover dimensiones o bien cambiar el número de elementos en cada dimensión.</mark>\n",
    "\n",
    "**Importante**: La cantidad de elementos que forman nuestro array original debe ser siempre la misma cuando hacemos un reshape."
   ]
  },
  {
   "cell_type": "markdown",
   "id": "91f72f99",
   "metadata": {},
   "source": [
    "Es interesante notar que cuando hacemos un *reshape* de un array *no estamos creando uno nuevo* sino que Numpy establece **strides** nuevos. A menos que creemos un nuevo array a partir de otro que hemos hecho un reshape.\n",
    "\n",
    "Veamos un ejemplo.\n",
    "\n",
    "```Python\n",
    "a = np.arange(1,10,dtype = np.int64)\n",
    "b = a.reshape(3,3)\n",
    "```\n",
    "\n",
    "Lo anterior podría ser visto en memoria de la siguiente forma,"
   ]
  },
  {
   "cell_type": "markdown",
   "id": "7f0119d4",
   "metadata": {},
   "source": [
    "<div>\n",
    "<img src=\"figs/strids.png\" width=\"540\"/>\n",
    "</div>"
   ]
  },
  {
   "cell_type": "code",
   "execution_count": null,
   "id": "ef6df814",
   "metadata": {},
   "outputs": [],
   "source": [
    "## Ejemplos de reshape\n",
    "array1D = np.arange(1,21)\n",
    "\n",
    "## creamos un array 2D\n",
    "array2D = array1D.reshape(5,4)\n",
    "print(array2D)\n",
    "print(array2D.ndim)\n",
    "print(array2D.strides)"
   ]
  },
  {
   "cell_type": "code",
   "execution_count": null,
   "id": "2b45df1a",
   "metadata": {},
   "outputs": [],
   "source": [
    "a = np.arange(1,10,dtype = np.int16)\n",
    "a.strides"
   ]
  },
  {
   "cell_type": "markdown",
   "id": "823a80cf",
   "metadata": {},
   "source": [
    "#### <span style='color:#5AA469'>Pregunta</span>\n",
    "\n",
    "¿Podríamos generar un array 3D con el array1D creado anteriormente?"
   ]
  },
  {
   "cell_type": "code",
   "execution_count": null,
   "id": "e62a47bf",
   "metadata": {},
   "outputs": [],
   "source": [
    "## TODO"
   ]
  },
  {
   "cell_type": "code",
   "execution_count": null,
   "id": "80be0ab4",
   "metadata": {},
   "outputs": [],
   "source": [
    "otro1D = np.arange(1,19)\n",
    "otro3D = otro1D.reshape(2,3,3)\n",
    "print(otro3D)\n",
    "print(otro3D.ndim)"
   ]
  },
  {
   "cell_type": "markdown",
   "id": "2b63ea5c",
   "metadata": {},
   "source": [
    "##### Cambiando la forma de la señal de fotoplestimografía\n",
    "\n",
    "Cargemos la señal de fotoplestimografía trabajada en clases anteriores y cambiemos su forma."
   ]
  },
  {
   "cell_type": "code",
   "execution_count": null,
   "id": "21f78c67",
   "metadata": {},
   "outputs": [],
   "source": [
    "file = open(\"files/pleth.txt\", \"r\")\n",
    "pleth = np.array(file.read().split(), dtype = np.float64)\n",
    "print(pleth.shape)"
   ]
  },
  {
   "cell_type": "code",
   "execution_count": null,
   "id": "c07999da",
   "metadata": {},
   "outputs": [],
   "source": [
    "fm = 125.\n",
    "T = 1/fm\n",
    "print(f\"Duración de la señal {round(pleth.shape[0]*T)} segundos\")"
   ]
  },
  {
   "cell_type": "code",
   "execution_count": null,
   "id": "ba41fb83",
   "metadata": {},
   "outputs": [],
   "source": [
    "## Dividamos la señal en pedazos de 1 segundo\n",
    "ntrozos = int(pleth.shape[0]/fm)\n",
    "ventana = 1 #en segundos\n",
    "chops = pleth[:int(ntrozos*fm)].reshape(ntrozos,int(ventana*fm))\n",
    "print(f\"Shape de chops, {chops.shape}\")"
   ]
  },
  {
   "cell_type": "markdown",
   "id": "4fa10dae",
   "metadata": {},
   "source": [
    "### <mark style=\"color: black; background-color:#FFE227\">**¡A practicar!**</mark>\n",
    "\n",
    "Ejercicio 2 de la guía práctica en teória."
   ]
  },
  {
   "cell_type": "markdown",
   "id": "31b880d3",
   "metadata": {},
   "source": [
    "<hr style=\"border:1px solid #16C79A\"> </hr>\n",
    "\n",
    "## <span style='color:#16C79A'>Indexación y Slicing</span>\n",
    "\n",
    "A continuación veremos una forma muy potente que poseen los *ndarray* para acceder a sus datos, cambiar los valores de sus elementos o bien obtener sub arrays.\n"
   ]
  },
  {
   "cell_type": "markdown",
   "id": "9af31dc4",
   "metadata": {},
   "source": [
    "### <span style='color:#394867'>Indexación y Slicing de un array de 1D</span>\n",
    "\n",
    "El acceso a un elemento y el slicing de un ndarray de una dimensión es muy similar al de las listas en Python.\n",
    "\n",
    "Podemos acceder a un elemento por indexación mediante corchetes [].\n",
    "\n",
    "```Python\n",
    "print(array[2]) #imprime el valor del elemento en la posición 3 del array.\n",
    "```"
   ]
  },
  {
   "cell_type": "code",
   "execution_count": null,
   "id": "840483e1",
   "metadata": {},
   "outputs": [],
   "source": [
    "array = np.arange(1,2,0.01)\n",
    "array[2]"
   ]
  },
  {
   "cell_type": "markdown",
   "id": "2bfcbe22",
   "metadata": {},
   "source": [
    "Podríamos obtener un sub-array utilizando *slice notation*, la cual es una forma particular de manipular y acceder a los elementos de los array de Numpy.\n",
    "\n",
    "Su sintaxis es la siguiente.\n",
    "\n",
    "```Python\n",
    "array[from:to:step]\n",
    "```\n",
    "\n",
    "Mediante los *:* estamos informando a Numpy que vamos a hacer un *slicing*."
   ]
  },
  {
   "cell_type": "code",
   "execution_count": null,
   "id": "eba53f8b",
   "metadata": {},
   "outputs": [],
   "source": [
    "## subarray\n",
    "subarray = np.arange(1,41)[0:20:2] #slicing desde 0 a 20 de a pasos de a 2\n",
    "subarray"
   ]
  },
  {
   "cell_type": "code",
   "execution_count": null,
   "id": "7e2fe77c",
   "metadata": {},
   "outputs": [],
   "source": [
    "## recorriendo los valores de subarray\n",
    "for valor in subarray:\n",
    "    print(valor)"
   ]
  },
  {
   "cell_type": "markdown",
   "id": "14a458d5",
   "metadata": {},
   "source": [
    "### <span style='color:#394867'>Indexación de matrices mediante corchetes</span>\n",
    "\n",
    "Podemos aprovechar la notación de slicing de los array de Numpy para acceder a elementos específicos de arreglos 2D o bien obtener sub arreglos.\n",
    "\n",
    "En primer lugar debemos recordar que la forma de los ndarray está dada por una tupla de enteros, en donde, las axes/dimensiones empiezan de izquierda a derecha, así en un arreglo2D tendríamos,\n",
    "\n",
    "```Python\n",
    "array2D = np.zeros((2,3)) #creamos una matriz de 2x3\n",
    "print(array.shape)\n",
    "#me imprime (2,3).\n",
    "#El axis = 0 o dimensión 1 posee dos elementos. El axis = 1 o dimensión 2 posee 3 elementos.\n",
    "```"
   ]
  },
  {
   "cell_type": "code",
   "execution_count": null,
   "id": "c85efbbd",
   "metadata": {},
   "outputs": [],
   "source": [
    "valores = [ 1,2,3,4,5,6,7,\n",
    "            8,9,10,11,12,13,14,\n",
    "            15,16,17,8,19,20,21,\n",
    "            22,23,24,25,26,27,28,\n",
    "            29,30,31,32,33,34,35,\n",
    "            36,37,38,39,40,41,42]\n",
    "\n",
    "matrix = np.array(valores, dtype = np.int8).reshape(6,7)\n",
    "matrix.shape"
   ]
  },
  {
   "cell_type": "markdown",
   "id": "e94c4a36",
   "metadata": {},
   "source": [
    "Al igual que las listas, podríamos acceder a un valor particular de la matrix utilizando corchetes.\n",
    "\n",
    "```Python\n",
    "matrix[3][4]\n",
    "```\n",
    "\n",
    "El primer corchete hace referencia al axis cero, en este caso las filas. El segundo corchete hace referencia al axis uno, en este caso las columnas.\n",
    "\n",
    "Veamos."
   ]
  },
  {
   "cell_type": "code",
   "execution_count": null,
   "id": "d80d6717",
   "metadata": {},
   "outputs": [],
   "source": [
    "matrix[3][4] #fila 4, columna 5."
   ]
  },
  {
   "cell_type": "markdown",
   "id": "08584474",
   "metadata": {},
   "source": [
    "### <span style='color:#394867'>Slicing de matrices usando notación de numpy</span>\n",
    "\n",
    "Cuando se quiere obtener un sub-array a partir de otro array es habitual usar la notación de slicing.\n",
    "\n",
    "Podemos seleccionar qué elementos queremos obtener del array original usando la notación array de la siguiente manera,"
   ]
  },
  {
   "cell_type": "markdown",
   "id": "f44c8ef6",
   "metadata": {},
   "source": [
    "<div>\n",
    "<img src=\"figs/slicing.png\" width=\"480\"/>\n",
    "</div>\n",
    "\n",
    "Notar que cada dimensión se separa con coma."
   ]
  },
  {
   "cell_type": "code",
   "execution_count": null,
   "id": "b116863b",
   "metadata": {},
   "outputs": [],
   "source": [
    "## Obteniendo dato en fila 4, columna 5.\n",
    "matrix[3,4]"
   ]
  },
  {
   "cell_type": "markdown",
   "id": "550cd533",
   "metadata": {},
   "source": [
    "#### <span style='color:#F5A211'>Obteniendo una fila</span>\n",
    "\n",
    "Supongamos que quisiéramos obtener los datos correspondientes a la fila 2, en este caso podríamos hacer alguna de estas declaraciones,\n",
    "\n",
    "```Python\n",
    "#1\n",
    "matrix[1]\n",
    "#2\n",
    "matrix[1,:]\n",
    "```\n",
    "\n",
    "Ambas implementaciones son equivalentes, sin embargo, la implementación #2 nos dice que estamos accediendo al índice 1 del axis cero y queremos **todos** los valores del axis = 1.\n",
    "\n",
    "Cuando pasamos el símbolo *:* sin indicar un inicio o un final, numpy toma todos los valores correspondientes a la dimensión."
   ]
  },
  {
   "cell_type": "code",
   "execution_count": null,
   "id": "2c2a569f",
   "metadata": {},
   "outputs": [],
   "source": [
    "#1\n",
    "print(matrix[1])\n",
    "#2\n",
    "print(matrix[1,:])\n",
    "print(matrix[1,:].shape)"
   ]
  },
  {
   "cell_type": "code",
   "execution_count": null,
   "id": "9545e891",
   "metadata": {},
   "outputs": [],
   "source": [
    "## ¿Y si quisiéramos los datos de la fila 3 que vayan de la columna 3 a la última?\n",
    "matrix[2, 3:]"
   ]
  },
  {
   "cell_type": "code",
   "execution_count": null,
   "id": "673e9df8",
   "metadata": {},
   "outputs": [],
   "source": [
    "## Obteniendo cada fila\n",
    "for fila in matrix:\n",
    "    print(fila)"
   ]
  },
  {
   "cell_type": "markdown",
   "id": "cca17f19",
   "metadata": {},
   "source": [
    "#### <span style='color:#F5A211'>Obteniendo una columna</span>\n",
    "\n",
    "De manera similar podríamos obtener una columna.\n",
    "\n",
    "```Python\n",
    "matrix[:,3] \n",
    "```\n",
    "\n",
    "En este caso accedemos a la columna 4. Observar que en este caso el acceso a los valores de una columna es solamente usando notación de slicing, no pueden dos corchetes."
   ]
  },
  {
   "cell_type": "code",
   "execution_count": null,
   "id": "4b48fd17",
   "metadata": {},
   "outputs": [],
   "source": [
    "print(matrix[:,3])\n",
    "print(matrix[:,3].shape)"
   ]
  },
  {
   "cell_type": "markdown",
   "id": "5341fa85",
   "metadata": {},
   "source": [
    "#### <span style='color:#F5A211'>Obteniendo una submatrix</span>\n",
    "\n",
    "Si quisiéramos podríamos obtener un pedazo de nuestra *matrix* a través de notación por slicing. Podríamos hacer.\n",
    "\n",
    "```Python\n",
    "matrix[3:5,4:6] \n",
    "```\n",
    "\n",
    "En el ejemplo anterior estamos haciendo un slicing desde los índices 3 a 5 (**sin incluir el 5**) en el axis 0 o dimensión 1, y desde los índices 4 a 6 (**sin incluir el 6**)."
   ]
  },
  {
   "cell_type": "code",
   "execution_count": null,
   "id": "de713345",
   "metadata": {},
   "outputs": [],
   "source": [
    "print(matrix[3:5,4:6])"
   ]
  },
  {
   "cell_type": "code",
   "execution_count": null,
   "id": "ef43de80",
   "metadata": {},
   "outputs": [],
   "source": [
    "print(matrix[3:6:2,3:6:2])"
   ]
  },
  {
   "cell_type": "markdown",
   "id": "e31252a1",
   "metadata": {},
   "source": [
    "<hr style=\"border:1px solid #16C79A\"> </hr>\n",
    "\n",
    "## <span style='color:#16C79A'>Filtrando nuestros arrays</span>\n",
    "\n",
    "Podemos filtrar nuestros arrays con máscaras o con la función *where()*. Si bien existen otros métodos, no los veremos en este curso."
   ]
  },
  {
   "cell_type": "markdown",
   "id": "dd6a987e",
   "metadata": {},
   "source": [
    "### <span style='color:#394867'>Filtrando arrays usando una máscara y *Fancy indexing*</span>\n",
    "\n",
    "Con numpy podemos crear máscaras (*masks*) para filtrar nuestros arrays. \n",
    "\n",
    "Una *mask* es una *lista cuyo valores son booleanos*. Podemos usar estas listas como índices de nuestro array y obtener uno nuevo filtrado.\n",
    "\n",
    "Podríamos crear máscaras para arreglos de cualquier dimensión."
   ]
  },
  {
   "cell_type": "code",
   "execution_count": null,
   "id": "c84b760a",
   "metadata": {},
   "outputs": [],
   "source": [
    "## Ejemplo con arreglo 2D\n",
    "array = np.arange(1,10)\n",
    "mask = array % 2 == 0\n",
    "print(mask)\n",
    "print(array[mask])\n",
    "## Un lujo asiático!"
   ]
  },
  {
   "cell_type": "markdown",
   "id": "835d2408",
   "metadata": {},
   "source": [
    "##### Ejemplo sobre señal de fotoplestimografía\n",
    "\n",
    "Supongamos que queremos filtrar nuestra señal de fotoplestimografía por encima de cierto valor, veamos."
   ]
  },
  {
   "cell_type": "code",
   "execution_count": null,
   "id": "31964480",
   "metadata": {},
   "outputs": [],
   "source": [
    "## Trabajando sobre señal de fotoplestimografía\n",
    "with open(\"files/pleth.npy\", \"rb\") as f: ## Veremos próximamente como cargar datos con numpy\n",
    "    plethArray = np.load(f)\n",
    "\n",
    "## Filtro la señal original    \n",
    "umbral = 0.5\n",
    "plethFiltered = plethArray[plethArray > umbral]"
   ]
  },
  {
   "cell_type": "code",
   "execution_count": null,
   "id": "dedcc940",
   "metadata": {},
   "outputs": [],
   "source": [
    "chop = plethFiltered[:125]\n",
    "plt.plot(np.arange(len(chop)), chop)\n",
    "plt.title(\"Señal pleth filtrada\\n por sobre umbral de 50% de absorbancia\")\n",
    "plt.show()"
   ]
  },
  {
   "cell_type": "markdown",
   "id": "44ad2c5c",
   "metadata": {},
   "source": [
    "### <span style='color:#394867'>Filtrando arrays usando *numpy.where()*</span>\n",
    "\n",
    "La función [*numpy.where()*](https://www.google.com/search?q=numpy.where&oq=numpy.where&aqs=chrome..69i57j0i512l2j0i30l2j0i15i30j69i60l2.2573j0j7&sourceid=chrome&ie=UTF-8) nos devuelve los índices del arreglo donde se cumple cierta condición. Su implementación es como sigue,\n",
    "\n",
    "```Python\n",
    "numpy.where(condition, [x, y, ]/)\n",
    "```\n",
    "\n",
    "La forma anterior de la implementación del constructor puede ser difícil de interpretar, veamos otra forma de cómo pasar los parámetros a la función.\n",
    "\n",
    "```Python\n",
    "numpy.where(condition, valor a reemplazar si condition es True, valor a reemplazar si condition es False)\n",
    "```\n",
    "\n",
    "Veamos esto con un ejemplo."
   ]
  },
  {
   "cell_type": "code",
   "execution_count": null,
   "id": "a1288b77",
   "metadata": {},
   "outputs": [],
   "source": [
    "array = np.arange(1,51,dtype = np.int8)\n",
    "print(array)"
   ]
  },
  {
   "cell_type": "code",
   "execution_count": null,
   "id": "48a048ad",
   "metadata": {},
   "outputs": [],
   "source": [
    "##reemplacemos con cero todos aquellos valores que sean divisibles por 3\n",
    "arrayFiltrado = np.where(array % 3 == 0, 0, array)\n",
    "print(arrayFiltrado)"
   ]
  },
  {
   "cell_type": "code",
   "execution_count": null,
   "id": "0b2b04a6",
   "metadata": {},
   "outputs": [],
   "source": [
    "##reemplazamos con uno todos los valores divisibles por 5 utilizando lambda\n",
    "dividorX5 = lambda x: x % 5 == 0\n",
    "arrayFiltrado = np.where(dividorX5(array), 1, array)\n",
    "print(arrayFiltrado)"
   ]
  },
  {
   "cell_type": "markdown",
   "id": "a34cd06a",
   "metadata": {},
   "source": [
    "Podemos usar la función where para obtener los índicies donde se cumple cierta condición. Es importante notar que esto **genera un array con los índices, y no con los valores**.\n",
    "\n",
    "Veamos"
   ]
  },
  {
   "cell_type": "code",
   "execution_count": null,
   "id": "7dad27b8",
   "metadata": {},
   "outputs": [],
   "source": [
    "print(np.where(array % 10 == 0))"
   ]
  },
  {
   "cell_type": "markdown",
   "id": "1c3090e5",
   "metadata": {},
   "source": [
    "Luego podríamos usar estos índices como máscara en nuestro array para obtener un nuevo array filtrado."
   ]
  },
  {
   "cell_type": "code",
   "execution_count": null,
   "id": "00808f16",
   "metadata": {},
   "outputs": [],
   "source": [
    "array[np.where(array % 10 == 0)]"
   ]
  },
  {
   "cell_type": "markdown",
   "id": "cd9bad1f",
   "metadata": {},
   "source": [
    "##### Filtrando a través de una columna\n",
    "\n",
    "Podríamos generar un filtro a partir de una de las columnas de una matriz. Para esto usaremos notación de slicing.\n",
    "\n",
    "Veamos."
   ]
  },
  {
   "cell_type": "code",
   "execution_count": null,
   "id": "038ab3e2",
   "metadata": {},
   "outputs": [],
   "source": [
    "valores = [ 1,2,3,4,5,6,7,\n",
    "            8,9,10,11,12,13,14,\n",
    "            15,16,17,8,19,20,21,\n",
    "            22,23,24,25,26,27,28,\n",
    "            29,30,31,32,33,34,35,\n",
    "            36,37,38,39,40,41,42]\n",
    "\n",
    "matrix = np.array(valores, dtype = np.int8).reshape(7,6)\n",
    "matrix"
   ]
  },
  {
   "cell_type": "code",
   "execution_count": null,
   "id": "a5e9d6cd",
   "metadata": {},
   "outputs": [],
   "source": [
    "## Supongamos que queremos obtener los índices de las filas que son\n",
    "## divisibles por 4 a partir de la cuarta columna de la matriz generada.\n",
    "\n",
    "indexes = np.where(matrix[:,3] % 4 == 0)\n",
    "indexes"
   ]
  },
  {
   "cell_type": "markdown",
   "id": "4ace1e9b",
   "metadata": {},
   "source": [
    "<mark>¿Y si quisieramos ver qué valores hay en los índices que obtuvimos?</mark>\n",
    "\n",
    "¡Esto es facil!\n",
    "\n",
    "Hay acceder mediante notación de slicing. Debemos notar que los índices obtenidos corresponden a las **filas**. En el ejemplo que estamos tratando, estas filas son la **0, 2, 4 y 6**. Por lo tanto, si quisieramos ver los valores que contienen deberíamos hacer un slicing de matrix pasando entre corchetes los índices correspondientes a la fila que hemos obtenido a partir de *where()* y decirle a qué columna acceder para devolver el dato.\n",
    "\n",
    "Recuerden que las filas corresponden al axis cero, y las columnas al axis 1.\n",
    "\n",
    "Con esto en mente, veamos qué valores son divisibles por 4 en la columna 4 de matrix."
   ]
  },
  {
   "cell_type": "code",
   "execution_count": null,
   "id": "0ff1b4b3",
   "metadata": {},
   "outputs": [],
   "source": [
    "print(f\"Los valores son {matrix[indexes,3]}\")"
   ]
  },
  {
   "cell_type": "markdown",
   "id": "90f5e55c",
   "metadata": {},
   "source": [
    "<mark>¿Y si quisieramos ver qué valores en más de una columna?</mark>\n",
    "\n",
    "Suponmgamos que hemos filtrado por la columa 4 de la matriz generada. Pero queremos ver qué valores tenemos en las columnas 3, 4 y 5. Esto lo hacemos con notación slicing de la siguiente manera."
   ]
  },
  {
   "cell_type": "code",
   "execution_count": null,
   "id": "c30b58c7",
   "metadata": {},
   "outputs": [],
   "source": [
    "print(f\"Los valores son\")\n",
    "print(matrix[indexes,2:5])"
   ]
  },
  {
   "cell_type": "markdown",
   "id": "8eb578f3",
   "metadata": {},
   "source": [
    "### <mark style=\"color: black; background-color:#FFE227\">**¡A practicar!**</mark>\n",
    "\n",
    "Ejercicio 3 de la guía práctica en teória."
   ]
  },
  {
   "cell_type": "markdown",
   "id": "591dfa2b",
   "metadata": {},
   "source": [
    "<hr style=\"border:1px solid #16C79A\"> </hr>\n",
    "\n",
    "## <span style='color:#16C79A'>*Summarazing* datos de arrays</span>\n",
    "\n",
    "Numpy posee entre sus muchos métodos, algunos que nos permiten obtener información del array, como ser su media, desvío estándar, valores máximos, mínimos, entre otros.\n",
    "\n",
    "Veamos algunos de estos métodos.\n",
    "\n",
    "- [numpy.sum](https://numpy.org/doc/stable/reference/generated/numpy.sum.html): Retorna la suma de los elementos a lo largo de un determinado axis/dimensión.\n",
    "- [numpy.ndarray.max](https://numpy.org/doc/stable/reference/generated/numpy.ndarray.max.html): Retorna los valores máximo a lo largo de un axis/dimensión.\n",
    "- [numpy.ndarray.min](https://numpy.org/doc/stable/reference/generated/numpy.ndarray.min.html): Retorna los valores mínimos a lo largo de un axis/dimensión.\n",
    "- [numpy.mean](https://numpy.org/doc/stable/reference/generated/numpy.mean.html): Retorna la media correspondiente a un áxis/dimensión en particular.\n",
    "- [numpy.cumsum](https://numpy.org/doc/stable/reference/generated/numpy.cumsum.html): Retorna la suma acumulada a lo largo de un axis/dimensión.\n",
    "\n",
    "Veamos algunos ejemplos de cada uno de estos arryas."
   ]
  },
  {
   "cell_type": "markdown",
   "id": "f18cbd26",
   "metadata": {},
   "source": [
    "Supongamos que tenemos un pequeño set de datos formado por tres clientes y la cantidad de eventos de *inseguridad* que ha sufrido a lo largo de cinco años.\n",
    "\n",
    "La tabla es la siguiente.\n",
    "\n",
    "<div>\n",
    "<img src=\"figs/clientes.png\" width=\"200\"/>\n",
    "</div>"
   ]
  },
  {
   "cell_type": "code",
   "execution_count": null,
   "id": "34578714",
   "metadata": {},
   "outputs": [],
   "source": [
    "## creamos nuestro array de clientes\n",
    "clientes = np.array((   [[0, 5, 1],\n",
    "                        [0, 2, 0],\n",
    "                        [1, 1, 2],\n",
    "                        [2, 2, 1],\n",
    "                        [0, 0, 0]]))"
   ]
  },
  {
   "cell_type": "code",
   "execution_count": null,
   "id": "d1ea91eb",
   "metadata": {},
   "outputs": [],
   "source": [
    "## ¿Cuantos eventos de inseguridad hemos tenido en los cinco años?\n",
    "np.sum(clientes)"
   ]
  },
  {
   "cell_type": "markdown",
   "id": "95988c31",
   "metadata": {},
   "source": [
    "#### <span style='color:#F5A211'>Cantidad de eventos por cada cliente</span>\n",
    "\n",
    "Con *numpy.sum()* hemos visto que hubieron 17 eventos de inseguridad en los 5 años.\n",
    "\n",
    "Podríamos querer saber cuantos eventos hubieron por cada cliente en estos 5 años. Para esto usaremos la función *numpy.sum()* pero especificaremos un axis.\n",
    "\n",
    "**Importante**\n",
    "\n",
    "- Si hacemos $axis = 0$ obtendremos una suma a lo largo de las **filas**.\n",
    "- Si hacemos $axis = 1$ obtendremos una suma a lo largo de las **columnas**.\n",
    "\n",
    "<div>\n",
    "<img src=\"figs/porCliente.png\" width=\"480\"/>\n",
    "</div>\n",
    "\n",
    "En este caso estamos trabajando una un array de dos dimensiones, pero podríamos con la misma lógica, operar arrays de mayor longitud."
   ]
  },
  {
   "cell_type": "code",
   "execution_count": null,
   "id": "a5092168",
   "metadata": {},
   "outputs": [],
   "source": [
    "## Eventos por cada cliente\n",
    "eventosPorCliente = clientes.sum(axis = 0)\n",
    "eventosPorCliente"
   ]
  },
  {
   "cell_type": "markdown",
   "id": "645e62ea",
   "metadata": {},
   "source": [
    "#### <span style='color:#F5A211'>Cantidad de eventos por año</span>\n",
    "\n",
    "De manera similar podríamos obtener la cantidad de eventos que hemos tenido cada año. Es decir, sumaremos los eventos por columna, por lo tanto sumaremos a través del $axis = 1$."
   ]
  },
  {
   "cell_type": "code",
   "execution_count": null,
   "id": "6107d18d",
   "metadata": {},
   "outputs": [],
   "source": [
    "## Eventos por cada cliente\n",
    "eventosPorAnio = clientes.sum(axis = 1)\n",
    "eventosPorAnio"
   ]
  },
  {
   "cell_type": "markdown",
   "id": "c8ea4b60",
   "metadata": {},
   "source": [
    "### <span style='color:#394867'>Agregando una columna a mis datos</span>\n",
    "\n",
    "Podríamos estar interesados en agregar una columna con la suma total de eventos por año a nuestro set de datos original. \n",
    "\n",
    "Numpy ofrece la función [*.concatenate()*](https://numpy.org/doc/stable/reference/generated/numpy.concatenate.html) para concatenar arrays a otros arrays. Es importante tener en cuenta que para poder concatenar arrays en una fila o en una columna, ambos arrays deben ser **compatibles**. La compatibilidad la dan las *shapes* de cada array. La imágen debajo muestra un ejemplo de dos arrays incompatibles y compatibles para concatenar.\n",
    "\n",
    "<div>\n",
    "<img src=\"figs/concatenate.png\" width=\"480\"/>\n",
    "</div>"
   ]
  },
  {
   "cell_type": "markdown",
   "id": "1cc8b26f",
   "metadata": {},
   "source": [
    "Si chequeamos la forma del array *eventosPorAnio* podremos ver que es (5,). Por lo tanto no podríamos concatenarla a la matriz clientes. \n",
    "\n",
    "¿Cómo podemos solucionar esto?\n",
    "\n",
    "Algunas funciones y métodos de Numpy poseen un atributo llamado *keepdims* el cual nos devuelve un array manteniendo las dimensiones originales.\n",
    "\n",
    "Veamos esto con la función *.sum()* para obtener la cantidad de eventos de inseguridad por año de la matriz clientes."
   ]
  },
  {
   "cell_type": "code",
   "execution_count": null,
   "id": "5ad1ada1",
   "metadata": {},
   "outputs": [],
   "source": [
    "eventosPorAnio = clientes.sum(axis = 1, keepdims = True)\n",
    "print(eventosPorAnio.shape)"
   ]
  },
  {
   "cell_type": "markdown",
   "id": "e3bcca05",
   "metadata": {},
   "source": [
    "Podemos ver que ahora la dimensión del array *eventosPorAnio* es (5, 1).\n",
    "\n",
    "Con esta shape podríamos concatenar estos datos como una nueva columna en la matriz clientes. Recordar que las columnas van en el axis = 1."
   ]
  },
  {
   "cell_type": "code",
   "execution_count": null,
   "id": "ba3cbd9d",
   "metadata": {},
   "outputs": [],
   "source": [
    "clientesActializado = np.concatenate((clientes, eventosPorAnio), axis = 1) #concatenamos en el axis = 1\n",
    "clientesActializado"
   ]
  },
  {
   "cell_type": "code",
   "execution_count": null,
   "id": "85a1aea7",
   "metadata": {},
   "outputs": [],
   "source": [
    "import matplotlib.pyplot as plt\n",
    "\n",
    "plt.plot(np.arange(1,len(clientesActializado[:,3])+1), clientesActializado[:,3])\n",
    "plt.title(\"Eventos anuales\")\n",
    "plt.ylabel(\"Número de eventos\")\n",
    "plt.xlabel(\"Año\")\n",
    "plt.show()"
   ]
  },
  {
   "cell_type": "markdown",
   "id": "6679b712",
   "metadata": {},
   "source": [
    "#### <span style='color:#F5A211'>Promedios de eventos por cliente y por año</span>\n",
    "\n",
    "Utilizando *numpy.mean()* podemos obtener los promedios de todo el array o bien de un axis en particular.\n",
    "\n",
    "Veamos."
   ]
  },
  {
   "cell_type": "code",
   "execution_count": null,
   "id": "01e02ce4",
   "metadata": {},
   "outputs": [],
   "source": [
    "## Promedio de eventos\n",
    "print(clientes.mean()) ##considera todos los valores, incluyendo los cero.\n",
    "\n",
    "## Promedio de eventos por cliente\n",
    "print(clientes.mean(axis = 0))\n",
    "\n",
    "## Promedio de eventos por año\n",
    "print(clientes.mean(axis = 1))"
   ]
  },
  {
   "cell_type": "markdown",
   "id": "cf0c8dbf",
   "metadata": {},
   "source": [
    "#### <span style='color:#F5A211'>Suma acumulada</span>\n",
    "\n",
    "Utilizando [*numpy.cumsum()*](https://numpy.org/doc/stable/reference/generated/numpy.cumsum.html) podemos encontrar la suma acumulada en los axis que querramos. Veamos."
   ]
  },
  {
   "cell_type": "code",
   "execution_count": null,
   "id": "888351d4",
   "metadata": {},
   "outputs": [],
   "source": [
    "clientes.cumsum(axis = 0)"
   ]
  },
  {
   "cell_type": "markdown",
   "id": "566246c9",
   "metadata": {},
   "source": [
    "Vemos que la suma acumulada en el axis cero nos arroja la suma de los valores de cada fila de manera acumulada. Por ejemplo, si tomamos la columna del cliente uno vemos que en el año 3 se tuvo 1 evento de inseguridad, en el año 4 se tuvo 2, por lo tanto, cumsum nos arroja un $1+2 = 3$ en la fila correspondiente al año 4 y nos deja un $3$ en el año 5 ya que $3+0 = 3$."
   ]
  },
  {
   "cell_type": "markdown",
   "id": "b7b764d1",
   "metadata": {},
   "source": [
    "<hr style=\"border:1px solid #16C79A\"> </hr>\n",
    "\n",
    "## <span style='color:#16C79A'>Operaciones vectorizadas</span>\n",
    "\n",
    "El concepto de operaciones vectorizadas en Numpy nos permite el uso de funciones pre compiladas y operaciones matemáticas de una manera óptima cuando trabajamos con ndarray.\n",
    "\n",
    "Recordemos que los *ndarray* Numpy suelen estar formados por datos *homogenéos* (del mismo tipo). Por otro lado, Numpy hace uso del lenguaje de bajo nicel llamado **C**, el cual se caracteriza por tener una administración muy eficiente de la memoria RAM. Estas características son las que dotan a Numpy de gran velocidad.\n",
    "\n",
    "Hemos estado usando operaciones vectorizadas desde el inicio del módulo. Por ejemplo, cuando hacemos,\n",
    "\n",
    "```Python\n",
    "np.arange(100000).sum()\n",
    "```\n",
    "\n",
    "Numpy no suma elemento a elemento, sino que lo hace todo de una sola vez. El hecho de delegar la tarea de realizar operaciones a *C*, significa **vectorización**.\n",
    "\n",
    "Esto último es sumamente potente, veamos algunos ejemplos."
   ]
  },
  {
   "cell_type": "code",
   "execution_count": null,
   "id": "faf91d75",
   "metadata": {},
   "outputs": [],
   "source": [
    "array = np.arange(1,20)\n",
    "\n",
    "## sumamos 10 a todos los elementos del array.\n",
    "print(array + 10)"
   ]
  },
  {
   "cell_type": "markdown",
   "id": "b117a6f9",
   "metadata": {},
   "source": [
    "Podríamos multiplicar arrays de iguales dimensiones. Numpy nos devolverá un arreglo nuevo donde el resultado es la multiplicación **elemento a elemento** de cada array. Veamos."
   ]
  },
  {
   "cell_type": "code",
   "execution_count": null,
   "id": "934b6018",
   "metadata": {},
   "outputs": [],
   "source": [
    "fullDos = np.full((2,3), 2)\n",
    "print(fullDos,\"\\n\")\n",
    "array = np.arange(1,7).reshape(2,3)\n",
    "print(array,\"\\n\")\n",
    "print(fullDos * array)"
   ]
  },
  {
   "cell_type": "markdown",
   "id": "4a14c3ed",
   "metadata": {},
   "source": [
    "### <span style='color:#394867'>Vectorizando nuestras propias funciones</span>\n",
    "\n",
    "Todos los métodos y funciones que posee Numpy ya están vectorizados. Pero podríamos vectorizar funciones propias la función [*numpy.vectorize()*](https://numpy.org/doc/stable/reference/generated/numpy.vectorize.html). La documentación oficial de *.vectorize()* dice,\n",
    "\n",
    "> “…Define a vectorized function which takes a nested sequence of objects or numpy arrays as inputs and returns a single numpy array or a tuple of numpy arrays. The vectorized function evaluates pyfunc over successive tuples of the input arrays like the python map function, except it uses the broadcasting rules of numpy…”\n",
    "\n",
    "Su constructor esta dada por,\n",
    "\n",
    "```Python\n",
    "class numpy.vectorize(pyfunc, otypes=None, doc=None, excluded=None, cache=False, signature=None)\n",
    "```\n",
    "\n",
    "Veamos un ejemplo de aplicación."
   ]
  },
  {
   "cell_type": "code",
   "execution_count": null,
   "id": "c595b6ea",
   "metadata": {},
   "outputs": [],
   "source": [
    "## Supongamos que quisieramos elevar al cuadrado valores divisibles por dos sino elevamos al cubo\n",
    "\n",
    "func = lambda x: x**2 if x % 2 == 0 else x**3\n",
    "\n",
    "funcVectorizada = np.vectorize(func) #vectorizamos func\n",
    "\n",
    "array = np.arange(1,50, dtype = np.int16)\n",
    "\n",
    "funcVectorizada(array)"
   ]
  },
  {
   "cell_type": "code",
   "execution_count": null,
   "id": "6b3a8693",
   "metadata": {},
   "outputs": [],
   "source": [
    "## otro ejemplo\n",
    "func = lambda x: 1 if x % 2 == 0 else 0\n",
    "\n",
    "funcVectorizada = np.vectorize(func) #vectorizamos func\n",
    "\n",
    "array = np.arange(1,50, dtype = np.int16)\n",
    "\n",
    "funcVectorizada(array)"
   ]
  },
  {
   "cell_type": "markdown",
   "id": "f04bb6dd",
   "metadata": {},
   "source": [
    "#### <span style='color:#F5A211'>Multiplicando arrays con los mismos chapes</span>\n",
    "\n",
    "Cuando multiplicamos dos arrayas del mismo tamaño, lo que sucede es una multiplicación elemento a elemento, como puede verse en el ejemplo anterior."
   ]
  },
  {
   "cell_type": "code",
   "execution_count": null,
   "id": "ec3cb1ec",
   "metadata": {},
   "outputs": [],
   "source": [
    "## Podríamos multiplicar arrays con las mismas shapes\n",
    "array = np.arange(0,10,dtype = np.int8).reshape(2,5)\n",
    "mask = np.full((2,5), 1/10)\n",
    "\n",
    "array * mask"
   ]
  },
  {
   "cell_type": "markdown",
   "id": "4f541930",
   "metadata": {},
   "source": [
    "<mark style=\"color: black; background-color:#FFE227\">**¡A practicar!**</mark>\n",
    "\n",
    "Ejercicio 4 de la guía práctica de teoría."
   ]
  },
  {
   "cell_type": "markdown",
   "id": "dcc44f57",
   "metadata": {},
   "source": [
    "<hr style=\"border:1px solid #16C79A\"> </hr>\n",
    "\n",
    "## <span style='color:#16C79A'>Broadcasting</span>\n",
    "\n",
    "[Broadcasting](https://numpy.org/doc/stable/user/basics.broadcasting.html) es una forma que tiene Numpy para operar con arrays multidimensionales que posean diferentes dimensiones.\n",
    "\n",
    "El broadcasting provee una forma de vectorizar las operaciones entre arrays de tal forma de que los loops ocurran a nivel de C en vez de Python. Esto optimiza drásticamente los resultados.\n",
    "\n",
    "¿Cual sería el resultado de la siguiente operación?"
   ]
  },
  {
   "cell_type": "markdown",
   "id": "94c731b6",
   "metadata": {},
   "source": [
    "<div>\n",
    "<img src=\"figs/broad1.png\" width=\"460\"/>\n",
    "</div>\n",
    "\n",
    "Los valores del array de menor dimensión se operan sobre el de mayor dimensión."
   ]
  },
  {
   "cell_type": "markdown",
   "id": "b2bd9f6f",
   "metadata": {},
   "source": [
    "Cuando realizamos una operación, por ejemplo de suma, de un número por un array multidimensional lo que hace Python implícitamente es broadcasting.\n",
    "\n",
    "<div>\n",
    "<img src=\"figs/broad2.png\" width=\"380\"/>\n",
    "</div>"
   ]
  },
  {
   "cell_type": "markdown",
   "id": "759048c4",
   "metadata": {},
   "source": [
    "Podemos usar broadcasting cuando las dimensiones –shape- son compatibles. Para esto debemos conocer las shapes de los array que queremos operar.\n",
    "\n",
    "Numpy chequea compatibilidad de **derecha a izquierda**.\n",
    "\n",
    "<div>\n",
    "<img src=\"figs/broad3.png\" width=\"180\"/>\n",
    "</div>\n",
    "\n",
    "Dos array poseen dimensiones compatibles si,\n",
    "\n",
    "- En el extremo derecho, uno de ellos tiene longitud de uno.\n",
    "- En el extremo derecho poseen la misma longitud.\n",
    "- Las demás dimensiones hacia la izquierda también tienen que ser iguales.\n",
    "\n",
    "Cuando se cumple lo anterior se dice que los arrays son *broadcastables*.\n",
    "\n",
    "Veamos algunos ejemplos."
   ]
  },
  {
   "cell_type": "code",
   "execution_count": null,
   "id": "981d533f",
   "metadata": {},
   "outputs": [],
   "source": [
    "## definimos un array de (2,5)\n",
    "array = np.arange(0,10,dtype = np.int8).reshape(2,5)\n",
    "\n",
    "## sumamos un 5 al array\n",
    "print(array+5)\n",
    "\n",
    "## multiplicamos por 5 el array\n",
    "print(array*5)\n",
    "\n",
    "## creamos un vector columna de dimensiones (2,1)\n",
    "col = np.array([1,2]).reshape(2,1)\n",
    "## multiplicamos array y col\n",
    "print(array*col)\n",
    "\n",
    "## creamos un vector fila de dimensión (5,)\n",
    "fil = np.arange(1,6)\n",
    "## multiplicamos array y fil\n",
    "print(array*fil)\n",
    "print()\n",
    "\n",
    "## Otro ejemplo\n",
    "a = np.arange(1,43).reshape(6,7)\n",
    "b = np.array([1,2,3,4,5,6,7]).reshape(1,7)\n",
    "print(a+b)"
   ]
  },
  {
   "cell_type": "markdown",
   "id": "05e62c30",
   "metadata": {},
   "source": [
    "<mark style=\"color: black; background-color:#FFE227\">**¡A practicar!**</mark>\n",
    "\n",
    "Ejercicio 5 de la guía práctica de teoría."
   ]
  },
  {
   "cell_type": "markdown",
   "id": "3e0d5f56",
   "metadata": {},
   "source": [
    "<hr style=\"border:1px solid #16C79A\"> </hr>\n",
    "\n",
    "## <span style='color:#16C79A'>Cargado y guardando datos con Numpy</span>\n",
    "\n",
    "Numpy ofrece métodos para cargar y leer archivos. Las extensiones que podemos manejar son,\n",
    "\n",
    ".csv\n",
    ".txt\n",
    ".pkl\n",
    ".npy\n",
    "\n",
    "Por lejos, la más eficiente son los archivos .npy.\n",
    "\n",
    "- La función [*numpy.load()*](https://numpy.org/doc/stable/reference/generated/numpy.load.html) nos permite cargar datos y guardarlos en un *ndarray*.\n",
    "- La función [*numpy.save()*](https://numpy.org/doc/stable/reference/generated/numpy.save.html) nos permite guardar en un archivo los datos que tengamos en un *ndarray*.\n",
    "\n",
    "La forma habitual de cargar algún archivo con las extensiones mencionadas es haciendo,\n",
    "\n",
    "```Python\n",
    "with open(\"files/logo.npy\", \"rb\") as f:\n",
    "    logo = np.load(f)\n",
    "```\n",
    "\n",
    "Por otro lado, para guardar los datos de un array en un archivo podemos hacer,\n",
    "\n",
    "```Python\n",
    "with open(\"files/logoFlipped.npy\", \"wb\") as f:\n",
    "    np.save(f, logoFlipped)\n",
    "```\n",
    "\n",
    "Veamos algunos ejemplos."
   ]
  },
  {
   "cell_type": "code",
   "execution_count": null,
   "id": "509e898a",
   "metadata": {},
   "outputs": [],
   "source": [
    "# Cargamos una imagen RGB\n",
    "with open(\"files/logo.npy\", \"rb\") as f:\n",
    "    logo = np.load(f)\n",
    "\n",
    "plt.imshow(logo)\n",
    "plt.show()"
   ]
  },
  {
   "cell_type": "code",
   "execution_count": null,
   "id": "93774dbd",
   "metadata": {},
   "outputs": [],
   "source": [
    "## cambiemos el fondo blanco del logo con np.where()\n",
    "logoOscuro = np.where(logo == 255, 50, logo)\n",
    "plt.imshow(logoOscuro)\n",
    "plt.show()"
   ]
  },
  {
   "cell_type": "code",
   "execution_count": null,
   "id": "b1ee1e27",
   "metadata": {},
   "outputs": [],
   "source": [
    "logoFlipped = np.flip(logo, axis = (0,1))\n",
    "plt.imshow(logoFlipped)\n",
    "plt.show()"
   ]
  },
  {
   "cell_type": "code",
   "execution_count": null,
   "id": "5ed491cb",
   "metadata": {},
   "outputs": [],
   "source": [
    "with open(\"files/logoFlipped.npy\", \"wb\") as f:\n",
    "    np.save(f, logoFlipped)"
   ]
  },
  {
   "cell_type": "markdown",
   "id": "7ec67893",
   "metadata": {},
   "source": [
    "<mark style=\"color: black; background-color:#FFE227\">**¡A practicar!**</mark>\n",
    "\n",
    "Ejercicio 6 de la guía práctica de teoría."
   ]
  },
  {
   "cell_type": "markdown",
   "id": "50f809d0",
   "metadata": {},
   "source": [
    "<hr style=\"border:1px solid #16C79A\"> </hr>\n",
    "\n",
    "## <span style='color:#16C79A'>Operaciones matriciales</span>\n",
    "\n",
    "Numpy ofrece algunas funciones matemáticas para operar matrices. Por ejemplo,\n",
    "\n",
    "- [numpy.dot()](https://numpy.org/doc/stable/reference/generated/numpy.dot.html)\n",
    "- [numpy.diag()](https://numpy.org/doc/stable/reference/generated/numpy.diag.html)\n",
    "- [numpy.transpose()](https://numpy.org/doc/stable/reference/generated/numpy.transpose.html)\n",
    "- [numpy.amax()](https://numpy.org/doc/stable/reference/generated/numpy.amax.html)\n",
    "- [numpy.amin()](https://numpy.org/doc/stable/reference/generated/numpy.amin.html)\n",
    "- [numpy.trace()]()"
   ]
  },
  {
   "cell_type": "markdown",
   "id": "020e5d74",
   "metadata": {},
   "source": [
    "#### <span style='color:#F5A211'>Máximos y mínimos de una matriz</span>\n",
    "\n",
    "Busquemos los máximos y mínimos absolutos de un array y por axis."
   ]
  },
  {
   "cell_type": "code",
   "execution_count": null,
   "id": "99e86c6c",
   "metadata": {},
   "outputs": [],
   "source": [
    "## definimos una matriz\n",
    "datos = [[5,6,7,8,10],\n",
    "         [-5,21,7,-8,-10],\n",
    "         [15,26,37,558,10],\n",
    "         [55,67,745,890,-100]]\n",
    "\n",
    "matrix = np.array([datos]).reshape(4,5)\n",
    "matrix"
   ]
  },
  {
   "cell_type": "code",
   "execution_count": null,
   "id": "46bca005",
   "metadata": {},
   "outputs": [],
   "source": [
    "## Valor máximo\n",
    "print(f\"El valor máximo de matrix es {np.amax(matrix)}\")\n",
    "\n",
    "## valores máximos por cada fila\n",
    "print(np.amax(matrix, axis = 0))\n",
    "\n",
    "## valores máximos por cada columna\n",
    "print(np.amax(matrix, axis = 1))"
   ]
  },
  {
   "cell_type": "code",
   "execution_count": null,
   "id": "0fd83c6f",
   "metadata": {},
   "outputs": [],
   "source": [
    "## Valor mínimo\n",
    "print(f\"El valor máximo de matrix es {np.amin(matrix)}\")\n",
    "\n",
    "## valores mínimos por cada fila\n",
    "print(np.amin(matrix, axis = 0))\n",
    "\n",
    "## valores mínimos por cada columna\n",
    "print(np.amin(matrix, axis = 1))"
   ]
  },
  {
   "cell_type": "markdown",
   "id": "cd20bdad",
   "metadata": {},
   "source": [
    "#### <span style='color:#F5A211'>Traspuesta de una matriz</span>\n",
    "\n",
    "Podemos obtener la traspuesta con la función *numpy.transpose()* o bien con el atributo *.T* propio del array.\n",
    "\n",
    "Veamos."
   ]
  },
  {
   "cell_type": "code",
   "execution_count": null,
   "id": "6776fd22",
   "metadata": {},
   "outputs": [],
   "source": [
    "print(np.transpose(matrix))\n",
    "print()\n",
    "print(matrix.T)"
   ]
  },
  {
   "cell_type": "markdown",
   "id": "313b49c5",
   "metadata": {},
   "source": [
    "#### <span style='color:#F5A211'>Obteniendo la diagonal de una matriz</span>\n",
    "    \n",
    "En ocasiones es útil obtener la diagonal principal de una matriz cuadrada. Esto lo hacemos con *numpy.diag()*"
   ]
  },
  {
   "cell_type": "code",
   "execution_count": null,
   "id": "f040d093",
   "metadata": {},
   "outputs": [],
   "source": [
    "matrix3x3 = np.arange(1,10).reshape(3,3)\n",
    "print(matrix3x3.shape, \"\\n\")\n",
    "print(matrix3x3, \"\\n\")\n",
    "print(np.diag(matrix3x3))"
   ]
  },
  {
   "cell_type": "markdown",
   "id": "dff40a67",
   "metadata": {},
   "source": [
    "#### <span style='color:#F5A211'>Producto punto</span>\n",
    "\n",
    "Podemos realizar producto puntos entre arrays. Recordar que para poder realizar un producto punto entre matrices, las mismas deben ser compatibles en filas y columnas."
   ]
  },
  {
   "cell_type": "code",
   "execution_count": null,
   "id": "a6fd3f10",
   "metadata": {},
   "outputs": [],
   "source": [
    "matrix3x3 = np.arange(1,10).reshape(3,3)\n",
    "vectorColumna = np.array([1,2,3]).reshape(3,1)\n",
    "\n",
    "productoPunto1 = matrix3x3.dot(vectorColumna)\n",
    "## podríamos hacer\n",
    "## np.dot(matrix3x3, vectorColumna)\n",
    "\n",
    "## Veamos el shape de productoPunto1\n",
    "print(productoPunto1.shape, \"\\n\") ##vemos que es un vector columna de 3x1\n",
    "print(productoPunto1)\n",
    "# print()\n",
    "\n",
    "## Producto con un vector fila\n",
    "vectorFila = np.array([1,2,3]).reshape(1,3)\n",
    "productoPunto2 = vectorFila.dot(matrix3x3)\n",
    "## Veamos el shape de productoPunto2\n",
    "print(productoPunto2.shape, \"\\n\") ##vemos que es un vector fila de 1x3\n",
    "print(productoPunto2)\n",
    "\n",
    "\n",
    "## Producto entre matrices\n",
    "matrix2x2 = np.array([[2,2],[2,2]])\n",
    "matrix2x3 = np.array([[2,2,2],[2,2,2]])\n",
    "print()\n",
    "\n",
    "## Veamos\n",
    "print(\"Producto punto entre matriz 2x2 y 2x3\", \"\\n\", matrix2x2.dot(matrix2x3))\n",
    "print()\n",
    "print(\"Producto punto entre matriz 2x3 y 3x3\", \"\\n\", matrix2x3.dot(matrix3x3))"
   ]
  },
  {
   "cell_type": "markdown",
   "id": "c09d98dd",
   "metadata": {},
   "source": [
    "<mark style=\"color: black; background-color:#FFE227\">**¡A practicar!**</mark>\n",
    "\n",
    "Ejercicio 6 de la guía práctica de teoría."
   ]
  },
  {
   "cell_type": "markdown",
   "id": "e4375f5d",
   "metadata": {},
   "source": [
    "<hr style=\"border:1px solid #EC4646\"> </hr>\n",
    "\n",
    "## <span style='color:#EC4646'>Comparando velocidades entre Numpy y funciones de Python</span>\n",
    "\n",
    "Las operaciones sobre elementos -sobre todo numéricos- que realiza Numpy es mucho más veloz que, por ejempo, la manipulación de elementos en una lista de python.\n",
    "\n",
    "Veamos algunos ejemplos."
   ]
  },
  {
   "cell_type": "code",
   "execution_count": null,
   "id": "595e6ed0",
   "metadata": {},
   "outputs": [],
   "source": [
    "## Trabajando con listas\n",
    "%time lista = [*range(-5000000,5001)]\n",
    "%time array = np.arange(-5000000,5001)\n",
    "# print(f\"Largo de la lista {len(lista)}\")"
   ]
  },
  {
   "cell_type": "markdown",
   "id": "ddea3234",
   "metadata": {},
   "source": [
    "Vemos que la creación de una lista lleva más tiempo que la creación de un array, aún si poseen las mismas longitudes.\n",
    "\n",
    "\n",
    "##### Recorriendo la lista con for\n",
    "\n",
    "Ahora recorramos cada valor de la lista en un *for* y hagamos el valor absoluto de cada elemento."
   ]
  },
  {
   "cell_type": "code",
   "execution_count": null,
   "id": "7be70ab0",
   "metadata": {},
   "outputs": [],
   "source": [
    "%%time\n",
    "for i in range(len(lista)):\n",
    "    lista[i] = abs(lista[i])"
   ]
  },
  {
   "cell_type": "markdown",
   "id": "fd115df0",
   "metadata": {},
   "source": [
    "##### Usando list comprehension.\n",
    "\n",
    "Hagamos lo mismo ahora pero con  list comprehension."
   ]
  },
  {
   "cell_type": "code",
   "execution_count": null,
   "id": "2f7df4e1",
   "metadata": {},
   "outputs": [],
   "source": [
    "%%time\n",
    "lista = [abs(valor) for valor in lista]"
   ]
  },
  {
   "cell_type": "markdown",
   "id": "dcd24107",
   "metadata": {},
   "source": [
    "##### Usando numpy\n",
    "\n",
    "Veamos que usando array de numpy podemos obtener procesos más veloces."
   ]
  },
  {
   "cell_type": "code",
   "execution_count": null,
   "id": "364af334",
   "metadata": {},
   "outputs": [],
   "source": [
    "%%time\n",
    "array = np.abs(array)"
   ]
  },
  {
   "cell_type": "markdown",
   "id": "024b3f8e",
   "metadata": {},
   "source": [
    "### <span style='color:#394867'>Cargando archivos</span>\n",
    "\n",
    "Veamos ahora las diferencias de velocidades para cargar los datos de la señal de fotoplestimografía que hemos usado en clases anteriores. En primer lugar cargamos el archivo y recorremos los valores cargados para pasarlos de string a flotantes.\n",
    "\n",
    "Luego cargamos los datos directamente desde un archivo npy para comparar las diferencias en velocidades."
   ]
  },
  {
   "cell_type": "code",
   "execution_count": null,
   "id": "358921c5",
   "metadata": {},
   "outputs": [],
   "source": [
    "%%time\n",
    "file = open(\"files/pleth.txt\", \"r\")\n",
    "plethTxt = []\n",
    "for valor in file.read().split():\n",
    "    plethTxt.append(float(valor))"
   ]
  },
  {
   "cell_type": "code",
   "execution_count": null,
   "id": "4d6e4b24",
   "metadata": {},
   "outputs": [],
   "source": [
    "%%time\n",
    "with open(\"files/pleth.npy\", \"rb\") as f:\n",
    "    plethArray = np.load(f)"
   ]
  },
  {
   "cell_type": "markdown",
   "id": "796d2cff",
   "metadata": {},
   "source": [
    "<hr style=\"border:1px solid #FFE227\"> </hr>\n",
    "\n",
    "## Final Jupyter"
   ]
  },
  {
   "cell_type": "markdown",
   "id": "613d3e5b",
   "metadata": {},
   "source": []
  }
 ],
 "metadata": {
  "kernelspec": {
   "display_name": "Python [conda env:pda]",
   "language": "python",
   "name": "conda-env-pda-py"
  },
  "language_info": {
   "codemirror_mode": {
    "name": "ipython",
    "version": 3
   },
   "file_extension": ".py",
   "mimetype": "text/x-python",
   "name": "python",
   "nbconvert_exporter": "python",
   "pygments_lexer": "ipython3",
   "version": "3.10.0"
  }
 },
 "nbformat": 4,
 "nbformat_minor": 5
}
